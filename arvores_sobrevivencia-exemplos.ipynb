{
 "cells": [
  {
   "cell_type": "markdown",
   "id": "07598356",
   "metadata": {},
   "source": [
    "### Construindo árvores de sobrevivência"
   ]
  },
  {
   "cell_type": "code",
   "execution_count": 1,
   "id": "64a1ddb8",
   "metadata": {
    "ExecuteTime": {
     "end_time": "2023-12-07T23:29:05.881354Z",
     "start_time": "2023-12-07T23:28:59.802575Z"
    }
   },
   "outputs": [],
   "source": [
    "import pandas as pd\n",
    "from sksurv.tree import SurvivalTree\n",
    "from sksurv.linear_model import CoxPHSurvivalAnalysis\n",
    "from sklearn.model_selection import GridSearchCV, train_test_split\n",
    "import seaborn as sns\n",
    "import matplotlib.pyplot as plt\n",
    "from sksurv.datasets import get_x_y\n",
    "from sksurv.tree import SurvivalTree\n",
    "from sksurv.ensemble import RandomSurvivalForest, GradientBoostingSurvivalAnalysis\n",
    "from sksurv.metrics import brier_score, concordance_index_censored\n",
    "import plot_survival_tree\n",
    "from lifelines import KaplanMeierFitter\n",
    "from itertools import combinations, chain, product"
   ]
  },
  {
   "cell_type": "markdown",
   "id": "233c5c27",
   "metadata": {},
   "source": [
    "Funções:"
   ]
  },
  {
   "cell_type": "code",
   "execution_count": 2,
   "id": "c5f7d4ae",
   "metadata": {
    "ExecuteTime": {
     "end_time": "2023-12-07T23:29:05.898049Z",
     "start_time": "2023-12-07T23:29:05.894977Z"
    }
   },
   "outputs": [],
   "source": [
    "transform_int = lambda x: 1 if x == 'Sim' else 0"
   ]
  },
  {
   "cell_type": "code",
   "execution_count": 3,
   "id": "4a74dfa9",
   "metadata": {
    "ExecuteTime": {
     "end_time": "2023-12-07T23:29:05.912393Z",
     "start_time": "2023-12-07T23:29:05.909784Z"
    }
   },
   "outputs": [],
   "source": [
    "transform_int_in_english = lambda x: 1 if x == 'Yes' else 0"
   ]
  },
  {
   "cell_type": "code",
   "execution_count": 4,
   "id": "dd2f1663",
   "metadata": {
    "ExecuteTime": {
     "end_time": "2023-12-07T23:29:05.929274Z",
     "start_time": "2023-12-07T23:29:05.925966Z"
    }
   },
   "outputs": [],
   "source": [
    "def transform_in_dummies(df, categorical_cols):\n",
    "    df_dummies = pd.get_dummies(df[categorical_cols], drop_first=True)\n",
    "    dummies_cols = df_dummies.columns\n",
    "    return list(dummies_cols), df_dummies"
   ]
  },
  {
   "cell_type": "markdown",
   "id": "a64d956c",
   "metadata": {},
   "source": [
    "Lendo os dados:"
   ]
  },
  {
   "cell_type": "code",
   "execution_count": 5,
   "id": "5b111119",
   "metadata": {
    "ExecuteTime": {
     "end_time": "2023-12-07T23:29:05.958148Z",
     "start_time": "2023-12-07T23:29:05.940937Z"
    }
   },
   "outputs": [],
   "source": [
    "df = pd.read_csv(\"/Users/vinicius.oliveira/Downloads/ICESPv1.csv\")"
   ]
  },
  {
   "cell_type": "code",
   "execution_count": 6,
   "id": "76b3f825",
   "metadata": {
    "ExecuteTime": {
     "end_time": "2023-12-07T23:29:07.670414Z",
     "start_time": "2023-12-07T23:29:07.664532Z"
    }
   },
   "outputs": [
    {
     "data": {
      "text/plain": [
       "(793, 33)"
      ]
     },
     "execution_count": 6,
     "metadata": {},
     "output_type": "execute_result"
    }
   ],
   "source": [
    "df.shape"
   ]
  },
  {
   "cell_type": "markdown",
   "id": "20f093a5",
   "metadata": {},
   "source": [
    "Tratamentos iniciais:"
   ]
  },
  {
   "cell_type": "code",
   "execution_count": 6,
   "id": "36728512",
   "metadata": {
    "ExecuteTime": {
     "end_time": "2023-11-13T18:50:06.695902Z",
     "start_time": "2023-11-13T18:50:06.690389Z"
    }
   },
   "outputs": [],
   "source": [
    "df['insuf_cardiaca'] = df['insuf_cardiaca3e4'].apply(lambda x: 1 if x == 'I/II' else 0)"
   ]
  },
  {
   "cell_type": "code",
   "execution_count": 7,
   "id": "ffc6f9bc",
   "metadata": {
    "ExecuteTime": {
     "end_time": "2023-11-13T18:50:06.720337Z",
     "start_time": "2023-11-13T18:50:06.716805Z"
    }
   },
   "outputs": [],
   "source": [
    "df['tipo_cirurgia'] = df['tipo_cirurgia'].apply(lambda x: 'Nao' if type(x) == float else x)"
   ]
  },
  {
   "cell_type": "code",
   "execution_count": 8,
   "id": "5260b2ad",
   "metadata": {
    "ExecuteTime": {
     "end_time": "2023-11-13T18:50:07.308921Z",
     "start_time": "2023-11-13T18:50:07.305150Z"
    }
   },
   "outputs": [],
   "source": [
    "df['tipo_quimioterapia'] = df['tipo_quimioterapia'].apply(lambda x: 'Nao' if type(x) == float else x)"
   ]
  },
  {
   "cell_type": "code",
   "execution_count": 9,
   "id": "37192343",
   "metadata": {
    "ExecuteTime": {
     "end_time": "2023-11-13T18:50:07.544566Z",
     "start_time": "2023-11-13T18:50:07.540240Z"
    }
   },
   "outputs": [],
   "source": [
    "df['tipo_radioterapia'] = df['tipo_radioterapia'].apply(lambda x: 'Nao' if type(x) == float else x)"
   ]
  },
  {
   "cell_type": "code",
   "execution_count": 10,
   "id": "117c4343",
   "metadata": {
    "ExecuteTime": {
     "end_time": "2023-11-13T18:50:07.993314Z",
     "start_time": "2023-11-13T18:50:07.987305Z"
    }
   },
   "outputs": [],
   "source": [
    "meanQV0 = np.mean(df['QV.0'])\n",
    "df['QV.0'] = df['QV.0'].apply(lambda x: meanQV0 if np.isnan(x) else x)"
   ]
  },
  {
   "cell_type": "code",
   "execution_count": 11,
   "id": "b4bb58a0",
   "metadata": {
    "ExecuteTime": {
     "end_time": "2023-11-13T18:50:08.415773Z",
     "start_time": "2023-11-13T18:50:08.412592Z"
    }
   },
   "outputs": [],
   "source": [
    "df['event'] = df['delta'].astype(bool)"
   ]
  },
  {
   "cell_type": "markdown",
   "id": "6509e8ac",
   "metadata": {},
   "source": [
    "Lendo o dataset:"
   ]
  },
  {
   "cell_type": "code",
   "execution_count": 12,
   "id": "339278e7",
   "metadata": {
    "ExecuteTime": {
     "end_time": "2023-11-13T18:50:09.249622Z",
     "start_time": "2023-11-13T18:50:09.223982Z"
    }
   },
   "outputs": [
    {
     "data": {
      "text/html": [
       "<div>\n",
       "<style scoped>\n",
       "    .dataframe tbody tr th:only-of-type {\n",
       "        vertical-align: middle;\n",
       "    }\n",
       "\n",
       "    .dataframe tbody tr th {\n",
       "        vertical-align: top;\n",
       "    }\n",
       "\n",
       "    .dataframe thead th {\n",
       "        text-align: right;\n",
       "    }\n",
       "</style>\n",
       "<table border=\"1\" class=\"dataframe\">\n",
       "  <thead>\n",
       "    <tr style=\"text-align: right;\">\n",
       "      <th></th>\n",
       "      <th>Unnamed: 0</th>\n",
       "      <th>idpac</th>\n",
       "      <th>idade</th>\n",
       "      <th>sexo</th>\n",
       "      <th>imc</th>\n",
       "      <th>imc_cat</th>\n",
       "      <th>insuf_renal</th>\n",
       "      <th>insuf_resp</th>\n",
       "      <th>cirrose</th>\n",
       "      <th>alcoolismo</th>\n",
       "      <th>...</th>\n",
       "      <th>hospit_antes_uti</th>\n",
       "      <th>QV.0</th>\n",
       "      <th>QV.0Cat</th>\n",
       "      <th>SAPS3_Pontos</th>\n",
       "      <th>SAPS3cat</th>\n",
       "      <th>tempo</th>\n",
       "      <th>delta</th>\n",
       "      <th>centro</th>\n",
       "      <th>insuf_cardiaca</th>\n",
       "      <th>event</th>\n",
       "    </tr>\n",
       "  </thead>\n",
       "  <tbody>\n",
       "    <tr>\n",
       "      <th>0</th>\n",
       "      <td>1</td>\n",
       "      <td>001/0001</td>\n",
       "      <td>29.876712</td>\n",
       "      <td>F</td>\n",
       "      <td>16.135394</td>\n",
       "      <td>Underweight</td>\n",
       "      <td>Nao</td>\n",
       "      <td>Nao</td>\n",
       "      <td>Nao</td>\n",
       "      <td>Nao</td>\n",
       "      <td>...</td>\n",
       "      <td>0</td>\n",
       "      <td>0.725</td>\n",
       "      <td>0.6 to 0.8</td>\n",
       "      <td>46</td>\n",
       "      <td>[38,54)</td>\n",
       "      <td>240</td>\n",
       "      <td>1</td>\n",
       "      <td>ICESP</td>\n",
       "      <td>1</td>\n",
       "      <td>True</td>\n",
       "    </tr>\n",
       "    <tr>\n",
       "      <th>1</th>\n",
       "      <td>2</td>\n",
       "      <td>001/0002</td>\n",
       "      <td>26.945205</td>\n",
       "      <td>M</td>\n",
       "      <td>26.122449</td>\n",
       "      <td>Overweight</td>\n",
       "      <td>Nao</td>\n",
       "      <td>Nao</td>\n",
       "      <td>Nao</td>\n",
       "      <td>Nao</td>\n",
       "      <td>...</td>\n",
       "      <td>1</td>\n",
       "      <td>0.088</td>\n",
       "      <td>&lt;0.4</td>\n",
       "      <td>65</td>\n",
       "      <td>[54,93]</td>\n",
       "      <td>731</td>\n",
       "      <td>0</td>\n",
       "      <td>ICESP</td>\n",
       "      <td>1</td>\n",
       "      <td>False</td>\n",
       "    </tr>\n",
       "    <tr>\n",
       "      <th>2</th>\n",
       "      <td>3</td>\n",
       "      <td>001/0003</td>\n",
       "      <td>76.364384</td>\n",
       "      <td>M</td>\n",
       "      <td>27.440599</td>\n",
       "      <td>Overweight</td>\n",
       "      <td>Nao</td>\n",
       "      <td>Nao</td>\n",
       "      <td>Nao</td>\n",
       "      <td>Nao</td>\n",
       "      <td>...</td>\n",
       "      <td>1</td>\n",
       "      <td>0.850</td>\n",
       "      <td>0.8 to 1.0</td>\n",
       "      <td>38</td>\n",
       "      <td>[38,54)</td>\n",
       "      <td>730</td>\n",
       "      <td>0</td>\n",
       "      <td>ICESP</td>\n",
       "      <td>1</td>\n",
       "      <td>False</td>\n",
       "    </tr>\n",
       "    <tr>\n",
       "      <th>3</th>\n",
       "      <td>4</td>\n",
       "      <td>001/0004</td>\n",
       "      <td>71.676712</td>\n",
       "      <td>M</td>\n",
       "      <td>24.382716</td>\n",
       "      <td>Healthy weight</td>\n",
       "      <td>Nao</td>\n",
       "      <td>Nao</td>\n",
       "      <td>Nao</td>\n",
       "      <td>Nao</td>\n",
       "      <td>...</td>\n",
       "      <td>4</td>\n",
       "      <td>0.710</td>\n",
       "      <td>0.6 to 0.8</td>\n",
       "      <td>66</td>\n",
       "      <td>[54,93]</td>\n",
       "      <td>7</td>\n",
       "      <td>1</td>\n",
       "      <td>ICESP</td>\n",
       "      <td>1</td>\n",
       "      <td>True</td>\n",
       "    </tr>\n",
       "    <tr>\n",
       "      <th>4</th>\n",
       "      <td>5</td>\n",
       "      <td>001/0005</td>\n",
       "      <td>25.783562</td>\n",
       "      <td>M</td>\n",
       "      <td>18.113754</td>\n",
       "      <td>Underweight</td>\n",
       "      <td>Nao</td>\n",
       "      <td>Nao</td>\n",
       "      <td>Nao</td>\n",
       "      <td>Nao</td>\n",
       "      <td>...</td>\n",
       "      <td>3</td>\n",
       "      <td>-0.181</td>\n",
       "      <td>&lt;0.4</td>\n",
       "      <td>44</td>\n",
       "      <td>[38,54)</td>\n",
       "      <td>201</td>\n",
       "      <td>1</td>\n",
       "      <td>ICESP</td>\n",
       "      <td>1</td>\n",
       "      <td>True</td>\n",
       "    </tr>\n",
       "  </tbody>\n",
       "</table>\n",
       "<p>5 rows × 35 columns</p>\n",
       "</div>"
      ],
      "text/plain": [
       "   Unnamed: 0     idpac      idade sexo        imc         imc_cat  \\\n",
       "0           1  001/0001  29.876712    F  16.135394     Underweight   \n",
       "1           2  001/0002  26.945205    M  26.122449      Overweight   \n",
       "2           3  001/0003  76.364384    M  27.440599      Overweight   \n",
       "3           4  001/0004  71.676712    M  24.382716  Healthy weight   \n",
       "4           5  001/0005  25.783562    M  18.113754     Underweight   \n",
       "\n",
       "  insuf_renal insuf_resp cirrose alcoolismo  ... hospit_antes_uti   QV.0  \\\n",
       "0         Nao        Nao     Nao        Nao  ...                0  0.725   \n",
       "1         Nao        Nao     Nao        Nao  ...                1  0.088   \n",
       "2         Nao        Nao     Nao        Nao  ...                1  0.850   \n",
       "3         Nao        Nao     Nao        Nao  ...                4  0.710   \n",
       "4         Nao        Nao     Nao        Nao  ...                3 -0.181   \n",
       "\n",
       "      QV.0Cat SAPS3_Pontos SAPS3cat tempo delta centro insuf_cardiaca  event  \n",
       "0  0.6 to 0.8           46  [38,54)   240     1  ICESP              1   True  \n",
       "1        <0.4           65  [54,93]   731     0  ICESP              1  False  \n",
       "2  0.8 to 1.0           38  [38,54)   730     0  ICESP              1  False  \n",
       "3  0.6 to 0.8           66  [54,93]     7     1  ICESP              1   True  \n",
       "4        <0.4           44  [38,54)   201     1  ICESP              1   True  \n",
       "\n",
       "[5 rows x 35 columns]"
      ]
     },
     "execution_count": 12,
     "metadata": {},
     "output_type": "execute_result"
    }
   ],
   "source": [
    "df.head()"
   ]
  },
  {
   "cell_type": "markdown",
   "id": "ffec5947",
   "metadata": {},
   "source": [
    "Definindo alguns conjuntos de covariáveis:"
   ]
  },
  {
   "cell_type": "code",
   "execution_count": 13,
   "id": "43a37a99",
   "metadata": {
    "ExecuteTime": {
     "end_time": "2023-11-13T18:50:10.104445Z",
     "start_time": "2023-11-13T18:50:10.100493Z"
    }
   },
   "outputs": [],
   "source": [
    "lstSimNao = ['insuf_renal', \n",
    "             'insuf_resp', \n",
    "             'cirrose', \n",
    "             'alcoolismo'\n",
    "             #'cirurgia',\n",
    "             #'quimioterapia',\n",
    "             #'radioterapia'\n",
    "            ]\n",
    "\n",
    "lstYesNo = ['diabetesSN',\n",
    "            'deliriumSN']\n",
    "\n",
    "lstCategorical = ['sexo',\n",
    "                  'tipoadm',\n",
    "                  'site_primario',\n",
    "                  'status_cancer',\n",
    "                  'extensao_cancer',\n",
    "                  'tipo_cirurgia',\n",
    "                  'tipo_quimioterapia',\n",
    "                  'tipo_radioterapia']\n",
    "\n",
    "lstNum = ['insuf_cardiaca',\n",
    "          'idade', \n",
    "          'imc',\n",
    "          'QV.0',\n",
    "          'SAPS3_Pontos',\n",
    "          'capac_func_ecog',\n",
    "          'hospit_antes_uti']"
   ]
  },
  {
   "cell_type": "code",
   "execution_count": 14,
   "id": "4533842c",
   "metadata": {
    "ExecuteTime": {
     "end_time": "2023-11-13T18:50:10.442454Z",
     "start_time": "2023-11-13T18:50:10.435345Z"
    }
   },
   "outputs": [],
   "source": [
    "for col in lstSimNao:\n",
    "    \n",
    "    df[col] = df[col].apply(transform_int)"
   ]
  },
  {
   "cell_type": "code",
   "execution_count": 15,
   "id": "3da7615b",
   "metadata": {
    "ExecuteTime": {
     "end_time": "2023-11-13T18:50:10.872046Z",
     "start_time": "2023-11-13T18:50:10.867472Z"
    }
   },
   "outputs": [],
   "source": [
    "for col in lstYesNo:\n",
    "    \n",
    "    df[col] = df[col].apply(transform_int_in_english)"
   ]
  },
  {
   "cell_type": "code",
   "execution_count": 16,
   "id": "ab0233f7",
   "metadata": {
    "ExecuteTime": {
     "end_time": "2023-11-13T18:50:11.546599Z",
     "start_time": "2023-11-13T18:50:11.531720Z"
    }
   },
   "outputs": [],
   "source": [
    "lstDummies, df_dummies = transform_in_dummies(df, lstCategorical)"
   ]
  },
  {
   "cell_type": "code",
   "execution_count": 17,
   "id": "75285978",
   "metadata": {
    "ExecuteTime": {
     "end_time": "2023-11-13T18:50:12.034534Z",
     "start_time": "2023-11-13T18:50:12.022917Z"
    }
   },
   "outputs": [],
   "source": [
    "df[lstDummies] = df_dummies"
   ]
  },
  {
   "cell_type": "code",
   "execution_count": 18,
   "id": "72cc13c1",
   "metadata": {
    "ExecuteTime": {
     "end_time": "2023-11-13T18:50:12.592538Z",
     "start_time": "2023-11-13T18:50:12.529347Z"
    }
   },
   "outputs": [
    {
     "data": {
      "text/html": [
       "<div>\n",
       "<style scoped>\n",
       "    .dataframe tbody tr th:only-of-type {\n",
       "        vertical-align: middle;\n",
       "    }\n",
       "\n",
       "    .dataframe tbody tr th {\n",
       "        vertical-align: top;\n",
       "    }\n",
       "\n",
       "    .dataframe thead th {\n",
       "        text-align: right;\n",
       "    }\n",
       "</style>\n",
       "<table border=\"1\" class=\"dataframe\">\n",
       "  <thead>\n",
       "    <tr style=\"text-align: right;\">\n",
       "      <th></th>\n",
       "      <th>sexo_M</th>\n",
       "      <th>tipoadm_Emergency</th>\n",
       "      <th>tipoadm_Medical</th>\n",
       "      <th>site_primario_breast</th>\n",
       "      <th>site_primario_digestive tract</th>\n",
       "      <th>site_primario_genital system</th>\n",
       "      <th>site_primario_hematological</th>\n",
       "      <th>site_primario_oral cavity and pharynx</th>\n",
       "      <th>site_primario_other/undeterm</th>\n",
       "      <th>site_primario_respiratory system</th>\n",
       "      <th>...</th>\n",
       "      <th>status_cancer_Controlado_remissao</th>\n",
       "      <th>extensao_cancer_Limitado</th>\n",
       "      <th>extensao_cancer_Localmente avancado</th>\n",
       "      <th>extensao_cancer_Metastase a distancia</th>\n",
       "      <th>tipo_cirurgia_Nao</th>\n",
       "      <th>tipo_cirurgia_Paliativa</th>\n",
       "      <th>tipo_quimioterapia_Nao</th>\n",
       "      <th>tipo_quimioterapia_Paliativa</th>\n",
       "      <th>tipo_radioterapia_Nao</th>\n",
       "      <th>tipo_radioterapia_Paliativa</th>\n",
       "    </tr>\n",
       "  </thead>\n",
       "  <tbody>\n",
       "    <tr>\n",
       "      <th>count</th>\n",
       "      <td>793.000000</td>\n",
       "      <td>793.000000</td>\n",
       "      <td>793.000000</td>\n",
       "      <td>793.000000</td>\n",
       "      <td>793.000000</td>\n",
       "      <td>793.000000</td>\n",
       "      <td>793.000000</td>\n",
       "      <td>793.000000</td>\n",
       "      <td>793.000000</td>\n",
       "      <td>793.000000</td>\n",
       "      <td>...</td>\n",
       "      <td>793.000000</td>\n",
       "      <td>793.000000</td>\n",
       "      <td>793.000000</td>\n",
       "      <td>793.000000</td>\n",
       "      <td>793.000000</td>\n",
       "      <td>793.000000</td>\n",
       "      <td>793.000000</td>\n",
       "      <td>793.000000</td>\n",
       "      <td>793.000000</td>\n",
       "      <td>793.000000</td>\n",
       "    </tr>\n",
       "    <tr>\n",
       "      <th>mean</th>\n",
       "      <td>0.577554</td>\n",
       "      <td>0.050441</td>\n",
       "      <td>0.442623</td>\n",
       "      <td>0.063052</td>\n",
       "      <td>0.350567</td>\n",
       "      <td>0.123581</td>\n",
       "      <td>0.081967</td>\n",
       "      <td>0.071879</td>\n",
       "      <td>0.090794</td>\n",
       "      <td>0.069357</td>\n",
       "      <td>...</td>\n",
       "      <td>0.061791</td>\n",
       "      <td>0.325347</td>\n",
       "      <td>0.358134</td>\n",
       "      <td>0.298865</td>\n",
       "      <td>0.393443</td>\n",
       "      <td>0.071879</td>\n",
       "      <td>0.619168</td>\n",
       "      <td>0.108449</td>\n",
       "      <td>0.784363</td>\n",
       "      <td>0.031526</td>\n",
       "    </tr>\n",
       "    <tr>\n",
       "      <th>std</th>\n",
       "      <td>0.494261</td>\n",
       "      <td>0.218992</td>\n",
       "      <td>0.497010</td>\n",
       "      <td>0.243209</td>\n",
       "      <td>0.477449</td>\n",
       "      <td>0.329311</td>\n",
       "      <td>0.274488</td>\n",
       "      <td>0.258450</td>\n",
       "      <td>0.287498</td>\n",
       "      <td>0.254220</td>\n",
       "      <td>...</td>\n",
       "      <td>0.240927</td>\n",
       "      <td>0.468800</td>\n",
       "      <td>0.479754</td>\n",
       "      <td>0.458049</td>\n",
       "      <td>0.488822</td>\n",
       "      <td>0.258450</td>\n",
       "      <td>0.485898</td>\n",
       "      <td>0.311143</td>\n",
       "      <td>0.411523</td>\n",
       "      <td>0.174844</td>\n",
       "    </tr>\n",
       "    <tr>\n",
       "      <th>min</th>\n",
       "      <td>0.000000</td>\n",
       "      <td>0.000000</td>\n",
       "      <td>0.000000</td>\n",
       "      <td>0.000000</td>\n",
       "      <td>0.000000</td>\n",
       "      <td>0.000000</td>\n",
       "      <td>0.000000</td>\n",
       "      <td>0.000000</td>\n",
       "      <td>0.000000</td>\n",
       "      <td>0.000000</td>\n",
       "      <td>...</td>\n",
       "      <td>0.000000</td>\n",
       "      <td>0.000000</td>\n",
       "      <td>0.000000</td>\n",
       "      <td>0.000000</td>\n",
       "      <td>0.000000</td>\n",
       "      <td>0.000000</td>\n",
       "      <td>0.000000</td>\n",
       "      <td>0.000000</td>\n",
       "      <td>0.000000</td>\n",
       "      <td>0.000000</td>\n",
       "    </tr>\n",
       "    <tr>\n",
       "      <th>25%</th>\n",
       "      <td>0.000000</td>\n",
       "      <td>0.000000</td>\n",
       "      <td>0.000000</td>\n",
       "      <td>0.000000</td>\n",
       "      <td>0.000000</td>\n",
       "      <td>0.000000</td>\n",
       "      <td>0.000000</td>\n",
       "      <td>0.000000</td>\n",
       "      <td>0.000000</td>\n",
       "      <td>0.000000</td>\n",
       "      <td>...</td>\n",
       "      <td>0.000000</td>\n",
       "      <td>0.000000</td>\n",
       "      <td>0.000000</td>\n",
       "      <td>0.000000</td>\n",
       "      <td>0.000000</td>\n",
       "      <td>0.000000</td>\n",
       "      <td>0.000000</td>\n",
       "      <td>0.000000</td>\n",
       "      <td>1.000000</td>\n",
       "      <td>0.000000</td>\n",
       "    </tr>\n",
       "    <tr>\n",
       "      <th>50%</th>\n",
       "      <td>1.000000</td>\n",
       "      <td>0.000000</td>\n",
       "      <td>0.000000</td>\n",
       "      <td>0.000000</td>\n",
       "      <td>0.000000</td>\n",
       "      <td>0.000000</td>\n",
       "      <td>0.000000</td>\n",
       "      <td>0.000000</td>\n",
       "      <td>0.000000</td>\n",
       "      <td>0.000000</td>\n",
       "      <td>...</td>\n",
       "      <td>0.000000</td>\n",
       "      <td>0.000000</td>\n",
       "      <td>0.000000</td>\n",
       "      <td>0.000000</td>\n",
       "      <td>0.000000</td>\n",
       "      <td>0.000000</td>\n",
       "      <td>1.000000</td>\n",
       "      <td>0.000000</td>\n",
       "      <td>1.000000</td>\n",
       "      <td>0.000000</td>\n",
       "    </tr>\n",
       "    <tr>\n",
       "      <th>75%</th>\n",
       "      <td>1.000000</td>\n",
       "      <td>0.000000</td>\n",
       "      <td>1.000000</td>\n",
       "      <td>0.000000</td>\n",
       "      <td>1.000000</td>\n",
       "      <td>0.000000</td>\n",
       "      <td>0.000000</td>\n",
       "      <td>0.000000</td>\n",
       "      <td>0.000000</td>\n",
       "      <td>0.000000</td>\n",
       "      <td>...</td>\n",
       "      <td>0.000000</td>\n",
       "      <td>1.000000</td>\n",
       "      <td>1.000000</td>\n",
       "      <td>1.000000</td>\n",
       "      <td>1.000000</td>\n",
       "      <td>0.000000</td>\n",
       "      <td>1.000000</td>\n",
       "      <td>0.000000</td>\n",
       "      <td>1.000000</td>\n",
       "      <td>0.000000</td>\n",
       "    </tr>\n",
       "    <tr>\n",
       "      <th>max</th>\n",
       "      <td>1.000000</td>\n",
       "      <td>1.000000</td>\n",
       "      <td>1.000000</td>\n",
       "      <td>1.000000</td>\n",
       "      <td>1.000000</td>\n",
       "      <td>1.000000</td>\n",
       "      <td>1.000000</td>\n",
       "      <td>1.000000</td>\n",
       "      <td>1.000000</td>\n",
       "      <td>1.000000</td>\n",
       "      <td>...</td>\n",
       "      <td>1.000000</td>\n",
       "      <td>1.000000</td>\n",
       "      <td>1.000000</td>\n",
       "      <td>1.000000</td>\n",
       "      <td>1.000000</td>\n",
       "      <td>1.000000</td>\n",
       "      <td>1.000000</td>\n",
       "      <td>1.000000</td>\n",
       "      <td>1.000000</td>\n",
       "      <td>1.000000</td>\n",
       "    </tr>\n",
       "  </tbody>\n",
       "</table>\n",
       "<p>8 rows × 22 columns</p>\n",
       "</div>"
      ],
      "text/plain": [
       "           sexo_M  tipoadm_Emergency  tipoadm_Medical  site_primario_breast  \\\n",
       "count  793.000000         793.000000       793.000000            793.000000   \n",
       "mean     0.577554           0.050441         0.442623              0.063052   \n",
       "std      0.494261           0.218992         0.497010              0.243209   \n",
       "min      0.000000           0.000000         0.000000              0.000000   \n",
       "25%      0.000000           0.000000         0.000000              0.000000   \n",
       "50%      1.000000           0.000000         0.000000              0.000000   \n",
       "75%      1.000000           0.000000         1.000000              0.000000   \n",
       "max      1.000000           1.000000         1.000000              1.000000   \n",
       "\n",
       "       site_primario_digestive tract  site_primario_genital system  \\\n",
       "count                     793.000000                    793.000000   \n",
       "mean                        0.350567                      0.123581   \n",
       "std                         0.477449                      0.329311   \n",
       "min                         0.000000                      0.000000   \n",
       "25%                         0.000000                      0.000000   \n",
       "50%                         0.000000                      0.000000   \n",
       "75%                         1.000000                      0.000000   \n",
       "max                         1.000000                      1.000000   \n",
       "\n",
       "       site_primario_hematological  site_primario_oral cavity and pharynx  \\\n",
       "count                   793.000000                             793.000000   \n",
       "mean                      0.081967                               0.071879   \n",
       "std                       0.274488                               0.258450   \n",
       "min                       0.000000                               0.000000   \n",
       "25%                       0.000000                               0.000000   \n",
       "50%                       0.000000                               0.000000   \n",
       "75%                       0.000000                               0.000000   \n",
       "max                       1.000000                               1.000000   \n",
       "\n",
       "       site_primario_other/undeterm  site_primario_respiratory system  ...  \\\n",
       "count                    793.000000                        793.000000  ...   \n",
       "mean                       0.090794                          0.069357  ...   \n",
       "std                        0.287498                          0.254220  ...   \n",
       "min                        0.000000                          0.000000  ...   \n",
       "25%                        0.000000                          0.000000  ...   \n",
       "50%                        0.000000                          0.000000  ...   \n",
       "75%                        0.000000                          0.000000  ...   \n",
       "max                        1.000000                          1.000000  ...   \n",
       "\n",
       "       status_cancer_Controlado_remissao  extensao_cancer_Limitado  \\\n",
       "count                         793.000000                793.000000   \n",
       "mean                            0.061791                  0.325347   \n",
       "std                             0.240927                  0.468800   \n",
       "min                             0.000000                  0.000000   \n",
       "25%                             0.000000                  0.000000   \n",
       "50%                             0.000000                  0.000000   \n",
       "75%                             0.000000                  1.000000   \n",
       "max                             1.000000                  1.000000   \n",
       "\n",
       "       extensao_cancer_Localmente avancado  \\\n",
       "count                           793.000000   \n",
       "mean                              0.358134   \n",
       "std                               0.479754   \n",
       "min                               0.000000   \n",
       "25%                               0.000000   \n",
       "50%                               0.000000   \n",
       "75%                               1.000000   \n",
       "max                               1.000000   \n",
       "\n",
       "       extensao_cancer_Metastase a distancia  tipo_cirurgia_Nao  \\\n",
       "count                             793.000000         793.000000   \n",
       "mean                                0.298865           0.393443   \n",
       "std                                 0.458049           0.488822   \n",
       "min                                 0.000000           0.000000   \n",
       "25%                                 0.000000           0.000000   \n",
       "50%                                 0.000000           0.000000   \n",
       "75%                                 1.000000           1.000000   \n",
       "max                                 1.000000           1.000000   \n",
       "\n",
       "       tipo_cirurgia_Paliativa  tipo_quimioterapia_Nao  \\\n",
       "count               793.000000              793.000000   \n",
       "mean                  0.071879                0.619168   \n",
       "std                   0.258450                0.485898   \n",
       "min                   0.000000                0.000000   \n",
       "25%                   0.000000                0.000000   \n",
       "50%                   0.000000                1.000000   \n",
       "75%                   0.000000                1.000000   \n",
       "max                   1.000000                1.000000   \n",
       "\n",
       "       tipo_quimioterapia_Paliativa  tipo_radioterapia_Nao  \\\n",
       "count                    793.000000             793.000000   \n",
       "mean                       0.108449               0.784363   \n",
       "std                        0.311143               0.411523   \n",
       "min                        0.000000               0.000000   \n",
       "25%                        0.000000               1.000000   \n",
       "50%                        0.000000               1.000000   \n",
       "75%                        0.000000               1.000000   \n",
       "max                        1.000000               1.000000   \n",
       "\n",
       "       tipo_radioterapia_Paliativa  \n",
       "count                   793.000000  \n",
       "mean                      0.031526  \n",
       "std                       0.174844  \n",
       "min                       0.000000  \n",
       "25%                       0.000000  \n",
       "50%                       0.000000  \n",
       "75%                       0.000000  \n",
       "max                       1.000000  \n",
       "\n",
       "[8 rows x 22 columns]"
      ]
     },
     "execution_count": 18,
     "metadata": {},
     "output_type": "execute_result"
    }
   ],
   "source": [
    "df_dummies.describe()"
   ]
  },
  {
   "cell_type": "code",
   "execution_count": 19,
   "id": "921b1279",
   "metadata": {
    "ExecuteTime": {
     "end_time": "2023-11-13T18:50:13.097877Z",
     "start_time": "2023-11-13T18:50:13.094918Z"
    }
   },
   "outputs": [],
   "source": [
    "lstFeatures = lstDummies + lstNum + lstSimNao + lstYesNo"
   ]
  },
  {
   "cell_type": "code",
   "execution_count": 20,
   "id": "cba4592d",
   "metadata": {
    "ExecuteTime": {
     "end_time": "2023-11-13T18:50:13.645159Z",
     "start_time": "2023-11-13T18:50:13.641119Z"
    }
   },
   "outputs": [
    {
     "data": {
      "text/plain": [
       "35"
      ]
     },
     "execution_count": 20,
     "metadata": {},
     "output_type": "execute_result"
    }
   ],
   "source": [
    "len(lstFeatures)"
   ]
  },
  {
   "cell_type": "code",
   "execution_count": 21,
   "id": "0e6c63ac",
   "metadata": {
    "ExecuteTime": {
     "end_time": "2023-11-13T18:50:14.114706Z",
     "start_time": "2023-11-13T18:50:14.112384Z"
    }
   },
   "outputs": [],
   "source": [
    "lstTarget = ['event', 'tempo']"
   ]
  },
  {
   "cell_type": "code",
   "execution_count": 22,
   "id": "d053c3a0",
   "metadata": {
    "ExecuteTime": {
     "end_time": "2023-11-13T18:50:14.522513Z",
     "start_time": "2023-11-13T18:50:14.517187Z"
    }
   },
   "outputs": [],
   "source": [
    "X = df[lstFeatures]\n",
    "y = df[lstTarget].to_records(index=False)"
   ]
  },
  {
   "cell_type": "code",
   "execution_count": 23,
   "id": "7d64377f",
   "metadata": {
    "ExecuteTime": {
     "end_time": "2023-11-13T18:50:15.018400Z",
     "start_time": "2023-11-13T18:50:15.012334Z"
    }
   },
   "outputs": [],
   "source": [
    "X_train, X_test, y_train, y_test = train_test_split(X, y, test_size=0.15, random_state=42)"
   ]
  },
  {
   "cell_type": "code",
   "execution_count": 24,
   "id": "71a76aff",
   "metadata": {
    "ExecuteTime": {
     "end_time": "2023-11-13T18:50:15.588489Z",
     "start_time": "2023-11-13T18:50:15.584395Z"
    }
   },
   "outputs": [
    {
     "data": {
      "text/plain": [
       "((674, 35), (119, 35))"
      ]
     },
     "execution_count": 24,
     "metadata": {},
     "output_type": "execute_result"
    }
   ],
   "source": [
    "X_train.shape, X_test.shape"
   ]
  },
  {
   "cell_type": "code",
   "execution_count": 25,
   "id": "d134b70e",
   "metadata": {
    "ExecuteTime": {
     "end_time": "2023-11-13T18:50:16.096457Z",
     "start_time": "2023-11-13T18:50:16.092723Z"
    }
   },
   "outputs": [
    {
     "data": {
      "text/plain": [
       "((674,), (119,))"
      ]
     },
     "execution_count": 25,
     "metadata": {},
     "output_type": "execute_result"
    }
   ],
   "source": [
    "y_train.shape, y_test.shape"
   ]
  },
  {
   "cell_type": "markdown",
   "id": "9401fca9",
   "metadata": {},
   "source": [
    "Treinamento de diferentes árvores por profundidade:"
   ]
  },
  {
   "cell_type": "code",
   "execution_count": 26,
   "id": "de4e3bbc",
   "metadata": {
    "ExecuteTime": {
     "end_time": "2023-11-13T18:50:17.723323Z",
     "start_time": "2023-11-13T18:50:17.720619Z"
    }
   },
   "outputs": [],
   "source": [
    "choices_max_depth = np.arange(2, 10, 1)\n",
    "# space_min_samples_leaf = np.arange(5, 51, 1)"
   ]
  },
  {
   "cell_type": "code",
   "execution_count": 27,
   "id": "ad71af54",
   "metadata": {
    "ExecuteTime": {
     "end_time": "2023-11-13T18:50:20.151186Z",
     "start_time": "2023-11-13T18:50:20.148393Z"
    }
   },
   "outputs": [],
   "source": [
    "lst_st_instances = list(map(lambda max_depth: SurvivalTree(max_depth=max_depth), choices_max_depth))"
   ]
  },
  {
   "cell_type": "code",
   "execution_count": 28,
   "id": "d9b88583",
   "metadata": {
    "ExecuteTime": {
     "end_time": "2023-11-13T18:50:26.463487Z",
     "start_time": "2023-11-13T18:50:25.748275Z"
    }
   },
   "outputs": [],
   "source": [
    "lst_st_trains = list(map(lambda instances: instances.fit(X_train, y_train), lst_st_instances))"
   ]
  },
  {
   "cell_type": "code",
   "execution_count": 74,
   "id": "d63dec46",
   "metadata": {
    "ExecuteTime": {
     "end_time": "2023-11-13T19:18:28.212837Z",
     "start_time": "2023-11-13T19:18:27.928221Z"
    }
   },
   "outputs": [
    {
     "data": {
      "text/plain": [
       "[Text(279.0, 362.4, '#0\\nSAPS3_Pontos <= 52.5\\n674\\n'),\n",
       " Text(139.5, 217.44, '#1\\nimc <= 19.8\\n432\\n'),\n",
       " Text(69.75, 72.47999999999996, '#2\\n69\\n'),\n",
       " Text(209.25, 72.47999999999996, '#3\\n363\\n'),\n",
       " Text(418.5, 217.44, '#4\\nSAPS3_Pontos <= 85.5\\n242\\n'),\n",
       " Text(348.75, 72.47999999999996, '#5\\n236\\n'),\n",
       " Text(488.25, 72.47999999999996, '#6\\n6\\n')]"
      ]
     },
     "execution_count": 74,
     "metadata": {},
     "output_type": "execute_result"
    },
    {
     "data": {
      "image/png": "[encoded data removed]",
      "text/plain": [
       "<Figure size 720x576 with 1 Axes>"
      ]
     },
     "metadata": {
      "needs_background": "light"
     },
     "output_type": "display_data"
    }
   ],
   "source": [
    "fig = plt.figure(figsize=(10, 8))\n",
    "plot_survival_tree.plot_tree(lst_st_instances[0],\n",
    "                              feature_names=lstFeatures,\n",
    "                              impurity=False,\n",
    "                              label=True,\n",
    "                              precision=1,\n",
    "                              fontsize=8,\n",
    "                              rotate=False,\n",
    "                              node_ids=True)"
   ]
  },
  {
   "cell_type": "code",
   "execution_count": 60,
   "id": "1803f5ba",
   "metadata": {
    "ExecuteTime": {
     "end_time": "2023-11-13T19:13:42.084135Z",
     "start_time": "2023-11-13T19:13:42.081184Z"
    }
   },
   "outputs": [],
   "source": [
    "X_train['risk_score'] = risk_score"
   ]
  },
  {
   "cell_type": "code",
   "execution_count": 61,
   "id": "db8b31e6",
   "metadata": {
    "ExecuteTime": {
     "end_time": "2023-11-13T19:13:43.253407Z",
     "start_time": "2023-11-13T19:13:43.249183Z"
    }
   },
   "outputs": [],
   "source": [
    "X_train['node'] = X_train['risk_score'].rank(method = \"min\").astype(str)"
   ]
  },
  {
   "cell_type": "code",
   "execution_count": 62,
   "id": "db0b9a40",
   "metadata": {
    "ExecuteTime": {
     "end_time": "2023-11-13T19:13:45.340366Z",
     "start_time": "2023-11-13T19:13:45.273324Z"
    }
   },
   "outputs": [
    {
     "name": "stdout",
     "output_type": "stream",
     "text": [
      "1.0\n",
      "433.0\n",
      "364.0\n",
      "669.0\n"
     ]
    }
   ],
   "source": [
    "lst_kp = []\n",
    "\n",
    "for node in X_train.node.unique():\n",
    "    kp = KaplanMeierFitter()\n",
    "    node_index = X_train[X_train['node'] == node].index \n",
    "    df_study = df[df.index.isin(node_index)]\n",
    "    print(node)\n",
    "    kp.fit(df_study['tempo'], event_observed=df_study['delta'])\n",
    "    lst_kp.append(kp)"
   ]
  },
  {
   "cell_type": "code",
   "execution_count": 63,
   "id": "a532e1fd",
   "metadata": {
    "ExecuteTime": {
     "end_time": "2023-11-13T19:13:50.648115Z",
     "start_time": "2023-11-13T19:13:50.642700Z"
    }
   },
   "outputs": [
    {
     "data": {
      "text/plain": [
       "node\n",
       "1.0      363\n",
       "364.0     69\n",
       "433.0    236\n",
       "669.0      6\n",
       "dtype: int64"
      ]
     },
     "execution_count": 63,
     "metadata": {},
     "output_type": "execute_result"
    }
   ],
   "source": [
    "X_train.groupby('node').size()"
   ]
  },
  {
   "cell_type": "code",
   "execution_count": 75,
   "id": "c8561e76",
   "metadata": {
    "ExecuteTime": {
     "end_time": "2023-11-13T19:22:06.353240Z",
     "start_time": "2023-11-13T19:22:06.180732Z"
    }
   },
   "outputs": [
    {
     "data": {
      "text/plain": [
       "<matplotlib.legend.Legend at 0x7fcd4831ca90>"
      ]
     },
     "execution_count": 75,
     "metadata": {},
     "output_type": "execute_result"
    },
    {
     "data": {
      "image/png": "[encoded data removed]",
      "text/plain": [
       "<Figure size 720x360 with 1 Axes>"
      ]
     },
     "metadata": {
      "needs_background": "light"
     },
     "output_type": "display_data"
    }
   ],
   "source": [
    "fig = plt.figure(figsize=(10, 5))\n",
    "colors = ['blue', 'red', 'gray', 'black']\n",
    "for i in range(len(lst_kp)):\n",
    "    lst_kp[i].plot_survival_function(legend=False, ci_show=False, color=colors[i])\n",
    "plt.xlabel(\"tempo\")\n",
    "plt.ylabel(\"Função de Sobrevivência\")\n",
    "plt.legend([\"#3\", \"#2\", \"#5\", \"#6\"], bbox_to_anchor=(0.3, 1.), fancybox=True, ncol=4)"
   ]
  },
  {
   "cell_type": "code",
   "execution_count": 84,
   "id": "c7767027",
   "metadata": {
    "ExecuteTime": {
     "end_time": "2023-11-13T19:32:20.731489Z",
     "start_time": "2023-11-13T19:32:20.727858Z"
    }
   },
   "outputs": [],
   "source": [
    "X_train = X_train.drop(\"node\", axis=1)"
   ]
  },
  {
   "cell_type": "code",
   "execution_count": 85,
   "id": "809ac6e5",
   "metadata": {
    "ExecuteTime": {
     "end_time": "2023-11-13T19:32:32.274721Z",
     "start_time": "2023-11-13T19:32:32.271121Z"
    }
   },
   "outputs": [],
   "source": [
    "X_train = X_train.drop(\"risk_score\", axis=1)"
   ]
  },
  {
   "cell_type": "code",
   "execution_count": 86,
   "id": "4dba42e4",
   "metadata": {
    "ExecuteTime": {
     "end_time": "2023-11-13T19:39:19.355938Z",
     "start_time": "2023-11-13T19:39:18.837111Z"
    }
   },
   "outputs": [
    {
     "data": {
      "text/plain": [
       "[Text(279.0, 380.52, '#0\\nSAPS3_Pontos <= 52.5\\n674\\n'),\n",
       " Text(139.5, 271.8, '#1\\nimc <= 19.8\\n432\\n'),\n",
       " Text(69.75, 163.07999999999998, '#2\\ntipo_quimioterapia_Paliativa <= 0.5\\n69\\n'),\n",
       " Text(34.875, 54.360000000000014, '#3\\n65\\n'),\n",
       " Text(104.625, 54.360000000000014, '#4\\n4\\n'),\n",
       " Text(209.25, 163.07999999999998, '#5\\ncapac_func_ecog <= 2.5\\n363\\n'),\n",
       " Text(174.375, 54.360000000000014, '#6\\n323\\n'),\n",
       " Text(244.125, 54.360000000000014, '#7\\n40\\n'),\n",
       " Text(418.5, 271.8, '#8\\nSAPS3_Pontos <= 85.5\\n242\\n'),\n",
       " Text(348.75, 163.07999999999998, '#9\\nimc <= 25.2\\n236\\n'),\n",
       " Text(313.875, 54.360000000000014, '#10\\n163\\n'),\n",
       " Text(383.625, 54.360000000000014, '#11\\n73\\n'),\n",
       " Text(488.25, 163.07999999999998, '#12\\nSAPS3_Pontos <= 88.5\\n6\\n'),\n",
       " Text(453.375, 54.360000000000014, '#13\\n3\\n'),\n",
       " Text(523.125, 54.360000000000014, '#14\\n3\\n')]"
      ]
     },
     "execution_count": 86,
     "metadata": {},
     "output_type": "execute_result"
    },
    {
     "data": {
      "image/png": "[encoded data removed]",
      "text/plain": [
       "<Figure size 720x576 with 1 Axes>"
      ]
     },
     "metadata": {
      "needs_background": "light"
     },
     "output_type": "display_data"
    }
   ],
   "source": [
    "fig = plt.figure(figsize=(10, 8))\n",
    "plot_survival_tree.plot_tree(lst_st_instances[1],\n",
    "                              feature_names=lstFeatures,\n",
    "                              impurity=False,\n",
    "                              label=\"none\",\n",
    "                              precision=1,\n",
    "                              fontsize=8,\n",
    "                              rotate=False,\n",
    "                              node_ids=True)"
   ]
  },
  {
   "cell_type": "code",
   "execution_count": 87,
   "id": "c0e94b57",
   "metadata": {
    "ExecuteTime": {
     "end_time": "2023-11-13T19:46:35.693273Z",
     "start_time": "2023-11-13T19:46:35.687256Z"
    }
   },
   "outputs": [],
   "source": [
    "X_train['risk_score'] = lst_st_instances[1].predict(X_train)"
   ]
  },
  {
   "cell_type": "code",
   "execution_count": 88,
   "id": "0c3ef2c1",
   "metadata": {
    "ExecuteTime": {
     "end_time": "2023-11-13T19:47:36.371911Z",
     "start_time": "2023-11-13T19:47:36.367400Z"
    }
   },
   "outputs": [],
   "source": [
    "X_train['node'] = X_train['risk_score'].rank(method = \"min\").astype(str)"
   ]
  },
  {
   "cell_type": "code",
   "execution_count": 92,
   "id": "7a5fc9db",
   "metadata": {
    "ExecuteTime": {
     "end_time": "2023-11-13T19:51:59.902056Z",
     "start_time": "2023-11-13T19:51:59.837448Z"
    }
   },
   "outputs": [
    {
     "name": "stdout",
     "output_type": "stream",
     "text": [
      "1.0\n",
      "324.0\n",
      "668.0\n",
      "672.0\n"
     ]
    }
   ],
   "source": [
    "lst_kp = []\n",
    "\n",
    "for node in ['1.0', '324.0', '668.0', '672.0']:\n",
    "    kp = KaplanMeierFitter()\n",
    "    node_index = X_train[X_train['node'] == node].index \n",
    "    df_study = df[df.index.isin(node_index)]\n",
    "    print(node)\n",
    "    kp.fit(df_study['tempo'], event_observed=df_study['delta'])\n",
    "    lst_kp.append(kp)"
   ]
  },
  {
   "cell_type": "code",
   "execution_count": 93,
   "id": "cecc4602",
   "metadata": {
    "ExecuteTime": {
     "end_time": "2023-11-13T19:52:01.096040Z",
     "start_time": "2023-11-13T19:52:01.090659Z"
    }
   },
   "outputs": [
    {
     "data": {
      "text/plain": [
       "node\n",
       "1.0      323\n",
       "324.0     65\n",
       "389.0     40\n",
       "429.0     73\n",
       "502.0      3\n",
       "505.0    163\n",
       "668.0      4\n",
       "672.0      3\n",
       "dtype: int64"
      ]
     },
     "execution_count": 93,
     "metadata": {},
     "output_type": "execute_result"
    }
   ],
   "source": [
    "X_train.groupby('node').size()"
   ]
  },
  {
   "cell_type": "code",
   "execution_count": 95,
   "id": "9caf93b8",
   "metadata": {
    "ExecuteTime": {
     "end_time": "2023-11-13T19:53:44.543417Z",
     "start_time": "2023-11-13T19:53:44.372975Z"
    }
   },
   "outputs": [
    {
     "data": {
      "text/plain": [
       "<matplotlib.legend.Legend at 0x7fcd4ae3f810>"
      ]
     },
     "execution_count": 95,
     "metadata": {},
     "output_type": "execute_result"
    },
    {
     "data": {
      "image/png": "[encoded data removed]",
      "text/plain": [
       "<Figure size 720x360 with 1 Axes>"
      ]
     },
     "metadata": {
      "needs_background": "light"
     },
     "output_type": "display_data"
    }
   ],
   "source": [
    "fig = plt.figure(figsize=(10, 5))\n",
    "colors = ['blue', 'red', 'gray', 'black', 'violet', 'green', 'purple', 'pink']\n",
    "for i in range(len(lst_kp)):\n",
    "    lst_kp[i].plot_survival_function(legend=False, ci_show=False, color=colors[i])\n",
    "plt.xlabel(\"tempo\")\n",
    "plt.ylabel(\"Função de Sobrevivência\")\n",
    "plt.legend([\"#6\", \"#3\", \"#4\", \"#14\"], bbox_to_anchor=(0.3, 1.), fancybox=True, ncol=4)"
   ]
  },
  {
   "cell_type": "code",
   "execution_count": 108,
   "id": "d0680a93",
   "metadata": {
    "ExecuteTime": {
     "end_time": "2023-11-13T21:47:45.140504Z",
     "start_time": "2023-11-13T21:47:45.136417Z"
    }
   },
   "outputs": [
    {
     "data": {
      "text/plain": [
       "3.0"
      ]
     },
     "execution_count": 108,
     "metadata": {},
     "output_type": "execute_result"
    }
   ],
   "source": [
    "lst_kp[3].median_survival_time_"
   ]
  },
  {
   "cell_type": "code",
   "execution_count": 96,
   "id": "c0edfb11",
   "metadata": {
    "ExecuteTime": {
     "end_time": "2023-11-13T20:56:38.158756Z",
     "start_time": "2023-11-13T20:56:38.155247Z"
    }
   },
   "outputs": [],
   "source": [
    "X_train = X_train.drop(\"node\", axis=1)"
   ]
  },
  {
   "cell_type": "code",
   "execution_count": 97,
   "id": "569b7191",
   "metadata": {
    "ExecuteTime": {
     "end_time": "2023-11-13T20:56:49.464974Z",
     "start_time": "2023-11-13T20:56:49.461531Z"
    }
   },
   "outputs": [],
   "source": [
    "X_train = X_train.drop(\"risk_score\", axis=1)"
   ]
  },
  {
   "cell_type": "code",
   "execution_count": 100,
   "id": "52519dd4",
   "metadata": {
    "ExecuteTime": {
     "end_time": "2023-11-13T20:57:05.597256Z",
     "start_time": "2023-11-13T20:57:05.593900Z"
    }
   },
   "outputs": [],
   "source": [
    "X_test = X_test.drop(\"node\", axis=1)"
   ]
  },
  {
   "cell_type": "code",
   "execution_count": 101,
   "id": "2f63a4e8",
   "metadata": {
    "ExecuteTime": {
     "end_time": "2023-11-13T20:57:16.397826Z",
     "start_time": "2023-11-13T20:57:16.394195Z"
    }
   },
   "outputs": [],
   "source": [
    "X_test = X_test.drop(\"risk_score\", axis=1)"
   ]
  },
  {
   "cell_type": "code",
   "execution_count": 98,
   "id": "b4e548bb",
   "metadata": {
    "ExecuteTime": {
     "end_time": "2023-11-13T20:56:50.869461Z",
     "start_time": "2023-11-13T20:56:50.743764Z"
    }
   },
   "outputs": [],
   "source": [
    "lst_train_c_index_depth = list(map(lambda instances: instances.score(X_train, y_train), lst_st_instances))"
   ]
  },
  {
   "cell_type": "code",
   "execution_count": 102,
   "id": "d177513a",
   "metadata": {
    "ExecuteTime": {
     "end_time": "2023-11-13T20:57:18.628299Z",
     "start_time": "2023-11-13T20:57:18.591036Z"
    }
   },
   "outputs": [],
   "source": [
    "lst_test_c_index_depth = list(map(lambda instances: instances.score(X_test, y_test), lst_st_instances))"
   ]
  },
  {
   "cell_type": "code",
   "execution_count": 103,
   "id": "2c0dfd0d",
   "metadata": {
    "ExecuteTime": {
     "end_time": "2023-11-13T20:57:19.772456Z",
     "start_time": "2023-11-13T20:57:19.769067Z"
    }
   },
   "outputs": [],
   "source": [
    "results = pd.DataFrame({\"profundidade\": choices_max_depth, \n",
    "                        \"c_indice_treino\": lst_train_c_index_depth,\n",
    "                        \"c_indice_teste\": lst_test_c_index_depth})"
   ]
  },
  {
   "cell_type": "code",
   "execution_count": 106,
   "id": "55b0b5cb",
   "metadata": {
    "ExecuteTime": {
     "end_time": "2023-11-13T20:57:44.226968Z",
     "start_time": "2023-11-13T20:57:44.060936Z"
    }
   },
   "outputs": [
    {
     "data": {
      "text/plain": [
       "(0.5, 1.0)"
      ]
     },
     "execution_count": 106,
     "metadata": {},
     "output_type": "execute_result"
    },
    {
     "data": {
      "image/png": "[encoded data removed]",
      "text/plain": [
       "<Figure size 720x360 with 1 Axes>"
      ]
     },
     "metadata": {
      "needs_background": "light"
     },
     "output_type": "display_data"
    }
   ],
   "source": [
    "fig = plt.figure(figsize=(10, 5))\n",
    "sns.lineplot(data=results, x=\"profundidade\", y=\"c_indice_treino\", legend=False, color=\"black\")\n",
    "sns.lineplot(data=results, x=\"profundidade\", y=\"c_indice_teste\", legend=False, color=\"gray\")\n",
    "plt.ylabel(\"Índice C\")\n",
    "plt.legend([\"Treino\", \"Teste\"])\n",
    "plt.ylim(0.5, 1.)"
   ]
  },
  {
   "cell_type": "code",
   "execution_count": 109,
   "id": "4ab0e9dc",
   "metadata": {
    "ExecuteTime": {
     "end_time": "2023-11-13T22:43:18.492238Z",
     "start_time": "2023-11-13T22:43:18.489619Z"
    }
   },
   "outputs": [],
   "source": [
    "choices_min_samples_leaf = np.arange(5, 51, 1)"
   ]
  },
  {
   "cell_type": "code",
   "execution_count": 110,
   "id": "74ed5e79",
   "metadata": {
    "ExecuteTime": {
     "end_time": "2023-11-13T22:43:19.089634Z",
     "start_time": "2023-11-13T22:43:19.086521Z"
    }
   },
   "outputs": [],
   "source": [
    "lst_st_instances = list(map(lambda min_samples: SurvivalTree(min_samples_leaf=min_samples), \n",
    "                            choices_min_samples_leaf))"
   ]
  },
  {
   "cell_type": "code",
   "execution_count": 111,
   "id": "12f1795d",
   "metadata": {
    "ExecuteTime": {
     "end_time": "2023-11-13T22:43:23.160620Z",
     "start_time": "2023-11-13T22:43:19.822964Z"
    }
   },
   "outputs": [],
   "source": [
    "lst_st_trains = list(map(lambda instances: instances.fit(X_train, y_train), lst_st_instances))"
   ]
  },
  {
   "cell_type": "code",
   "execution_count": 113,
   "id": "85bcb9a6",
   "metadata": {
    "ExecuteTime": {
     "end_time": "2023-11-13T22:43:53.481756Z",
     "start_time": "2023-11-13T22:43:52.755290Z"
    }
   },
   "outputs": [
    {
     "data": {
      "text/plain": [
       "[Text(430.70625, 504.7714285714286, '#0\\nSAPS3_Pontos <= 52.5\\n674\\n'),\n",
       " Text(226.6875, 427.11428571428576, '#1\\nimc <= 19.8\\n432\\n'),\n",
       " Text(181.35, 349.4571428571429, '#2\\n69\\n'),\n",
       " Text(272.025, 349.4571428571429, '#3\\nSAPS3_Pontos <= 43.5\\n363\\n'),\n",
       " Text(181.35, 271.8, '#4\\ncapac_func_ecog <= 1.5\\n255\\n'),\n",
       " Text(136.0125, 194.14285714285717, '#5\\nimc <= 28.3\\n205\\n'),\n",
       " Text(90.675, 116.48571428571432, '#6\\nSAPS3_Pontos <= 34.5\\n149\\n'),\n",
       " Text(45.3375, 38.82857142857142, '#7\\n82\\n'),\n",
       " Text(136.0125, 38.82857142857142, '#8\\n67\\n'),\n",
       " Text(181.35, 116.48571428571432, '#9\\n56\\n'),\n",
       " Text(226.6875, 194.14285714285717, '#10\\n50\\n'),\n",
       " Text(362.7, 271.8, '#11\\nQV.0 <= 0.5\\n108\\n'),\n",
       " Text(317.3625, 194.14285714285717, '#12\\n51\\n'),\n",
       " Text(408.03749999999997, 194.14285714285717, '#13\\n57\\n'),\n",
       " Text(634.725, 427.11428571428576, '#14\\nimc <= 25.2\\n242\\n'),\n",
       " Text(589.3874999999999, 349.4571428571429, '#15\\nsite_primario_digestive tract <= 0.5\\n165\\n'),\n",
       " Text(544.05, 271.8, '#16\\nSAPS3_Pontos <= 65.5\\n109\\n'),\n",
       " Text(498.7125, 194.14285714285717, '#17\\n56\\n'),\n",
       " Text(589.3874999999999, 194.14285714285717, '#18\\n53\\n'),\n",
       " Text(634.725, 271.8, '#19\\n56\\n'),\n",
       " Text(680.0625, 349.4571428571429, '#20\\n77\\n')]"
      ]
     },
     "execution_count": 113,
     "metadata": {},
     "output_type": "execute_result"
    },
    {
     "data": {
      "image/png": "[encoded data removed]",
      "text/plain": [
       "<Figure size 936x720 with 1 Axes>"
      ]
     },
     "metadata": {
      "needs_background": "light"
     },
     "output_type": "display_data"
    }
   ],
   "source": [
    "fig = plt.figure(figsize=(13, 10))\n",
    "plot_survival_tree.plot_tree(lst_st_instances[-1],\n",
    "                              feature_names=lstFeatures,\n",
    "                              impurity=False,\n",
    "                              label=\"none\",\n",
    "                              precision=1,\n",
    "                              fontsize=8,\n",
    "                              rotate=False,\n",
    "                              node_ids=True)"
   ]
  },
  {
   "cell_type": "code",
   "execution_count": 41,
   "id": "4d64eaac",
   "metadata": {
    "ExecuteTime": {
     "end_time": "2023-11-10T13:59:12.122318Z",
     "start_time": "2023-11-10T13:59:10.580172Z"
    }
   },
   "outputs": [
    {
     "data": {
      "text/plain": [
       "[Text(382.84999999999997, 513.4, 'SAPS3_Pontos <= 52.5\\n674\\n'),\n",
       " Text(201.5, 453.0, 'imc <= 19.8\\n432\\n'),\n",
       " Text(120.89999999999999, 392.6, 'SAPS3_Pontos <= 41.5\\n69\\n'),\n",
       " Text(80.6, 332.2, '37\\n'),\n",
       " Text(161.2, 332.2, '32\\n'),\n",
       " Text(282.09999999999997, 392.6, 'capac_func_ecog <= 2.5\\n363\\n'),\n",
       " Text(241.79999999999998, 332.2, 'SAPS3_Pontos <= 43.5\\n323\\n'),\n",
       " Text(161.2, 271.8, 'QV.0 <= 0.8\\n232\\n'),\n",
       " Text(120.89999999999999, 211.39999999999998, 'imc <= 28.3\\n173\\n'),\n",
       " Text(80.6, 151.0, 'QV.0 <= 0.7\\n124\\n'),\n",
       " Text(40.3, 90.59999999999997, '57\\n'),\n",
       " Text(120.89999999999999, 90.59999999999997, 'SAPS3_Pontos <= 35.5\\n67\\n'),\n",
       " Text(80.6, 30.199999999999932, '32\\n'),\n",
       " Text(161.2, 30.199999999999932, '35\\n'),\n",
       " Text(161.2, 151.0, '49\\n'),\n",
       " Text(201.5, 211.39999999999998, '59\\n'),\n",
       " Text(322.4, 271.8, 'imc <= 23.7\\n91\\n'),\n",
       " Text(282.09999999999997, 211.39999999999998, '35\\n'),\n",
       " Text(362.7, 211.39999999999998, '56\\n'),\n",
       " Text(322.4, 332.2, '40\\n'),\n",
       " Text(564.1999999999999, 453.0, 'imc <= 25.2\\n242\\n'),\n",
       " Text(483.59999999999997, 392.6, 'site_primario_digestive tract <= 0.5\\n165\\n'),\n",
       " Text(443.29999999999995, 332.2, 'SAPS3_Pontos <= 62.5\\n109\\n'),\n",
       " Text(403.0, 271.8, '39\\n'),\n",
       " Text(483.59999999999997, 271.8, 'idade <= 67.2\\n70\\n'),\n",
       " Text(443.29999999999995, 211.39999999999998, '38\\n'),\n",
       " Text(523.9, 211.39999999999998, '32\\n'),\n",
       " Text(523.9, 332.2, '56\\n'),\n",
       " Text(644.8, 392.6, 'QV.0 <= 0.6\\n77\\n'),\n",
       " Text(604.5, 332.2, '43\\n'),\n",
       " Text(685.0999999999999, 332.2, '34\\n')]"
      ]
     },
     "execution_count": 41,
     "metadata": {},
     "output_type": "execute_result"
    },
    {
     "data": {
      "image/png": "[encoded data removed]",
      "text/plain": [
       "<Figure size 936x720 with 1 Axes>"
      ]
     },
     "metadata": {
      "needs_background": "light"
     },
     "output_type": "display_data"
    }
   ],
   "source": [
    "fig = plt.figure(figsize=(13, 10))\n",
    "plot_survival_tree.plot_tree(lst_st_instances[-20],\n",
    "                              feature_names=lstFeatures,\n",
    "                              impurity=False,\n",
    "                              label=\"none\",\n",
    "                              precision=1,\n",
    "                              fontsize=8,\n",
    "                              rotate=False)"
   ]
  },
  {
   "cell_type": "code",
   "execution_count": 114,
   "id": "812883fa",
   "metadata": {
    "ExecuteTime": {
     "end_time": "2023-11-13T23:07:07.792532Z",
     "start_time": "2023-11-13T23:07:07.191402Z"
    }
   },
   "outputs": [],
   "source": [
    "lst_train_c_index_depth = list(map(lambda instances: instances.score(X_train, y_train), lst_st_instances))"
   ]
  },
  {
   "cell_type": "code",
   "execution_count": 115,
   "id": "d659d38b",
   "metadata": {
    "ExecuteTime": {
     "end_time": "2023-11-13T23:07:08.240269Z",
     "start_time": "2023-11-13T23:07:08.070431Z"
    }
   },
   "outputs": [],
   "source": [
    "lst_test_c_index_depth = list(map(lambda instances: instances.score(X_test, y_test), lst_st_instances))"
   ]
  },
  {
   "cell_type": "code",
   "execution_count": 116,
   "id": "03b4daf1",
   "metadata": {
    "ExecuteTime": {
     "end_time": "2023-11-13T23:07:08.769709Z",
     "start_time": "2023-11-13T23:07:08.765923Z"
    }
   },
   "outputs": [],
   "source": [
    "results = pd.DataFrame({\"numero_minimo\": choices_min_samples_leaf, \n",
    "                        \"c_indice_treino\": lst_train_c_index_depth,\n",
    "                        \"c_indice_teste\": lst_test_c_index_depth})"
   ]
  },
  {
   "cell_type": "code",
   "execution_count": 117,
   "id": "c5a234e9",
   "metadata": {
    "ExecuteTime": {
     "end_time": "2023-11-13T23:07:12.065519Z",
     "start_time": "2023-11-13T23:07:11.892750Z"
    }
   },
   "outputs": [
    {
     "data": {
      "text/plain": [
       "(0.5, 1.0)"
      ]
     },
     "execution_count": 117,
     "metadata": {},
     "output_type": "execute_result"
    },
    {
     "data": {
      "image/png": "[encoded data removed]",
      "text/plain": [
       "<Figure size 720x360 with 1 Axes>"
      ]
     },
     "metadata": {
      "needs_background": "light"
     },
     "output_type": "display_data"
    }
   ],
   "source": [
    "fig = plt.figure(figsize=(10, 5))\n",
    "sns.lineplot(data=results, x=\"numero_minimo\", y=\"c_indice_treino\", legend=False, color=\"black\")\n",
    "sns.lineplot(data=results, x=\"numero_minimo\", y=\"c_indice_teste\", legend=False, color=\"gray\")\n",
    "plt.ylabel(\"C-índice\")\n",
    "plt.xlabel(\"Número mínimo de amostras\")\n",
    "plt.legend([\"treino\", \"teste\"])\n",
    "plt.ylim(0.5, 1.)"
   ]
  },
  {
   "cell_type": "code",
   "execution_count": 118,
   "id": "33e833ad",
   "metadata": {
    "ExecuteTime": {
     "end_time": "2023-11-13T23:09:51.255292Z",
     "start_time": "2023-11-13T23:09:51.252375Z"
    }
   },
   "outputs": [],
   "source": [
    "choices_hyperparameters = list(product(choices_min_samples_leaf, choices_max_depth))"
   ]
  },
  {
   "cell_type": "code",
   "execution_count": 119,
   "id": "0be4e833",
   "metadata": {
    "ExecuteTime": {
     "end_time": "2023-11-13T23:09:51.708285Z",
     "start_time": "2023-11-13T23:09:51.704653Z"
    }
   },
   "outputs": [],
   "source": [
    "lst_st_instances = list(map(lambda x: SurvivalTree(max_depth=x[1], min_samples_leaf=x[0]), \n",
    "                            choices_hyperparameters))"
   ]
  },
  {
   "cell_type": "code",
   "execution_count": 120,
   "id": "cfb3b9e2",
   "metadata": {
    "ExecuteTime": {
     "end_time": "2023-11-13T23:10:15.446651Z",
     "start_time": "2023-11-13T23:09:52.209957Z"
    }
   },
   "outputs": [],
   "source": [
    "lst_st_trains = list(map(lambda instances: instances.fit(X_train, y_train), lst_st_instances))"
   ]
  },
  {
   "cell_type": "code",
   "execution_count": 121,
   "id": "fdc98105",
   "metadata": {
    "ExecuteTime": {
     "end_time": "2023-11-13T23:10:20.415801Z",
     "start_time": "2023-11-13T23:10:15.959905Z"
    }
   },
   "outputs": [],
   "source": [
    "lst_train_c_index = list(map(lambda instances: instances.score(X_train, y_train), lst_st_instances))"
   ]
  },
  {
   "cell_type": "code",
   "execution_count": 122,
   "id": "8ff02bdd",
   "metadata": {
    "ExecuteTime": {
     "end_time": "2023-11-13T23:10:22.074446Z",
     "start_time": "2023-11-13T23:10:21.086769Z"
    }
   },
   "outputs": [],
   "source": [
    "lst_test_c_index = list(map(lambda instances: instances.score(X_test, y_test), lst_st_instances))"
   ]
  },
  {
   "cell_type": "code",
   "execution_count": 123,
   "id": "5519ce89",
   "metadata": {
    "ExecuteTime": {
     "end_time": "2023-11-13T23:10:22.576766Z",
     "start_time": "2023-11-13T23:10:22.572636Z"
    }
   },
   "outputs": [],
   "source": [
    "results = pd.DataFrame({\"numero_minimo\": [i[0] for i in choices_hyperparameters],\n",
    "                        \"profundidade\": [i[1] for i in choices_hyperparameters],\n",
    "                        \"c_indice_treino\": lst_train_c_index,\n",
    "                        \"c_indice_teste\": lst_test_c_index})"
   ]
  },
  {
   "cell_type": "code",
   "execution_count": 124,
   "id": "30b99fe4",
   "metadata": {
    "ExecuteTime": {
     "end_time": "2023-11-13T23:10:23.078996Z",
     "start_time": "2023-11-13T23:10:23.075722Z"
    }
   },
   "outputs": [],
   "source": [
    "results['c_indice_delta'] = results['c_indice_treino'] - results['c_indice_teste']"
   ]
  },
  {
   "cell_type": "code",
   "execution_count": 125,
   "id": "8d610a95",
   "metadata": {
    "ExecuteTime": {
     "end_time": "2023-11-13T23:10:23.591781Z",
     "start_time": "2023-11-13T23:10:23.585036Z"
    }
   },
   "outputs": [],
   "source": [
    "results_matrix = results.pivot(index=\"profundidade\", columns=\"numero_minimo\", values=\"c_indice_delta\")"
   ]
  },
  {
   "cell_type": "code",
   "execution_count": 126,
   "id": "e004580a",
   "metadata": {
    "ExecuteTime": {
     "end_time": "2023-11-13T23:10:24.125982Z",
     "start_time": "2023-11-13T23:10:24.121725Z"
    }
   },
   "outputs": [],
   "source": [
    "results_matrix_test = results.pivot(index=\"profundidade\", columns=\"numero_minimo\", values=\"c_indice_teste\")"
   ]
  },
  {
   "cell_type": "code",
   "execution_count": 127,
   "id": "c156e299",
   "metadata": {
    "ExecuteTime": {
     "end_time": "2023-11-13T23:10:24.708205Z",
     "start_time": "2023-11-13T23:10:24.704401Z"
    }
   },
   "outputs": [],
   "source": [
    "results_matrix_refine = results_matrix.loc[[2, 3, 4, 5, 6, 7, 8], [5, 10, 15, 20, 25, 30, 35, 40]]"
   ]
  },
  {
   "cell_type": "code",
   "execution_count": 128,
   "id": "be0bf506",
   "metadata": {
    "ExecuteTime": {
     "end_time": "2023-11-13T23:10:25.271675Z",
     "start_time": "2023-11-13T23:10:25.268477Z"
    }
   },
   "outputs": [],
   "source": [
    "results_matrix_test_refine = results_matrix_test.loc[[2, 3, 4, 5, 6, 7, 8], [5, 10, 15, 20, 25, 30, 35, 40]]"
   ]
  },
  {
   "cell_type": "code",
   "execution_count": 129,
   "id": "e9f975fe",
   "metadata": {
    "ExecuteTime": {
     "end_time": "2023-11-14T00:38:25.564770Z",
     "start_time": "2023-11-14T00:38:25.211228Z"
    }
   },
   "outputs": [
    {
     "data": {
      "text/plain": [
       "Text(0.5, 51.0, 'número mínimos de amostras nas folhas')"
      ]
     },
     "execution_count": 129,
     "metadata": {},
     "output_type": "execute_result"
    },
    {
     "data": {
      "image/png": "[encoded data removed]",
      "text/plain": [
       "<Figure size 864x576 with 2 Axes>"
      ]
     },
     "metadata": {
      "needs_background": "light"
     },
     "output_type": "display_data"
    }
   ],
   "source": [
    "fig = plt.figure(figsize=(12, 8))\n",
    "sns.heatmap(results_matrix_refine, annot=results_matrix_test_refine.values, fmt='.3g', cmap=\"Blues\")\n",
    "plt.xlabel(\"número mínimos de amostras nas folhas\")"
   ]
  },
  {
   "cell_type": "markdown",
   "id": "1b921226",
   "metadata": {},
   "source": [
    "- Realizar uma seção com esses gráficos. Fazer uma discussão do mapa de calor com as escolhas da validação cruzada. "
   ]
  }
 ],
 "metadata": {
  "kernelspec": {
   "display_name": "Python 3 (ipykernel)",
   "language": "python",
   "name": "python3"
  },
  "language_info": {
   "codemirror_mode": {
    "name": "ipython",
    "version": 3
   },
   "file_extension": ".py",
   "mimetype": "text/x-python",
   "name": "python",
   "nbconvert_exporter": "python",
   "pygments_lexer": "ipython3",
   "version": "3.7.7"
  },
  "toc": {
   "base_numbering": 1,
   "nav_menu": {},
   "number_sections": true,
   "sideBar": true,
   "skip_h1_title": false,
   "title_cell": "Table of Contents",
   "title_sidebar": "Contents",
   "toc_cell": false,
   "toc_position": {},
   "toc_section_display": true,
   "toc_window_display": false
  },
  "varInspector": {
   "cols": {
    "lenName": 16,
    "lenType": 16,
    "lenVar": 40
   },
   "kernels_config": {
    "python": {
     "delete_cmd_postfix": "",
     "delete_cmd_prefix": "del ",
     "library": "var_list.py",
     "varRefreshCmd": "print(var_dic_list())"
    },
    "r": {
     "delete_cmd_postfix": ") ",
     "delete_cmd_prefix": "rm(",
     "library": "var_list.r",
     "varRefreshCmd": "cat(var_dic_list()) "
    }
   },
   "types_to_exclude": [
    "module",
    "function",
    "builtin_function_or_method",
    "instance",
    "_Feature"
   ],
   "window_display": false
  }
 },
 "nbformat": 4,
 "nbformat_minor": 5
}
