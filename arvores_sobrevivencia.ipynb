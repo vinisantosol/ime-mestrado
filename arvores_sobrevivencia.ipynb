{
 "cells": [
  {
   "cell_type": "markdown",
   "id": "07598356",
   "metadata": {},
   "source": [
    "### Análise de sobrevivência\n",
    "\n",
    "O objetivo da análise de sobrevivência – também conhecida como análise de confiabilidade em engenharia – é estabelecer uma conexão entre as covariáveis e o tempo de um evento. O nome análise de sobrevivência tem origem na pesquisa clínica, onde a previsão do tempo até a morte, ou seja, a sobrevivência, muitas vezes é o principal objetivo. A análise de sobrevivência é um tipo de problema de regressão (isto é, o objetivo é prever um valor contínuo), mas com uma reviravolta. Difere da regressão tradicional pelo fato de que partes dos dados de treinamento podem ser parcialmente observadas – elas são censuradas.\n",
    "\n",
    "Formalmente, cada registro consiste em um conjunto de covariáveis $X \\in R^d$ e o tempo $𝑡 > 0$ quando um evento ocorreu ou o tempo $𝑐 > 0$ de censura. Como censura, experiência e evento são mutuamente exclusivos, é comum definir um indicador de evento $\\delta \\in (0,1)$ e o tempo de sobrevivência observável $𝑦 > 0$. O tempo observável $𝑦$ de uma amostra censurada à direita é definido como\n",
    "\n",
    "$$y = min(t, c) = \\{ \\begin{array}{ll} t, \\delta = 1, \\\\ c, \\delta = 0.\\end{array}$$\n",
    "\n",
    "Consequentemente, a análise de sobrevivência exige modelos que levem em consideração essa característica única de tal conjunto de dados.\n",
    "\n",
    "Em análise de sobrevivência, as principais estatísticas são dadas por: \n",
    "\n",
    "- Função de sobrevivência $S(t)$: retorna a probabilidade de sobrevivência além do tempo 𝑡.\n",
    "\n",
    "$$S(t) = P(T > t)$$\n",
    "\n",
    "\n",
    "- Taxa de risco $h(t)$: retorna uma probabilidade aproximada de que um evento ocorra no pequeno intervalo de tempo $[𝑡; 𝑡+\\Delta𝑡[$, sob a condição de que um indivíduo permaneça livre de eventos até o tempo 𝑡.\n",
    "\n",
    "$$h(t) = \\lim_{\\Delta t \\rightarrow 0} \\frac{P( t < T < t + \\Delta t | T > t)}{\\Delta t} $$\n",
    "\n",
    "- Taxa de risco acumulada $H(t)$: em contraste com a função de sobrevivência, retorna informações sobre a ocorrência de um evento até o tempo t.\n",
    "\n",
    "$$H(t) = \\int_{0} ^ {t} h(u) du$$\n",
    "\n",
    "\n",
    "### Árvore de decisão\n",
    "\n",
    "A Árvore de Decisão é uma técnica de aprendizado de máquina do tipo supervisionado **não paramétrico** usado para classificação e regressão. O objetivo é criar um modelo que preveja o valor de uma variável resposta aprendendo regras de decisão simples inferidas a partir de covariáveis/variáveis preditoras. Uma árvore pode ser vista como uma aproximação constante por partes, isto é, as árvores de decisão aprendem com os dados para aproximar uma curva senoidal com um conjunto de regras de decisão *if-then-else*. Quanto mais profunda a árvore, mais complexas as regras de decisão e mais adequado o modelo.\n",
    "\n",
    "Algumas vantagens das árvores de decisão são:\n",
    "\n",
    "- Simples de entender e interpretar. As árvores podem ser visualizadas.\n",
    "\n",
    "- Requer pouca preparação de dados. Outras técnicas geralmente requerem normalização de dados, variáveis categóricas precisam ser tratadas e valores em branco devem ser removidos. \n",
    "\n",
    "- O custo de usar a árvore (ou seja, prever dados) é logarítmico no número de pontos de dados usados para treinar a árvore, isto é, $O(log(n))$.\n",
    "\n",
    "- Capaz de lidar com dados numéricos e categóricos. \n",
    "\n",
    "- Capaz de lidar com uma variável resposta multivariada.\n",
    "\n",
    "- Não é caixa preta. Se uma determinada situação é observável em um modelo, a explicação para a condição é facilmente explicada pela lógica booleana. Por outro lado, em um modelo de caixa preta (por exemplo, em uma rede neural artificial), os resultados podem ser mais difíceis de interpretar.\n",
    "\n",
    "- Possível validar um modelo usando testes estatísticos. Isso torna possível explicar a confiabilidade do modelo.\n",
    "\n",
    "- Funciona bem, mesmo que suas suposições sejam um pouco violadas pelo modelo verdadeiro a partir do qual os dados foram gerados.\n",
    "\n",
    "As desvantagens das árvores de decisão incluem:\n",
    "\n",
    "- A árvore de decisão pode criar árvores supercomplexas que não generalizam bem os dados. Isso é chamado de **sobreajuste**. Hiperparâmetros como poda, definir o número mínimo de amostras necessárias em um nó folha ou definir a profundidade máxima da árvore são necessários para evitar esse problema.\n",
    "\n",
    "- As árvores de decisão podem ser instáveis porque pequenas variações nos dados podem resultar na geração de uma árvore completamente diferente. Esse problema é mitigado usando árvores de decisão dentro de um ensemble.\n",
    "\n",
    "- As previsões de árvores de decisão não são suaves nem contínuas, mas aproximações constantes por partes. Portanto, eles não são bons em extrapolação.\n",
    "\n",
    "- O problema de aprender uma árvore de decisão ótima é conhecido por ser NP-completo sob vários aspectos de otimalidade e até mesmo para conceitos simples. Consequentemente, algoritmos práticos de aprendizado de árvore de decisão são baseados em algoritmos heurísticos, como o algoritmo guloso, onde as decisões localmente ótimas são tomadas em cada nó. Tais algoritmos não podem garantir o retorno da árvore de decisão globalmente ótima. Isso pode ser mitigado treinando várias árvores em um aprendizado por ensemble, onde os recursos e as amostras são amostrados aleatoriamente com replicação.\n",
    "\n",
    "- Existem conceitos difíceis de aprender porque as árvores de decisão não os expressam facilmente, como problemas de XOR, paridade ou multiplexador.\n",
    "\n",
    "- Os treinamentos da árvore de decisão criam árvores tendenciosas se algumas classes dominarem, isto é, se existe desbalanceamento dos dados. Portanto, é recomendado balancear o conjunto de dados antes de ajustar com a árvore de decisão.\n",
    "\n",
    "\n",
    "### Métodos de ensemble\n",
    "\n",
    "O objetivo dos métodos ensemble é combinar as previsões de vários estimadores construídos com um determinado algoritmo de aprendizado para melhorar a generalização/robustez sobre um único estimador.\n",
    "\n",
    "Duas famílias de métodos de conjunto são geralmente distinguidas:\n",
    "\n",
    "- Nos métodos de média, a ideia é construir vários estimadores independentemente e, em seguida, calcular a média de suas previsões. Em média, o estimador combinado é geralmente melhor do que qualquer estimador de base única porque sua variância é reduzida.\n",
    "\n",
    "Exemplos: Bagging e Random Forest.\n",
    "\n",
    "- Por outro lado, nos métodos boosting, os estimadores de base são construídos sequencialmente e tenta-se reduzir o viés do estimador combinado. A motivação é combinar vários modelos fracos para produzir um conjunto poderoso.\n",
    "\n",
    "Exemplos: AdaBoost e Gradient Tree Boosting.\n",
    "\n",
    "### Random Forest (Random Survival Forest)\n",
    "\n",
    "Random Forest é um método de aprendizado supervisionado para classificação, regressão e outras tarefas que opera construindo uma infinidade de árvores de decisão em tempo de treinamento. Para tarefas de classificação, a saída do random forest é a classe selecionada pela maioria das árvores. Para tarefas de regressão, a previsão média ou média das árvores individuais é retornada. \n",
    "\n",
    "O algoritmo de treinamento do Random Forest aplica a técnica geral de agregação de bootstrap para o aprendizado de árvores de decisão. Dado um conjunto de treinamento com covariáveis $X$ com respostas $y$, o bootstrap realiza repetidamente (B vezes) uma seleção de uma amostra aleatória com replicação do conjunto de treinamento e ajusta as árvores a essas amostras:\n",
    "\n",
    "Para $b = 1, ..., B$:\n",
    "\n",
    "- Amostras, com reposição, $n$ exemplos de treinamento de X, Y; chame-os de $X_b$, $Y_b$.\n",
    "- Treine uma árvore de regressão $f_b$ em $X_b, Y_b$.\n",
    "- Após o treinamento, as previsões para amostras não vistas x' podem ser feitas pela média das previsões de todas as árvores de regressão individuais em x':\n",
    "\n",
    "$$\\hat{Y} = \\frac{1}{B} \\sum_{i=1}^{B} f_b(x')$$\n",
    "\n",
    "\n",
    "### Gradient Boosting\n",
    "\n",
    "O gradient boosting é uma técnica de aprendizado de máquina para problemas de regressão e classificação, que produz um modelo de predição na forma de um ensemble de modelos de previsão fracos, geralmente árvores de decisão . Ela constrói o modelo em etapas, como outros métodos de boosting, e os generaliza, permitindo a otimização de uma função de perda diferenciável arbitrária.\n",
    "\n",
    "Considere um conjunto de treinamento com covariáveis $X$ e resposta $y$, $m$ o número de iterações, $\\gamma$ a \"learning rate\" e $L(y, \\hat{y})$ uma função de perda, o algoritmo de treinamento do Gradient Boosting consiste nas seguintes etapas: \n",
    "\n",
    "- Inicializa o algoritmo com um valor constante: \n",
    "\n",
    "$$F_0(x) = arg\\min_{\\tau} \\sum_{i} L(y_i, \\tau)$$\n",
    "\n",
    "- Para $m=1,...,M$, repita o seguinte processo:\n",
    "\n",
    "    + Calcule os pseudo-resíduos:\n",
    "    \n",
    "        $$rim = -(\\frac{dL(y_i, F(x_i))}{dF(x_i)})_{F(x_i) = F_m(x_i)}$$\n",
    "        \n",
    "    + Ajuste uma árvore de decisão denotada por h_m(x_i) com o conjunto (x_i, r_im).\n",
    "    \n",
    "    + Calcule $F_m(x)$: \n",
    "    \n",
    "        $$F_m(x) = F_{m-1}(x) + \\gamma h_m(x)$$\n",
    "               \n",
    "- Por fim, a predição é dada por $F_m(x)$.\n",
    "    \n",
    "\n",
    "### Survival Tree\n",
    "\n",
    "O survival tree é um algoritmo de árvore para problemas de análise de sobrevivência. A diferença entre as árvores de regressão, classificação e sobrevivência é a \"estatística de divisão\" dos dados em cada nó e folha. No caso de sobrevivência, o split dos dados é realizado pelo teste log-rank. \n",
    "\n",
    "Com isso, após definidos as folhas, conseguimos gerar as seguintes predições: \n",
    "\n",
    "- A funcão de risco cumulativa pelo estimador Nelson–Aalen para cada ponto $t$.\n",
    "\n",
    "- A função de sobrevivência pelo estimador kaplan-meier para cada ponto $t$. \n",
    "\n",
    "- O número total de eventos, que pode ser estimado pela soma da função de risco cumulativa estimada: \n",
    "\n",
    "$$\\Sigma_{j=1}^{n} H(T_j | x)$$\n",
    "    \n",
    "onde $n$ é o número de tempos distintos no conjunto de treinamento. \n",
    "    \n",
    "\n",
    "Fontes: https://medium.com/analytics-vidhya/math-behind-gbm-and-xgboost-d00e8536b7de\n",
    "\n"
   ]
  },
  {
   "cell_type": "markdown",
   "id": "66cfc333",
   "metadata": {},
   "source": [
    "#### Ideias\n",
    "\n",
    "Mensura o split dos dados com base em outras estatísticas e modelo de cox. "
   ]
  },
  {
   "cell_type": "code",
   "execution_count": 1,
   "id": "64a1ddb8",
   "metadata": {
    "ExecuteTime": {
     "end_time": "2023-11-14T03:44:38.283943Z",
     "start_time": "2023-11-14T03:44:32.823136Z"
    }
   },
   "outputs": [],
   "source": [
    "import pandas as pd\n",
    "from sksurv.tree import SurvivalTree\n",
    "from sksurv.linear_model import CoxPHSurvivalAnalysis\n",
    "from sklearn.model_selection import GridSearchCV, train_test_split\n",
    "import seaborn as sns\n",
    "import matplotlib.pyplot as plt\n",
    "from sksurv.datasets import get_x_y\n",
    "from sksurv.tree import SurvivalTree\n",
    "from sksurv.ensemble import RandomSurvivalForest, GradientBoostingSurvivalAnalysis\n",
    "from sksurv.metrics import brier_score, concordance_index_censored\n",
    "import plot_survival_tree\n",
    "from lifelines import KaplanMeierFitter\n",
    "from sklearn.model_selection import learning_curve, ShuffleSplit"
   ]
  },
  {
   "cell_type": "markdown",
   "id": "233c5c27",
   "metadata": {},
   "source": [
    "Funções:"
   ]
  },
  {
   "cell_type": "code",
   "execution_count": 2,
   "id": "c5f7d4ae",
   "metadata": {
    "ExecuteTime": {
     "end_time": "2023-11-14T03:44:38.304824Z",
     "start_time": "2023-11-14T03:44:38.301797Z"
    }
   },
   "outputs": [],
   "source": [
    "transform_int = lambda x: 1 if x == 'Sim' else 0"
   ]
  },
  {
   "cell_type": "code",
   "execution_count": 3,
   "id": "4a74dfa9",
   "metadata": {
    "ExecuteTime": {
     "end_time": "2023-11-14T03:44:43.430106Z",
     "start_time": "2023-11-14T03:44:43.427142Z"
    }
   },
   "outputs": [],
   "source": [
    "transform_int_in_english = lambda x: 1 if x == 'Yes' else 0"
   ]
  },
  {
   "cell_type": "code",
   "execution_count": 4,
   "id": "dd2f1663",
   "metadata": {
    "ExecuteTime": {
     "end_time": "2023-11-14T03:44:43.789737Z",
     "start_time": "2023-11-14T03:44:43.786664Z"
    }
   },
   "outputs": [],
   "source": [
    "def transform_in_dummies(df, categorical_cols):\n",
    "    df_dummies = pd.get_dummies(df[categorical_cols], drop_first=True)\n",
    "    dummies_cols = df_dummies.columns\n",
    "    return list(dummies_cols), df_dummies"
   ]
  },
  {
   "cell_type": "markdown",
   "id": "a64d956c",
   "metadata": {},
   "source": [
    "Lendo os dados:"
   ]
  },
  {
   "cell_type": "code",
   "execution_count": 5,
   "id": "5b111119",
   "metadata": {
    "ExecuteTime": {
     "end_time": "2023-11-14T03:44:44.653064Z",
     "start_time": "2023-11-14T03:44:44.632981Z"
    }
   },
   "outputs": [],
   "source": [
    "df = pd.read_csv(\"/Users/vinicius.oliveira/Downloads/ICESPv1.csv\")"
   ]
  },
  {
   "cell_type": "markdown",
   "id": "20f093a5",
   "metadata": {},
   "source": [
    "Tratamentos iniciais:"
   ]
  },
  {
   "cell_type": "code",
   "execution_count": 6,
   "id": "36728512",
   "metadata": {
    "ExecuteTime": {
     "end_time": "2023-11-14T03:44:45.850019Z",
     "start_time": "2023-11-14T03:44:45.845190Z"
    }
   },
   "outputs": [],
   "source": [
    "df['insuf_cardiaca'] = df['insuf_cardiaca3e4'].apply(lambda x: 1 if x == 'I/II' else 0)"
   ]
  },
  {
   "cell_type": "code",
   "execution_count": 7,
   "id": "ffc6f9bc",
   "metadata": {
    "ExecuteTime": {
     "end_time": "2023-11-14T03:44:46.337166Z",
     "start_time": "2023-11-14T03:44:46.333507Z"
    }
   },
   "outputs": [],
   "source": [
    "df['tipo_cirurgia'] = df['tipo_cirurgia'].apply(lambda x: 'Nao' if type(x) == float else x)"
   ]
  },
  {
   "cell_type": "code",
   "execution_count": 8,
   "id": "5260b2ad",
   "metadata": {
    "ExecuteTime": {
     "end_time": "2023-11-14T03:44:46.714877Z",
     "start_time": "2023-11-14T03:44:46.711395Z"
    }
   },
   "outputs": [],
   "source": [
    "df['tipo_quimioterapia'] = df['tipo_quimioterapia'].apply(lambda x: 'Nao' if type(x) == float else x)"
   ]
  },
  {
   "cell_type": "code",
   "execution_count": 9,
   "id": "37192343",
   "metadata": {
    "ExecuteTime": {
     "end_time": "2023-11-14T03:44:47.099598Z",
     "start_time": "2023-11-14T03:44:47.095889Z"
    }
   },
   "outputs": [],
   "source": [
    "df['tipo_radioterapia'] = df['tipo_radioterapia'].apply(lambda x: 'Nao' if type(x) == float else x)"
   ]
  },
  {
   "cell_type": "code",
   "execution_count": 10,
   "id": "117c4343",
   "metadata": {
    "ExecuteTime": {
     "end_time": "2023-11-14T03:44:47.464559Z",
     "start_time": "2023-11-14T03:44:47.459069Z"
    }
   },
   "outputs": [],
   "source": [
    "meanQV0 = np.mean(df['QV.0'])\n",
    "df['QV.0'] = df['QV.0'].apply(lambda x: meanQV0 if np.isnan(x) else x)"
   ]
  },
  {
   "cell_type": "code",
   "execution_count": 11,
   "id": "b4bb58a0",
   "metadata": {
    "ExecuteTime": {
     "end_time": "2023-11-14T03:44:47.940021Z",
     "start_time": "2023-11-14T03:44:47.936513Z"
    }
   },
   "outputs": [],
   "source": [
    "df['event'] = df['delta'].astype(bool)"
   ]
  },
  {
   "cell_type": "markdown",
   "id": "6509e8ac",
   "metadata": {},
   "source": [
    "Lendo o dataset:"
   ]
  },
  {
   "cell_type": "code",
   "execution_count": 12,
   "id": "339278e7",
   "metadata": {
    "ExecuteTime": {
     "end_time": "2023-11-14T03:44:49.063365Z",
     "start_time": "2023-11-14T03:44:49.040155Z"
    }
   },
   "outputs": [
    {
     "data": {
      "text/html": [
       "<div>\n",
       "<style scoped>\n",
       "    .dataframe tbody tr th:only-of-type {\n",
       "        vertical-align: middle;\n",
       "    }\n",
       "\n",
       "    .dataframe tbody tr th {\n",
       "        vertical-align: top;\n",
       "    }\n",
       "\n",
       "    .dataframe thead th {\n",
       "        text-align: right;\n",
       "    }\n",
       "</style>\n",
       "<table border=\"1\" class=\"dataframe\">\n",
       "  <thead>\n",
       "    <tr style=\"text-align: right;\">\n",
       "      <th></th>\n",
       "      <th>Unnamed: 0</th>\n",
       "      <th>idpac</th>\n",
       "      <th>idade</th>\n",
       "      <th>sexo</th>\n",
       "      <th>imc</th>\n",
       "      <th>imc_cat</th>\n",
       "      <th>insuf_renal</th>\n",
       "      <th>insuf_resp</th>\n",
       "      <th>cirrose</th>\n",
       "      <th>alcoolismo</th>\n",
       "      <th>...</th>\n",
       "      <th>hospit_antes_uti</th>\n",
       "      <th>QV.0</th>\n",
       "      <th>QV.0Cat</th>\n",
       "      <th>SAPS3_Pontos</th>\n",
       "      <th>SAPS3cat</th>\n",
       "      <th>tempo</th>\n",
       "      <th>delta</th>\n",
       "      <th>centro</th>\n",
       "      <th>insuf_cardiaca</th>\n",
       "      <th>event</th>\n",
       "    </tr>\n",
       "  </thead>\n",
       "  <tbody>\n",
       "    <tr>\n",
       "      <th>0</th>\n",
       "      <td>1</td>\n",
       "      <td>001/0001</td>\n",
       "      <td>29.876712</td>\n",
       "      <td>F</td>\n",
       "      <td>16.135394</td>\n",
       "      <td>Underweight</td>\n",
       "      <td>Nao</td>\n",
       "      <td>Nao</td>\n",
       "      <td>Nao</td>\n",
       "      <td>Nao</td>\n",
       "      <td>...</td>\n",
       "      <td>0</td>\n",
       "      <td>0.725</td>\n",
       "      <td>0.6 to 0.8</td>\n",
       "      <td>46</td>\n",
       "      <td>[38,54)</td>\n",
       "      <td>240</td>\n",
       "      <td>1</td>\n",
       "      <td>ICESP</td>\n",
       "      <td>1</td>\n",
       "      <td>True</td>\n",
       "    </tr>\n",
       "    <tr>\n",
       "      <th>1</th>\n",
       "      <td>2</td>\n",
       "      <td>001/0002</td>\n",
       "      <td>26.945205</td>\n",
       "      <td>M</td>\n",
       "      <td>26.122449</td>\n",
       "      <td>Overweight</td>\n",
       "      <td>Nao</td>\n",
       "      <td>Nao</td>\n",
       "      <td>Nao</td>\n",
       "      <td>Nao</td>\n",
       "      <td>...</td>\n",
       "      <td>1</td>\n",
       "      <td>0.088</td>\n",
       "      <td>&lt;0.4</td>\n",
       "      <td>65</td>\n",
       "      <td>[54,93]</td>\n",
       "      <td>731</td>\n",
       "      <td>0</td>\n",
       "      <td>ICESP</td>\n",
       "      <td>1</td>\n",
       "      <td>False</td>\n",
       "    </tr>\n",
       "    <tr>\n",
       "      <th>2</th>\n",
       "      <td>3</td>\n",
       "      <td>001/0003</td>\n",
       "      <td>76.364384</td>\n",
       "      <td>M</td>\n",
       "      <td>27.440599</td>\n",
       "      <td>Overweight</td>\n",
       "      <td>Nao</td>\n",
       "      <td>Nao</td>\n",
       "      <td>Nao</td>\n",
       "      <td>Nao</td>\n",
       "      <td>...</td>\n",
       "      <td>1</td>\n",
       "      <td>0.850</td>\n",
       "      <td>0.8 to 1.0</td>\n",
       "      <td>38</td>\n",
       "      <td>[38,54)</td>\n",
       "      <td>730</td>\n",
       "      <td>0</td>\n",
       "      <td>ICESP</td>\n",
       "      <td>1</td>\n",
       "      <td>False</td>\n",
       "    </tr>\n",
       "    <tr>\n",
       "      <th>3</th>\n",
       "      <td>4</td>\n",
       "      <td>001/0004</td>\n",
       "      <td>71.676712</td>\n",
       "      <td>M</td>\n",
       "      <td>24.382716</td>\n",
       "      <td>Healthy weight</td>\n",
       "      <td>Nao</td>\n",
       "      <td>Nao</td>\n",
       "      <td>Nao</td>\n",
       "      <td>Nao</td>\n",
       "      <td>...</td>\n",
       "      <td>4</td>\n",
       "      <td>0.710</td>\n",
       "      <td>0.6 to 0.8</td>\n",
       "      <td>66</td>\n",
       "      <td>[54,93]</td>\n",
       "      <td>7</td>\n",
       "      <td>1</td>\n",
       "      <td>ICESP</td>\n",
       "      <td>1</td>\n",
       "      <td>True</td>\n",
       "    </tr>\n",
       "    <tr>\n",
       "      <th>4</th>\n",
       "      <td>5</td>\n",
       "      <td>001/0005</td>\n",
       "      <td>25.783562</td>\n",
       "      <td>M</td>\n",
       "      <td>18.113754</td>\n",
       "      <td>Underweight</td>\n",
       "      <td>Nao</td>\n",
       "      <td>Nao</td>\n",
       "      <td>Nao</td>\n",
       "      <td>Nao</td>\n",
       "      <td>...</td>\n",
       "      <td>3</td>\n",
       "      <td>-0.181</td>\n",
       "      <td>&lt;0.4</td>\n",
       "      <td>44</td>\n",
       "      <td>[38,54)</td>\n",
       "      <td>201</td>\n",
       "      <td>1</td>\n",
       "      <td>ICESP</td>\n",
       "      <td>1</td>\n",
       "      <td>True</td>\n",
       "    </tr>\n",
       "  </tbody>\n",
       "</table>\n",
       "<p>5 rows × 35 columns</p>\n",
       "</div>"
      ],
      "text/plain": [
       "   Unnamed: 0     idpac      idade sexo        imc         imc_cat  \\\n",
       "0           1  001/0001  29.876712    F  16.135394     Underweight   \n",
       "1           2  001/0002  26.945205    M  26.122449      Overweight   \n",
       "2           3  001/0003  76.364384    M  27.440599      Overweight   \n",
       "3           4  001/0004  71.676712    M  24.382716  Healthy weight   \n",
       "4           5  001/0005  25.783562    M  18.113754     Underweight   \n",
       "\n",
       "  insuf_renal insuf_resp cirrose alcoolismo  ... hospit_antes_uti   QV.0  \\\n",
       "0         Nao        Nao     Nao        Nao  ...                0  0.725   \n",
       "1         Nao        Nao     Nao        Nao  ...                1  0.088   \n",
       "2         Nao        Nao     Nao        Nao  ...                1  0.850   \n",
       "3         Nao        Nao     Nao        Nao  ...                4  0.710   \n",
       "4         Nao        Nao     Nao        Nao  ...                3 -0.181   \n",
       "\n",
       "      QV.0Cat SAPS3_Pontos SAPS3cat tempo delta centro insuf_cardiaca  event  \n",
       "0  0.6 to 0.8           46  [38,54)   240     1  ICESP              1   True  \n",
       "1        <0.4           65  [54,93]   731     0  ICESP              1  False  \n",
       "2  0.8 to 1.0           38  [38,54)   730     0  ICESP              1  False  \n",
       "3  0.6 to 0.8           66  [54,93]     7     1  ICESP              1   True  \n",
       "4        <0.4           44  [38,54)   201     1  ICESP              1   True  \n",
       "\n",
       "[5 rows x 35 columns]"
      ]
     },
     "execution_count": 12,
     "metadata": {},
     "output_type": "execute_result"
    }
   ],
   "source": [
    "df.head()"
   ]
  },
  {
   "cell_type": "markdown",
   "id": "ffec5947",
   "metadata": {},
   "source": [
    "Definindo alguns conjuntos de covariáveis:"
   ]
  },
  {
   "cell_type": "code",
   "execution_count": 18,
   "id": "43a37a99",
   "metadata": {
    "ExecuteTime": {
     "end_time": "2023-11-14T03:45:06.549789Z",
     "start_time": "2023-11-14T03:45:06.545607Z"
    }
   },
   "outputs": [],
   "source": [
    "lstSimNao = ['insuf_renal', \n",
    "             'insuf_resp', \n",
    "             'cirrose', \n",
    "             'alcoolismo'\n",
    "             #'cirurgia',\n",
    "             #'quimioterapia',\n",
    "             #'radioterapia'\n",
    "            ]\n",
    "\n",
    "lstYesNo = ['diabetesSN',\n",
    "            'deliriumSN']\n",
    "\n",
    "lstCategorical = ['sexo',\n",
    "                  'tipoadm',\n",
    "                  'site_primario',\n",
    "                  'status_cancer',\n",
    "                  'extensao_cancer',\n",
    "                  'tipo_cirurgia',\n",
    "                  'tipo_quimioterapia',\n",
    "                  'tipo_radioterapia']\n",
    "\n",
    "lstNum = ['insuf_cardiaca',\n",
    "          'idade', \n",
    "          'imc',\n",
    "          'QV.0',\n",
    "          'SAPS3_Pontos',\n",
    "          'capac_func_ecog',\n",
    "          'hospit_antes_uti']"
   ]
  },
  {
   "cell_type": "markdown",
   "id": "c80ce535",
   "metadata": {},
   "source": [
    "EDA:"
   ]
  },
  {
   "cell_type": "code",
   "execution_count": 19,
   "id": "952268a8",
   "metadata": {
    "ExecuteTime": {
     "end_time": "2023-11-14T03:45:07.672115Z",
     "start_time": "2023-11-14T03:45:07.380459Z"
    }
   },
   "outputs": [
    {
     "name": "stderr",
     "output_type": "stream",
     "text": [
      "/Users/vinicius.oliveira/miniconda3/lib/python3.7/site-packages/ipykernel_launcher.py:8: UserWarning: FixedFormatter should only be used together with FixedLocator\n",
      "  \n",
      "/Users/vinicius.oliveira/miniconda3/lib/python3.7/site-packages/ipykernel_launcher.py:16: UserWarning: FixedFormatter should only be used together with FixedLocator\n",
      "  app.launch_new_instance()\n",
      "/Users/vinicius.oliveira/miniconda3/lib/python3.7/site-packages/ipykernel_launcher.py:23: UserWarning: FixedFormatter should only be used together with FixedLocator\n"
     ]
    },
    {
     "data": {
      "text/plain": [
       "[Text(0.0, 0, '0.0%'),\n",
       " Text(0.1, 0, '10.0%'),\n",
       " Text(0.2, 0, '20.0%'),\n",
       " Text(0.30000000000000004, 0, '30.0%'),\n",
       " Text(0.4, 0, '40.0%'),\n",
       " Text(0.5, 0, '50.0%'),\n",
       " Text(0.6000000000000001, 0, '60.0%'),\n",
       " Text(0.7000000000000001, 0, '70.0%'),\n",
       " Text(0.8, 0, '80.0%')]"
      ]
     },
     "execution_count": 19,
     "metadata": {},
     "output_type": "execute_result"
    },
    {
     "data": {
      "image/png": "[encoded data removed]",
      "text/plain": [
       "<Figure size 720x360 with 3 Axes>"
      ]
     },
     "metadata": {
      "needs_background": "light"
     },
     "output_type": "display_data"
    }
   ],
   "source": [
    "fig, axes = plt.subplots(nrows=3)\n",
    "\n",
    "ax = df['tipo_cirurgia'].value_counts(dropna=True, normalize=True).plot.barh(figsize=(10,5), ax=axes[0])\n",
    "ax.set_ylabel(\"Cirurgia\")\n",
    "ax.set_xlabel(\"Frequência Relativa (%)\")\n",
    "ax.set_xlim(0, 0.8)\n",
    "vals = ax.get_xticks()\n",
    "ax.set_xticklabels(['{:,.1%}'.format(x) for x in vals])\n",
    "\n",
    "\n",
    "ax = df['tipo_radioterapia'].value_counts(dropna=True, normalize=True).plot.barh(figsize=(10,5), ax=axes[1])\n",
    "ax.set_ylabel(\"Radioterapia\")\n",
    "ax.set_xlabel(\"Frequência Relativa (%)\")\n",
    "\n",
    "vals = ax.get_xticks()\n",
    "ax.set_xticklabels(['{:,.1%}'.format(x) for x in vals])\n",
    "\n",
    "ax = df['tipo_quimioterapia'].value_counts(dropna=True, normalize=True).plot.barh(figsize=(10,5), ax=axes[2])\n",
    "ax.set_ylabel(\"Quimioterapia\")\n",
    "ax.set_xlabel(\"Frequência Relativa (%)\")\n",
    "ax.set_xlim(0, 0.8)\n",
    "vals = ax.get_xticks()\n",
    "ax.set_xticklabels(['{:,.1%}'.format(x) for x in vals])"
   ]
  },
  {
   "cell_type": "code",
   "execution_count": 20,
   "id": "08d38562",
   "metadata": {
    "ExecuteTime": {
     "end_time": "2023-11-14T03:45:08.036503Z",
     "start_time": "2023-11-14T03:45:07.849223Z"
    }
   },
   "outputs": [
    {
     "name": "stderr",
     "output_type": "stream",
     "text": [
      "/Users/vinicius.oliveira/miniconda3/lib/python3.7/site-packages/ipykernel_launcher.py:6: UserWarning: FixedFormatter should only be used together with FixedLocator\n",
      "  \n"
     ]
    },
    {
     "data": {
      "text/plain": [
       "[Text(0.0, 0, '0.0%'),\n",
       " Text(0.1, 0, '10.0%'),\n",
       " Text(0.2, 0, '20.0%'),\n",
       " Text(0.30000000000000004, 0, '30.0%'),\n",
       " Text(0.4, 0, '40.0%'),\n",
       " Text(0.5, 0, '50.0%'),\n",
       " Text(0.6000000000000001, 0, '60.0%'),\n",
       " Text(0.7000000000000001, 0, '70.0%'),\n",
       " Text(0.8, 0, '80.0%')]"
      ]
     },
     "execution_count": 20,
     "metadata": {},
     "output_type": "execute_result"
    },
    {
     "data": {
      "image/png": "[encoded data removed]",
      "text/plain": [
       "<Figure size 720x360 with 1 Axes>"
      ]
     },
     "metadata": {
      "needs_background": "light"
     },
     "output_type": "display_data"
    }
   ],
   "source": [
    "ax = df['extensao_cancer'].value_counts(dropna=True, normalize=True).plot.barh(figsize=(10,5))\n",
    "ax.set_ylabel(\"Extensão do câncer\")\n",
    "ax.set_xlabel(\"Frequência Relativa (%)\")\n",
    "ax.set_xlim(0, 0.8)\n",
    "vals = ax.get_xticks()\n",
    "ax.set_xticklabels(['{:,.1%}'.format(x) for x in vals])"
   ]
  },
  {
   "cell_type": "markdown",
   "id": "c50806be",
   "metadata": {},
   "source": [
    "Pré-processamentos:"
   ]
  },
  {
   "cell_type": "code",
   "execution_count": 21,
   "id": "ea218ed8",
   "metadata": {
    "ExecuteTime": {
     "end_time": "2023-11-14T03:45:08.670797Z",
     "start_time": "2023-11-14T03:45:08.664244Z"
    }
   },
   "outputs": [],
   "source": [
    "for col in lstSimNao:\n",
    "    \n",
    "    df[col] = df[col].apply(transform_int)"
   ]
  },
  {
   "cell_type": "code",
   "execution_count": 22,
   "id": "175b3bfb",
   "metadata": {
    "ExecuteTime": {
     "end_time": "2023-11-14T03:45:08.966349Z",
     "start_time": "2023-11-14T03:45:08.947857Z"
    }
   },
   "outputs": [
    {
     "data": {
      "text/html": [
       "<div>\n",
       "<style scoped>\n",
       "    .dataframe tbody tr th:only-of-type {\n",
       "        vertical-align: middle;\n",
       "    }\n",
       "\n",
       "    .dataframe tbody tr th {\n",
       "        vertical-align: top;\n",
       "    }\n",
       "\n",
       "    .dataframe thead th {\n",
       "        text-align: right;\n",
       "    }\n",
       "</style>\n",
       "<table border=\"1\" class=\"dataframe\">\n",
       "  <thead>\n",
       "    <tr style=\"text-align: right;\">\n",
       "      <th></th>\n",
       "      <th>insuf_renal</th>\n",
       "      <th>insuf_resp</th>\n",
       "      <th>cirrose</th>\n",
       "      <th>alcoolismo</th>\n",
       "    </tr>\n",
       "  </thead>\n",
       "  <tbody>\n",
       "    <tr>\n",
       "      <th>count</th>\n",
       "      <td>793.000000</td>\n",
       "      <td>793.00000</td>\n",
       "      <td>793.000000</td>\n",
       "      <td>793.000000</td>\n",
       "    </tr>\n",
       "    <tr>\n",
       "      <th>mean</th>\n",
       "      <td>0.025221</td>\n",
       "      <td>0.02396</td>\n",
       "      <td>0.016393</td>\n",
       "      <td>0.117276</td>\n",
       "    </tr>\n",
       "    <tr>\n",
       "      <th>std</th>\n",
       "      <td>0.156894</td>\n",
       "      <td>0.15302</td>\n",
       "      <td>0.127063</td>\n",
       "      <td>0.321952</td>\n",
       "    </tr>\n",
       "    <tr>\n",
       "      <th>min</th>\n",
       "      <td>0.000000</td>\n",
       "      <td>0.00000</td>\n",
       "      <td>0.000000</td>\n",
       "      <td>0.000000</td>\n",
       "    </tr>\n",
       "    <tr>\n",
       "      <th>25%</th>\n",
       "      <td>0.000000</td>\n",
       "      <td>0.00000</td>\n",
       "      <td>0.000000</td>\n",
       "      <td>0.000000</td>\n",
       "    </tr>\n",
       "    <tr>\n",
       "      <th>50%</th>\n",
       "      <td>0.000000</td>\n",
       "      <td>0.00000</td>\n",
       "      <td>0.000000</td>\n",
       "      <td>0.000000</td>\n",
       "    </tr>\n",
       "    <tr>\n",
       "      <th>75%</th>\n",
       "      <td>0.000000</td>\n",
       "      <td>0.00000</td>\n",
       "      <td>0.000000</td>\n",
       "      <td>0.000000</td>\n",
       "    </tr>\n",
       "    <tr>\n",
       "      <th>max</th>\n",
       "      <td>1.000000</td>\n",
       "      <td>1.00000</td>\n",
       "      <td>1.000000</td>\n",
       "      <td>1.000000</td>\n",
       "    </tr>\n",
       "  </tbody>\n",
       "</table>\n",
       "</div>"
      ],
      "text/plain": [
       "       insuf_renal  insuf_resp     cirrose  alcoolismo\n",
       "count   793.000000   793.00000  793.000000  793.000000\n",
       "mean      0.025221     0.02396    0.016393    0.117276\n",
       "std       0.156894     0.15302    0.127063    0.321952\n",
       "min       0.000000     0.00000    0.000000    0.000000\n",
       "25%       0.000000     0.00000    0.000000    0.000000\n",
       "50%       0.000000     0.00000    0.000000    0.000000\n",
       "75%       0.000000     0.00000    0.000000    0.000000\n",
       "max       1.000000     1.00000    1.000000    1.000000"
      ]
     },
     "execution_count": 22,
     "metadata": {},
     "output_type": "execute_result"
    }
   ],
   "source": [
    "df[lstSimNao].describe()"
   ]
  },
  {
   "cell_type": "code",
   "execution_count": 23,
   "id": "cd0b565c",
   "metadata": {
    "ExecuteTime": {
     "end_time": "2023-11-14T03:45:09.178936Z",
     "start_time": "2023-11-14T03:45:09.173872Z"
    }
   },
   "outputs": [],
   "source": [
    "for col in lstYesNo:\n",
    "    \n",
    "    df[col] = df[col].apply(transform_int_in_english)"
   ]
  },
  {
   "cell_type": "code",
   "execution_count": 24,
   "id": "b6cc2477",
   "metadata": {
    "ExecuteTime": {
     "end_time": "2023-11-14T03:45:09.686282Z",
     "start_time": "2023-11-14T03:45:09.672432Z"
    }
   },
   "outputs": [
    {
     "data": {
      "text/html": [
       "<div>\n",
       "<style scoped>\n",
       "    .dataframe tbody tr th:only-of-type {\n",
       "        vertical-align: middle;\n",
       "    }\n",
       "\n",
       "    .dataframe tbody tr th {\n",
       "        vertical-align: top;\n",
       "    }\n",
       "\n",
       "    .dataframe thead th {\n",
       "        text-align: right;\n",
       "    }\n",
       "</style>\n",
       "<table border=\"1\" class=\"dataframe\">\n",
       "  <thead>\n",
       "    <tr style=\"text-align: right;\">\n",
       "      <th></th>\n",
       "      <th>diabetesSN</th>\n",
       "      <th>deliriumSN</th>\n",
       "    </tr>\n",
       "  </thead>\n",
       "  <tbody>\n",
       "    <tr>\n",
       "      <th>count</th>\n",
       "      <td>793.000000</td>\n",
       "      <td>793.000000</td>\n",
       "    </tr>\n",
       "    <tr>\n",
       "      <th>mean</th>\n",
       "      <td>0.153846</td>\n",
       "      <td>0.156368</td>\n",
       "    </tr>\n",
       "    <tr>\n",
       "      <th>std</th>\n",
       "      <td>0.361029</td>\n",
       "      <td>0.363433</td>\n",
       "    </tr>\n",
       "    <tr>\n",
       "      <th>min</th>\n",
       "      <td>0.000000</td>\n",
       "      <td>0.000000</td>\n",
       "    </tr>\n",
       "    <tr>\n",
       "      <th>25%</th>\n",
       "      <td>0.000000</td>\n",
       "      <td>0.000000</td>\n",
       "    </tr>\n",
       "    <tr>\n",
       "      <th>50%</th>\n",
       "      <td>0.000000</td>\n",
       "      <td>0.000000</td>\n",
       "    </tr>\n",
       "    <tr>\n",
       "      <th>75%</th>\n",
       "      <td>0.000000</td>\n",
       "      <td>0.000000</td>\n",
       "    </tr>\n",
       "    <tr>\n",
       "      <th>max</th>\n",
       "      <td>1.000000</td>\n",
       "      <td>1.000000</td>\n",
       "    </tr>\n",
       "  </tbody>\n",
       "</table>\n",
       "</div>"
      ],
      "text/plain": [
       "       diabetesSN  deliriumSN\n",
       "count  793.000000  793.000000\n",
       "mean     0.153846    0.156368\n",
       "std      0.361029    0.363433\n",
       "min      0.000000    0.000000\n",
       "25%      0.000000    0.000000\n",
       "50%      0.000000    0.000000\n",
       "75%      0.000000    0.000000\n",
       "max      1.000000    1.000000"
      ]
     },
     "execution_count": 24,
     "metadata": {},
     "output_type": "execute_result"
    }
   ],
   "source": [
    "df[lstYesNo].describe()"
   ]
  },
  {
   "cell_type": "code",
   "execution_count": 25,
   "id": "ab0233f7",
   "metadata": {
    "ExecuteTime": {
     "end_time": "2023-11-14T03:45:09.983434Z",
     "start_time": "2023-11-14T03:45:09.970976Z"
    }
   },
   "outputs": [],
   "source": [
    "lstDummies, df_dummies = transform_in_dummies(df, lstCategorical)"
   ]
  },
  {
   "cell_type": "code",
   "execution_count": 26,
   "id": "75285978",
   "metadata": {
    "ExecuteTime": {
     "end_time": "2023-11-14T03:45:10.249427Z",
     "start_time": "2023-11-14T03:45:10.238355Z"
    }
   },
   "outputs": [],
   "source": [
    "df[lstDummies] = df_dummies"
   ]
  },
  {
   "cell_type": "code",
   "execution_count": 27,
   "id": "72cc13c1",
   "metadata": {
    "ExecuteTime": {
     "end_time": "2023-11-14T03:45:10.544663Z",
     "start_time": "2023-11-14T03:45:10.480094Z"
    }
   },
   "outputs": [
    {
     "data": {
      "text/html": [
       "<div>\n",
       "<style scoped>\n",
       "    .dataframe tbody tr th:only-of-type {\n",
       "        vertical-align: middle;\n",
       "    }\n",
       "\n",
       "    .dataframe tbody tr th {\n",
       "        vertical-align: top;\n",
       "    }\n",
       "\n",
       "    .dataframe thead th {\n",
       "        text-align: right;\n",
       "    }\n",
       "</style>\n",
       "<table border=\"1\" class=\"dataframe\">\n",
       "  <thead>\n",
       "    <tr style=\"text-align: right;\">\n",
       "      <th></th>\n",
       "      <th>sexo_M</th>\n",
       "      <th>tipoadm_Emergency</th>\n",
       "      <th>tipoadm_Medical</th>\n",
       "      <th>site_primario_breast</th>\n",
       "      <th>site_primario_digestive tract</th>\n",
       "      <th>site_primario_genital system</th>\n",
       "      <th>site_primario_hematological</th>\n",
       "      <th>site_primario_oral cavity and pharynx</th>\n",
       "      <th>site_primario_other/undeterm</th>\n",
       "      <th>site_primario_respiratory system</th>\n",
       "      <th>...</th>\n",
       "      <th>status_cancer_Controlado_remissao</th>\n",
       "      <th>extensao_cancer_Limitado</th>\n",
       "      <th>extensao_cancer_Localmente avancado</th>\n",
       "      <th>extensao_cancer_Metastase a distancia</th>\n",
       "      <th>tipo_cirurgia_Nao</th>\n",
       "      <th>tipo_cirurgia_Paliativa</th>\n",
       "      <th>tipo_quimioterapia_Nao</th>\n",
       "      <th>tipo_quimioterapia_Paliativa</th>\n",
       "      <th>tipo_radioterapia_Nao</th>\n",
       "      <th>tipo_radioterapia_Paliativa</th>\n",
       "    </tr>\n",
       "  </thead>\n",
       "  <tbody>\n",
       "    <tr>\n",
       "      <th>count</th>\n",
       "      <td>793.000000</td>\n",
       "      <td>793.000000</td>\n",
       "      <td>793.000000</td>\n",
       "      <td>793.000000</td>\n",
       "      <td>793.000000</td>\n",
       "      <td>793.000000</td>\n",
       "      <td>793.000000</td>\n",
       "      <td>793.000000</td>\n",
       "      <td>793.000000</td>\n",
       "      <td>793.000000</td>\n",
       "      <td>...</td>\n",
       "      <td>793.000000</td>\n",
       "      <td>793.000000</td>\n",
       "      <td>793.000000</td>\n",
       "      <td>793.000000</td>\n",
       "      <td>793.000000</td>\n",
       "      <td>793.000000</td>\n",
       "      <td>793.000000</td>\n",
       "      <td>793.000000</td>\n",
       "      <td>793.000000</td>\n",
       "      <td>793.000000</td>\n",
       "    </tr>\n",
       "    <tr>\n",
       "      <th>mean</th>\n",
       "      <td>0.577554</td>\n",
       "      <td>0.050441</td>\n",
       "      <td>0.442623</td>\n",
       "      <td>0.063052</td>\n",
       "      <td>0.350567</td>\n",
       "      <td>0.123581</td>\n",
       "      <td>0.081967</td>\n",
       "      <td>0.071879</td>\n",
       "      <td>0.090794</td>\n",
       "      <td>0.069357</td>\n",
       "      <td>...</td>\n",
       "      <td>0.061791</td>\n",
       "      <td>0.325347</td>\n",
       "      <td>0.358134</td>\n",
       "      <td>0.298865</td>\n",
       "      <td>0.393443</td>\n",
       "      <td>0.071879</td>\n",
       "      <td>0.619168</td>\n",
       "      <td>0.108449</td>\n",
       "      <td>0.784363</td>\n",
       "      <td>0.031526</td>\n",
       "    </tr>\n",
       "    <tr>\n",
       "      <th>std</th>\n",
       "      <td>0.494261</td>\n",
       "      <td>0.218992</td>\n",
       "      <td>0.497010</td>\n",
       "      <td>0.243209</td>\n",
       "      <td>0.477449</td>\n",
       "      <td>0.329311</td>\n",
       "      <td>0.274488</td>\n",
       "      <td>0.258450</td>\n",
       "      <td>0.287498</td>\n",
       "      <td>0.254220</td>\n",
       "      <td>...</td>\n",
       "      <td>0.240927</td>\n",
       "      <td>0.468800</td>\n",
       "      <td>0.479754</td>\n",
       "      <td>0.458049</td>\n",
       "      <td>0.488822</td>\n",
       "      <td>0.258450</td>\n",
       "      <td>0.485898</td>\n",
       "      <td>0.311143</td>\n",
       "      <td>0.411523</td>\n",
       "      <td>0.174844</td>\n",
       "    </tr>\n",
       "    <tr>\n",
       "      <th>min</th>\n",
       "      <td>0.000000</td>\n",
       "      <td>0.000000</td>\n",
       "      <td>0.000000</td>\n",
       "      <td>0.000000</td>\n",
       "      <td>0.000000</td>\n",
       "      <td>0.000000</td>\n",
       "      <td>0.000000</td>\n",
       "      <td>0.000000</td>\n",
       "      <td>0.000000</td>\n",
       "      <td>0.000000</td>\n",
       "      <td>...</td>\n",
       "      <td>0.000000</td>\n",
       "      <td>0.000000</td>\n",
       "      <td>0.000000</td>\n",
       "      <td>0.000000</td>\n",
       "      <td>0.000000</td>\n",
       "      <td>0.000000</td>\n",
       "      <td>0.000000</td>\n",
       "      <td>0.000000</td>\n",
       "      <td>0.000000</td>\n",
       "      <td>0.000000</td>\n",
       "    </tr>\n",
       "    <tr>\n",
       "      <th>25%</th>\n",
       "      <td>0.000000</td>\n",
       "      <td>0.000000</td>\n",
       "      <td>0.000000</td>\n",
       "      <td>0.000000</td>\n",
       "      <td>0.000000</td>\n",
       "      <td>0.000000</td>\n",
       "      <td>0.000000</td>\n",
       "      <td>0.000000</td>\n",
       "      <td>0.000000</td>\n",
       "      <td>0.000000</td>\n",
       "      <td>...</td>\n",
       "      <td>0.000000</td>\n",
       "      <td>0.000000</td>\n",
       "      <td>0.000000</td>\n",
       "      <td>0.000000</td>\n",
       "      <td>0.000000</td>\n",
       "      <td>0.000000</td>\n",
       "      <td>0.000000</td>\n",
       "      <td>0.000000</td>\n",
       "      <td>1.000000</td>\n",
       "      <td>0.000000</td>\n",
       "    </tr>\n",
       "    <tr>\n",
       "      <th>50%</th>\n",
       "      <td>1.000000</td>\n",
       "      <td>0.000000</td>\n",
       "      <td>0.000000</td>\n",
       "      <td>0.000000</td>\n",
       "      <td>0.000000</td>\n",
       "      <td>0.000000</td>\n",
       "      <td>0.000000</td>\n",
       "      <td>0.000000</td>\n",
       "      <td>0.000000</td>\n",
       "      <td>0.000000</td>\n",
       "      <td>...</td>\n",
       "      <td>0.000000</td>\n",
       "      <td>0.000000</td>\n",
       "      <td>0.000000</td>\n",
       "      <td>0.000000</td>\n",
       "      <td>0.000000</td>\n",
       "      <td>0.000000</td>\n",
       "      <td>1.000000</td>\n",
       "      <td>0.000000</td>\n",
       "      <td>1.000000</td>\n",
       "      <td>0.000000</td>\n",
       "    </tr>\n",
       "    <tr>\n",
       "      <th>75%</th>\n",
       "      <td>1.000000</td>\n",
       "      <td>0.000000</td>\n",
       "      <td>1.000000</td>\n",
       "      <td>0.000000</td>\n",
       "      <td>1.000000</td>\n",
       "      <td>0.000000</td>\n",
       "      <td>0.000000</td>\n",
       "      <td>0.000000</td>\n",
       "      <td>0.000000</td>\n",
       "      <td>0.000000</td>\n",
       "      <td>...</td>\n",
       "      <td>0.000000</td>\n",
       "      <td>1.000000</td>\n",
       "      <td>1.000000</td>\n",
       "      <td>1.000000</td>\n",
       "      <td>1.000000</td>\n",
       "      <td>0.000000</td>\n",
       "      <td>1.000000</td>\n",
       "      <td>0.000000</td>\n",
       "      <td>1.000000</td>\n",
       "      <td>0.000000</td>\n",
       "    </tr>\n",
       "    <tr>\n",
       "      <th>max</th>\n",
       "      <td>1.000000</td>\n",
       "      <td>1.000000</td>\n",
       "      <td>1.000000</td>\n",
       "      <td>1.000000</td>\n",
       "      <td>1.000000</td>\n",
       "      <td>1.000000</td>\n",
       "      <td>1.000000</td>\n",
       "      <td>1.000000</td>\n",
       "      <td>1.000000</td>\n",
       "      <td>1.000000</td>\n",
       "      <td>...</td>\n",
       "      <td>1.000000</td>\n",
       "      <td>1.000000</td>\n",
       "      <td>1.000000</td>\n",
       "      <td>1.000000</td>\n",
       "      <td>1.000000</td>\n",
       "      <td>1.000000</td>\n",
       "      <td>1.000000</td>\n",
       "      <td>1.000000</td>\n",
       "      <td>1.000000</td>\n",
       "      <td>1.000000</td>\n",
       "    </tr>\n",
       "  </tbody>\n",
       "</table>\n",
       "<p>8 rows × 22 columns</p>\n",
       "</div>"
      ],
      "text/plain": [
       "           sexo_M  tipoadm_Emergency  tipoadm_Medical  site_primario_breast  \\\n",
       "count  793.000000         793.000000       793.000000            793.000000   \n",
       "mean     0.577554           0.050441         0.442623              0.063052   \n",
       "std      0.494261           0.218992         0.497010              0.243209   \n",
       "min      0.000000           0.000000         0.000000              0.000000   \n",
       "25%      0.000000           0.000000         0.000000              0.000000   \n",
       "50%      1.000000           0.000000         0.000000              0.000000   \n",
       "75%      1.000000           0.000000         1.000000              0.000000   \n",
       "max      1.000000           1.000000         1.000000              1.000000   \n",
       "\n",
       "       site_primario_digestive tract  site_primario_genital system  \\\n",
       "count                     793.000000                    793.000000   \n",
       "mean                        0.350567                      0.123581   \n",
       "std                         0.477449                      0.329311   \n",
       "min                         0.000000                      0.000000   \n",
       "25%                         0.000000                      0.000000   \n",
       "50%                         0.000000                      0.000000   \n",
       "75%                         1.000000                      0.000000   \n",
       "max                         1.000000                      1.000000   \n",
       "\n",
       "       site_primario_hematological  site_primario_oral cavity and pharynx  \\\n",
       "count                   793.000000                             793.000000   \n",
       "mean                      0.081967                               0.071879   \n",
       "std                       0.274488                               0.258450   \n",
       "min                       0.000000                               0.000000   \n",
       "25%                       0.000000                               0.000000   \n",
       "50%                       0.000000                               0.000000   \n",
       "75%                       0.000000                               0.000000   \n",
       "max                       1.000000                               1.000000   \n",
       "\n",
       "       site_primario_other/undeterm  site_primario_respiratory system  ...  \\\n",
       "count                    793.000000                        793.000000  ...   \n",
       "mean                       0.090794                          0.069357  ...   \n",
       "std                        0.287498                          0.254220  ...   \n",
       "min                        0.000000                          0.000000  ...   \n",
       "25%                        0.000000                          0.000000  ...   \n",
       "50%                        0.000000                          0.000000  ...   \n",
       "75%                        0.000000                          0.000000  ...   \n",
       "max                        1.000000                          1.000000  ...   \n",
       "\n",
       "       status_cancer_Controlado_remissao  extensao_cancer_Limitado  \\\n",
       "count                         793.000000                793.000000   \n",
       "mean                            0.061791                  0.325347   \n",
       "std                             0.240927                  0.468800   \n",
       "min                             0.000000                  0.000000   \n",
       "25%                             0.000000                  0.000000   \n",
       "50%                             0.000000                  0.000000   \n",
       "75%                             0.000000                  1.000000   \n",
       "max                             1.000000                  1.000000   \n",
       "\n",
       "       extensao_cancer_Localmente avancado  \\\n",
       "count                           793.000000   \n",
       "mean                              0.358134   \n",
       "std                               0.479754   \n",
       "min                               0.000000   \n",
       "25%                               0.000000   \n",
       "50%                               0.000000   \n",
       "75%                               1.000000   \n",
       "max                               1.000000   \n",
       "\n",
       "       extensao_cancer_Metastase a distancia  tipo_cirurgia_Nao  \\\n",
       "count                             793.000000         793.000000   \n",
       "mean                                0.298865           0.393443   \n",
       "std                                 0.458049           0.488822   \n",
       "min                                 0.000000           0.000000   \n",
       "25%                                 0.000000           0.000000   \n",
       "50%                                 0.000000           0.000000   \n",
       "75%                                 1.000000           1.000000   \n",
       "max                                 1.000000           1.000000   \n",
       "\n",
       "       tipo_cirurgia_Paliativa  tipo_quimioterapia_Nao  \\\n",
       "count               793.000000              793.000000   \n",
       "mean                  0.071879                0.619168   \n",
       "std                   0.258450                0.485898   \n",
       "min                   0.000000                0.000000   \n",
       "25%                   0.000000                0.000000   \n",
       "50%                   0.000000                1.000000   \n",
       "75%                   0.000000                1.000000   \n",
       "max                   1.000000                1.000000   \n",
       "\n",
       "       tipo_quimioterapia_Paliativa  tipo_radioterapia_Nao  \\\n",
       "count                    793.000000             793.000000   \n",
       "mean                       0.108449               0.784363   \n",
       "std                        0.311143               0.411523   \n",
       "min                        0.000000               0.000000   \n",
       "25%                        0.000000               1.000000   \n",
       "50%                        0.000000               1.000000   \n",
       "75%                        0.000000               1.000000   \n",
       "max                        1.000000               1.000000   \n",
       "\n",
       "       tipo_radioterapia_Paliativa  \n",
       "count                   793.000000  \n",
       "mean                      0.031526  \n",
       "std                       0.174844  \n",
       "min                       0.000000  \n",
       "25%                       0.000000  \n",
       "50%                       0.000000  \n",
       "75%                       0.000000  \n",
       "max                       1.000000  \n",
       "\n",
       "[8 rows x 22 columns]"
      ]
     },
     "execution_count": 27,
     "metadata": {},
     "output_type": "execute_result"
    }
   ],
   "source": [
    "df_dummies.describe()"
   ]
  },
  {
   "cell_type": "code",
   "execution_count": 28,
   "id": "921b1279",
   "metadata": {
    "ExecuteTime": {
     "end_time": "2023-11-14T03:45:10.878081Z",
     "start_time": "2023-11-14T03:45:10.875155Z"
    }
   },
   "outputs": [],
   "source": [
    "lstFeatures = lstDummies + lstNum + lstSimNao + lstYesNo"
   ]
  },
  {
   "cell_type": "code",
   "execution_count": 29,
   "id": "cba4592d",
   "metadata": {
    "ExecuteTime": {
     "end_time": "2023-11-14T03:45:11.295556Z",
     "start_time": "2023-11-14T03:45:11.291546Z"
    }
   },
   "outputs": [
    {
     "data": {
      "text/plain": [
       "35"
      ]
     },
     "execution_count": 29,
     "metadata": {},
     "output_type": "execute_result"
    }
   ],
   "source": [
    "len(lstFeatures)"
   ]
  },
  {
   "cell_type": "code",
   "execution_count": 30,
   "id": "0e6c63ac",
   "metadata": {
    "ExecuteTime": {
     "end_time": "2023-11-14T03:45:11.875095Z",
     "start_time": "2023-11-14T03:45:11.872540Z"
    }
   },
   "outputs": [],
   "source": [
    "lstTarget = ['event', 'tempo']"
   ]
  },
  {
   "cell_type": "code",
   "execution_count": 31,
   "id": "91f62051",
   "metadata": {
    "ExecuteTime": {
     "end_time": "2023-11-14T03:45:12.262394Z",
     "start_time": "2023-11-14T03:45:12.259180Z"
    }
   },
   "outputs": [],
   "source": [
    "rename_columns = lambda x: (x, x.replace(\" \", \"_\").replace(\"-\", \"_\").replace(\"/\", \"_\").replace(\".\", \"_\"))"
   ]
  },
  {
   "cell_type": "code",
   "execution_count": 32,
   "id": "ff53a942",
   "metadata": {
    "ExecuteTime": {
     "end_time": "2023-11-14T03:45:12.673810Z",
     "start_time": "2023-11-14T03:45:12.671201Z"
    }
   },
   "outputs": [],
   "source": [
    "dict_features = dict(map(rename_columns, lstFeatures))"
   ]
  },
  {
   "cell_type": "code",
   "execution_count": 33,
   "id": "579dc758",
   "metadata": {
    "ExecuteTime": {
     "end_time": "2023-11-14T03:45:13.356697Z",
     "start_time": "2023-11-14T03:45:13.352055Z"
    }
   },
   "outputs": [
    {
     "data": {
      "text/plain": [
       "{'sexo_M': 'sexo_M',\n",
       " 'tipoadm_Emergency': 'tipoadm_Emergency',\n",
       " 'tipoadm_Medical': 'tipoadm_Medical',\n",
       " 'site_primario_breast': 'site_primario_breast',\n",
       " 'site_primario_digestive tract': 'site_primario_digestive_tract',\n",
       " 'site_primario_genital system': 'site_primario_genital_system',\n",
       " 'site_primario_hematological': 'site_primario_hematological',\n",
       " 'site_primario_oral cavity and pharynx': 'site_primario_oral_cavity_and_pharynx',\n",
       " 'site_primario_other/undeterm': 'site_primario_other_undeterm',\n",
       " 'site_primario_respiratory system': 'site_primario_respiratory_system',\n",
       " 'site_primario_urinary tract': 'site_primario_urinary_tract',\n",
       " 'status_cancer_Ativo - recaida/progressao': 'status_cancer_Ativo___recaida_progressao',\n",
       " 'status_cancer_Controlado_remissao': 'status_cancer_Controlado_remissao',\n",
       " 'extensao_cancer_Limitado': 'extensao_cancer_Limitado',\n",
       " 'extensao_cancer_Localmente avancado': 'extensao_cancer_Localmente_avancado',\n",
       " 'extensao_cancer_Metastase a distancia': 'extensao_cancer_Metastase_a_distancia',\n",
       " 'tipo_cirurgia_Nao': 'tipo_cirurgia_Nao',\n",
       " 'tipo_cirurgia_Paliativa': 'tipo_cirurgia_Paliativa',\n",
       " 'tipo_quimioterapia_Nao': 'tipo_quimioterapia_Nao',\n",
       " 'tipo_quimioterapia_Paliativa': 'tipo_quimioterapia_Paliativa',\n",
       " 'tipo_radioterapia_Nao': 'tipo_radioterapia_Nao',\n",
       " 'tipo_radioterapia_Paliativa': 'tipo_radioterapia_Paliativa',\n",
       " 'insuf_cardiaca': 'insuf_cardiaca',\n",
       " 'idade': 'idade',\n",
       " 'imc': 'imc',\n",
       " 'QV.0': 'QV_0',\n",
       " 'SAPS3_Pontos': 'SAPS3_Pontos',\n",
       " 'capac_func_ecog': 'capac_func_ecog',\n",
       " 'hospit_antes_uti': 'hospit_antes_uti',\n",
       " 'insuf_renal': 'insuf_renal',\n",
       " 'insuf_resp': 'insuf_resp',\n",
       " 'cirrose': 'cirrose',\n",
       " 'alcoolismo': 'alcoolismo',\n",
       " 'diabetesSN': 'diabetesSN',\n",
       " 'deliriumSN': 'deliriumSN'}"
      ]
     },
     "execution_count": 33,
     "metadata": {},
     "output_type": "execute_result"
    }
   ],
   "source": [
    "dict_features"
   ]
  },
  {
   "cell_type": "code",
   "execution_count": 34,
   "id": "64b85f4a",
   "metadata": {
    "ExecuteTime": {
     "end_time": "2023-11-14T03:45:15.256192Z",
     "start_time": "2023-11-14T03:45:15.252543Z"
    }
   },
   "outputs": [],
   "source": [
    "df = df.rename(dict_features, axis=1)"
   ]
  },
  {
   "cell_type": "code",
   "execution_count": 35,
   "id": "abd95fc8",
   "metadata": {
    "ExecuteTime": {
     "end_time": "2023-11-14T03:45:15.640683Z",
     "start_time": "2023-11-14T03:45:15.637899Z"
    }
   },
   "outputs": [],
   "source": [
    "lstFeatures = list(dict_features.values())"
   ]
  },
  {
   "cell_type": "code",
   "execution_count": 36,
   "id": "d053c3a0",
   "metadata": {
    "ExecuteTime": {
     "end_time": "2023-11-14T03:45:16.157343Z",
     "start_time": "2023-11-14T03:45:16.152662Z"
    }
   },
   "outputs": [],
   "source": [
    "X = df[lstFeatures]\n",
    "y = df[lstTarget].to_records(index=False)"
   ]
  },
  {
   "cell_type": "code",
   "execution_count": 37,
   "id": "7d64377f",
   "metadata": {
    "ExecuteTime": {
     "end_time": "2023-11-14T03:45:16.675514Z",
     "start_time": "2023-11-14T03:45:16.670029Z"
    }
   },
   "outputs": [],
   "source": [
    "X_train, X_test, y_train, y_test = train_test_split(X, y, test_size=0.15, random_state=42)"
   ]
  },
  {
   "cell_type": "code",
   "execution_count": 38,
   "id": "71a76aff",
   "metadata": {
    "ExecuteTime": {
     "end_time": "2023-11-14T03:45:17.225920Z",
     "start_time": "2023-11-14T03:45:17.222505Z"
    }
   },
   "outputs": [
    {
     "data": {
      "text/plain": [
       "((674, 35), (119, 35))"
      ]
     },
     "execution_count": 38,
     "metadata": {},
     "output_type": "execute_result"
    }
   ],
   "source": [
    "X_train.shape, X_test.shape"
   ]
  },
  {
   "cell_type": "code",
   "execution_count": 34,
   "id": "d134b70e",
   "metadata": {
    "ExecuteTime": {
     "end_time": "2023-11-14T01:06:04.475136Z",
     "start_time": "2023-11-14T01:06:04.471366Z"
    }
   },
   "outputs": [
    {
     "data": {
      "text/plain": [
       "((674,), (119,))"
      ]
     },
     "execution_count": 34,
     "metadata": {},
     "output_type": "execute_result"
    }
   ],
   "source": [
    "y_train.shape, y_test.shape"
   ]
  },
  {
   "cell_type": "markdown",
   "id": "572bcd51",
   "metadata": {},
   "source": [
    "Modelo de Cox:"
   ]
  },
  {
   "cell_type": "code",
   "execution_count": 124,
   "id": "6e898293",
   "metadata": {
    "ExecuteTime": {
     "end_time": "2023-11-14T04:06:12.018757Z",
     "start_time": "2023-11-14T04:06:12.016052Z"
    }
   },
   "outputs": [],
   "source": [
    "cox_model = CoxPHSurvivalAnalysis()"
   ]
  },
  {
   "cell_type": "code",
   "execution_count": 125,
   "id": "f9890625",
   "metadata": {
    "ExecuteTime": {
     "end_time": "2023-11-14T04:06:12.647454Z",
     "start_time": "2023-11-14T04:06:12.538341Z"
    }
   },
   "outputs": [
    {
     "data": {
      "text/plain": [
       "CoxPHSurvivalAnalysis()"
      ]
     },
     "execution_count": 125,
     "metadata": {},
     "output_type": "execute_result"
    }
   ],
   "source": [
    "cox_model.fit(X_train[lstFeatures], y_train)"
   ]
  },
  {
   "cell_type": "code",
   "execution_count": 126,
   "id": "bdeb914b",
   "metadata": {
    "ExecuteTime": {
     "end_time": "2023-11-14T04:06:13.078165Z",
     "start_time": "2023-11-14T04:06:13.051683Z"
    }
   },
   "outputs": [
    {
     "data": {
      "text/plain": [
       "0.751347574366141"
      ]
     },
     "execution_count": 126,
     "metadata": {},
     "output_type": "execute_result"
    }
   ],
   "source": [
    "cox_model.score(X_train[lstFeatures], y_train)"
   ]
  },
  {
   "cell_type": "code",
   "execution_count": 127,
   "id": "fe55ea6c",
   "metadata": {
    "ExecuteTime": {
     "end_time": "2023-11-14T04:06:13.568760Z",
     "start_time": "2023-11-14T04:06:13.559667Z"
    }
   },
   "outputs": [
    {
     "data": {
      "text/plain": [
       "0.729725201072386"
      ]
     },
     "execution_count": 127,
     "metadata": {},
     "output_type": "execute_result"
    }
   ],
   "source": [
    "cox_model.score(X_test[lstFeatures], y_test)"
   ]
  },
  {
   "cell_type": "code",
   "execution_count": 128,
   "id": "4c67b922",
   "metadata": {
    "ExecuteTime": {
     "end_time": "2023-11-14T04:06:14.167666Z",
     "start_time": "2023-11-14T04:06:14.128575Z"
    }
   },
   "outputs": [],
   "source": [
    "survival_train = cox_model.predict_survival_function(X_train[lstFeatures])[0].y"
   ]
  },
  {
   "cell_type": "code",
   "execution_count": 129,
   "id": "d76ef606",
   "metadata": {
    "ExecuteTime": {
     "end_time": "2023-11-14T04:06:14.694171Z",
     "start_time": "2023-11-14T04:06:14.683398Z"
    }
   },
   "outputs": [],
   "source": [
    "survival_test = cox_model.predict_survival_function(X_test[lstFeatures])[0].y"
   ]
  },
  {
   "cell_type": "markdown",
   "id": "9401fca9",
   "metadata": {},
   "source": [
    "Árvore de sobrevivência:"
   ]
  },
  {
   "cell_type": "code",
   "execution_count": 41,
   "id": "de4e3bbc",
   "metadata": {
    "ExecuteTime": {
     "end_time": "2023-11-14T01:06:11.874801Z",
     "start_time": "2023-11-14T01:06:11.872158Z"
    }
   },
   "outputs": [],
   "source": [
    "space_max_depth = np.arange(2, 11, 1)\n",
    "space_min_samples_leaf = np.arange(5, 51, 5)"
   ]
  },
  {
   "cell_type": "code",
   "execution_count": 42,
   "id": "ad71af54",
   "metadata": {
    "ExecuteTime": {
     "end_time": "2023-11-14T01:06:13.149313Z",
     "start_time": "2023-11-14T01:06:13.146492Z"
    }
   },
   "outputs": [],
   "source": [
    "st = SurvivalTree()"
   ]
  },
  {
   "cell_type": "code",
   "execution_count": 43,
   "id": "7fe312a6",
   "metadata": {
    "ExecuteTime": {
     "end_time": "2023-11-14T01:06:18.722896Z",
     "start_time": "2023-11-14T01:06:18.720211Z"
    }
   },
   "outputs": [],
   "source": [
    "params_st = {'max_depth': space_max_depth,\n",
    "             'min_samples_leaf': space_min_samples_leaf}"
   ]
  },
  {
   "cell_type": "code",
   "execution_count": 44,
   "id": "090b886a",
   "metadata": {
    "ExecuteTime": {
     "end_time": "2023-11-14T01:06:19.695849Z",
     "start_time": "2023-11-14T01:06:19.692871Z"
    }
   },
   "outputs": [],
   "source": [
    "gridST = GridSearchCV(st, param_grid=params_st, n_jobs=-1, cv=10)"
   ]
  },
  {
   "cell_type": "code",
   "execution_count": 45,
   "id": "28f0ed5b",
   "metadata": {
    "ExecuteTime": {
     "end_time": "2023-11-14T01:06:32.557233Z",
     "start_time": "2023-11-14T01:06:20.745568Z"
    }
   },
   "outputs": [
    {
     "data": {
      "text/plain": [
       "GridSearchCV(cv=10, estimator=SurvivalTree(), n_jobs=-1,\n",
       "             param_grid={'max_depth': array([ 2,  3,  4,  5,  6,  7,  8,  9, 10]),\n",
       "                         'min_samples_leaf': array([ 5, 10, 15, 20, 25, 30, 35, 40, 45, 50])})"
      ]
     },
     "execution_count": 45,
     "metadata": {},
     "output_type": "execute_result"
    }
   ],
   "source": [
    "gridST.fit(X_train, y_train)"
   ]
  },
  {
   "cell_type": "code",
   "execution_count": 46,
   "id": "9c6e8bde",
   "metadata": {
    "ExecuteTime": {
     "end_time": "2023-11-14T01:06:35.181327Z",
     "start_time": "2023-11-14T01:06:35.177022Z"
    }
   },
   "outputs": [
    {
     "data": {
      "text/plain": [
       "{'max_depth': 6, 'min_samples_leaf': 30}"
      ]
     },
     "execution_count": 46,
     "metadata": {},
     "output_type": "execute_result"
    }
   ],
   "source": [
    "gridST.best_params_"
   ]
  },
  {
   "cell_type": "code",
   "execution_count": 47,
   "id": "00f0aa1c",
   "metadata": {
    "ExecuteTime": {
     "end_time": "2023-11-14T01:06:36.048267Z",
     "start_time": "2023-11-14T01:06:36.044264Z"
    }
   },
   "outputs": [
    {
     "data": {
      "text/plain": [
       "0.6973214947087512"
      ]
     },
     "execution_count": 47,
     "metadata": {},
     "output_type": "execute_result"
    }
   ],
   "source": [
    "gridST.best_score_"
   ]
  },
  {
   "cell_type": "code",
   "execution_count": 48,
   "id": "56149483",
   "metadata": {
    "ExecuteTime": {
     "end_time": "2023-11-14T01:06:36.932361Z",
     "start_time": "2023-11-14T01:06:36.928680Z"
    }
   },
   "outputs": [],
   "source": [
    "resultsCVSt = pd.DataFrame(gridST.cv_results_)"
   ]
  },
  {
   "cell_type": "code",
   "execution_count": 49,
   "id": "edfdc3f6",
   "metadata": {
    "ExecuteTime": {
     "end_time": "2023-11-14T01:06:38.146930Z",
     "start_time": "2023-11-14T01:06:38.133383Z"
    }
   },
   "outputs": [
    {
     "data": {
      "text/html": [
       "<div>\n",
       "<style scoped>\n",
       "    .dataframe tbody tr th:only-of-type {\n",
       "        vertical-align: middle;\n",
       "    }\n",
       "\n",
       "    .dataframe tbody tr th {\n",
       "        vertical-align: top;\n",
       "    }\n",
       "\n",
       "    .dataframe thead th {\n",
       "        text-align: right;\n",
       "    }\n",
       "</style>\n",
       "<table border=\"1\" class=\"dataframe\">\n",
       "  <thead>\n",
       "    <tr style=\"text-align: right;\">\n",
       "      <th></th>\n",
       "      <th>param_max_depth</th>\n",
       "      <th>param_min_samples_leaf</th>\n",
       "      <th>mean_test_score</th>\n",
       "      <th>std_test_score</th>\n",
       "    </tr>\n",
       "  </thead>\n",
       "  <tbody>\n",
       "    <tr>\n",
       "      <th>45</th>\n",
       "      <td>6</td>\n",
       "      <td>30</td>\n",
       "      <td>0.697321</td>\n",
       "      <td>0.048013</td>\n",
       "    </tr>\n",
       "    <tr>\n",
       "      <th>85</th>\n",
       "      <td>10</td>\n",
       "      <td>30</td>\n",
       "      <td>0.696454</td>\n",
       "      <td>0.046152</td>\n",
       "    </tr>\n",
       "    <tr>\n",
       "      <th>65</th>\n",
       "      <td>8</td>\n",
       "      <td>30</td>\n",
       "      <td>0.696454</td>\n",
       "      <td>0.046152</td>\n",
       "    </tr>\n",
       "    <tr>\n",
       "      <th>75</th>\n",
       "      <td>9</td>\n",
       "      <td>30</td>\n",
       "      <td>0.696454</td>\n",
       "      <td>0.046152</td>\n",
       "    </tr>\n",
       "    <tr>\n",
       "      <th>55</th>\n",
       "      <td>7</td>\n",
       "      <td>30</td>\n",
       "      <td>0.696155</td>\n",
       "      <td>0.045589</td>\n",
       "    </tr>\n",
       "    <tr>\n",
       "      <th>...</th>\n",
       "      <td>...</td>\n",
       "      <td>...</td>\n",
       "      <td>...</td>\n",
       "      <td>...</td>\n",
       "    </tr>\n",
       "    <tr>\n",
       "      <th>4</th>\n",
       "      <td>2</td>\n",
       "      <td>25</td>\n",
       "      <td>0.655433</td>\n",
       "      <td>0.036418</td>\n",
       "    </tr>\n",
       "    <tr>\n",
       "      <th>9</th>\n",
       "      <td>2</td>\n",
       "      <td>50</td>\n",
       "      <td>0.655248</td>\n",
       "      <td>0.039682</td>\n",
       "    </tr>\n",
       "    <tr>\n",
       "      <th>3</th>\n",
       "      <td>2</td>\n",
       "      <td>20</td>\n",
       "      <td>0.654690</td>\n",
       "      <td>0.035131</td>\n",
       "    </tr>\n",
       "    <tr>\n",
       "      <th>2</th>\n",
       "      <td>2</td>\n",
       "      <td>15</td>\n",
       "      <td>0.653910</td>\n",
       "      <td>0.034857</td>\n",
       "    </tr>\n",
       "    <tr>\n",
       "      <th>1</th>\n",
       "      <td>2</td>\n",
       "      <td>10</td>\n",
       "      <td>0.653910</td>\n",
       "      <td>0.034857</td>\n",
       "    </tr>\n",
       "  </tbody>\n",
       "</table>\n",
       "<p>90 rows × 4 columns</p>\n",
       "</div>"
      ],
      "text/plain": [
       "   param_max_depth param_min_samples_leaf  mean_test_score  std_test_score\n",
       "45               6                     30         0.697321        0.048013\n",
       "85              10                     30         0.696454        0.046152\n",
       "65               8                     30         0.696454        0.046152\n",
       "75               9                     30         0.696454        0.046152\n",
       "55               7                     30         0.696155        0.045589\n",
       "..             ...                    ...              ...             ...\n",
       "4                2                     25         0.655433        0.036418\n",
       "9                2                     50         0.655248        0.039682\n",
       "3                2                     20         0.654690        0.035131\n",
       "2                2                     15         0.653910        0.034857\n",
       "1                2                     10         0.653910        0.034857\n",
       "\n",
       "[90 rows x 4 columns]"
      ]
     },
     "execution_count": 49,
     "metadata": {},
     "output_type": "execute_result"
    }
   ],
   "source": [
    "(resultsCVSt\n",
    " .sort_values('rank_test_score')[['param_max_depth', 'param_min_samples_leaf', 'mean_test_score', 'std_test_score']])"
   ]
  },
  {
   "cell_type": "code",
   "execution_count": 119,
   "id": "c1de8879",
   "metadata": {
    "ExecuteTime": {
     "end_time": "2023-11-14T04:05:50.488503Z",
     "start_time": "2023-11-14T04:05:50.485770Z"
    }
   },
   "outputs": [],
   "source": [
    "st_optim = SurvivalTree(max_depth=6, min_samples_leaf=30)"
   ]
  },
  {
   "cell_type": "code",
   "execution_count": 120,
   "id": "73d65f41",
   "metadata": {
    "ExecuteTime": {
     "end_time": "2023-11-14T04:05:51.158552Z",
     "start_time": "2023-11-14T04:05:51.068491Z"
    }
   },
   "outputs": [
    {
     "data": {
      "text/plain": [
       "SurvivalTree(max_depth=6, min_samples_leaf=30)"
      ]
     },
     "execution_count": 120,
     "metadata": {},
     "output_type": "execute_result"
    }
   ],
   "source": [
    "st_optim.fit(X_train[lstFeatures], y_train)"
   ]
  },
  {
   "cell_type": "code",
   "execution_count": 121,
   "id": "801d8f38",
   "metadata": {
    "ExecuteTime": {
     "end_time": "2023-11-14T04:05:51.641608Z",
     "start_time": "2023-11-14T04:05:51.633094Z"
    }
   },
   "outputs": [
    {
     "data": {
      "text/plain": [
       "0.7161528150134048"
      ]
     },
     "execution_count": 121,
     "metadata": {},
     "output_type": "execute_result"
    }
   ],
   "source": [
    "st_optim.score(X_test, y_test)"
   ]
  },
  {
   "cell_type": "code",
   "execution_count": 123,
   "id": "a2b706ed",
   "metadata": {
    "ExecuteTime": {
     "end_time": "2023-11-14T04:06:07.685756Z",
     "start_time": "2023-11-14T04:06:07.679939Z"
    }
   },
   "outputs": [],
   "source": [
    "risk_score = st_optim.predict(X_train[lstFeatures])"
   ]
  },
  {
   "cell_type": "code",
   "execution_count": 55,
   "id": "d63dec46",
   "metadata": {
    "ExecuteTime": {
     "end_time": "2023-11-14T01:15:32.995324Z",
     "start_time": "2023-11-14T01:15:32.071004Z"
    }
   },
   "outputs": [
    {
     "data": {
      "text/plain": [
       "[Text(418.5, 504.7714285714286, '#0\\nSAPS3_Pontos <= 52.5\\n674\\n'),\n",
       " Text(196.94117647058823, 427.11428571428576, '#1\\nimc <= 19.8\\n432\\n'),\n",
       " Text(98.47058823529412, 349.4571428571429, '#2\\nSAPS3_Pontos <= 41.5\\n69\\n'),\n",
       " Text(49.23529411764706, 271.8, '#3\\n37\\n'),\n",
       " Text(147.70588235294116, 271.8, '#4\\n32\\n'),\n",
       " Text(295.4117647058823, 349.4571428571429, '#5\\ncapac_func_ecog <= 2.5\\n363\\n'),\n",
       " Text(246.1764705882353, 271.8, '#6\\nSAPS3_Pontos <= 43.5\\n323\\n'),\n",
       " Text(147.70588235294116, 194.14285714285717, '#7\\nQV_0 <= 0.8\\n232\\n'),\n",
       " Text(98.47058823529412, 116.48571428571432, '#8\\nimc <= 28.3\\n173\\n'),\n",
       " Text(49.23529411764706, 38.82857142857142, '#9\\n124\\n'),\n",
       " Text(147.70588235294116, 38.82857142857142, '#10\\n49\\n'),\n",
       " Text(196.94117647058823, 116.48571428571432, '#11\\n59\\n'),\n",
       " Text(344.6470588235294, 194.14285714285717, '#12\\nimc <= 23.7\\n91\\n'),\n",
       " Text(295.4117647058823, 116.48571428571432, '#13\\n35\\n'),\n",
       " Text(393.88235294117646, 116.48571428571432, '#14\\n56\\n'),\n",
       " Text(344.6470588235294, 271.8, '#15\\n40\\n'),\n",
       " Text(640.0588235294117, 427.11428571428576, '#16\\nimc <= 25.2\\n242\\n'),\n",
       " Text(541.5882352941177, 349.4571428571429, '#17\\nsite_primario_digestive_tract <= 0.5\\n165\\n'),\n",
       " Text(492.3529411764706, 271.8, '#18\\nSAPS3_Pontos <= 62.5\\n109\\n'),\n",
       " Text(443.11764705882354, 194.14285714285717, '#19\\n39\\n'),\n",
       " Text(541.5882352941177, 194.14285714285717, '#20\\nidade <= 67.2\\n70\\n'),\n",
       " Text(492.3529411764706, 116.48571428571432, '#21\\n38\\n'),\n",
       " Text(590.8235294117646, 116.48571428571432, '#22\\n32\\n'),\n",
       " Text(590.8235294117646, 271.8, '#23\\n56\\n'),\n",
       " Text(738.5294117647059, 349.4571428571429, '#24\\nQV_0 <= 0.6\\n77\\n'),\n",
       " Text(689.2941176470588, 271.8, '#25\\n43\\n'),\n",
       " Text(787.7647058823529, 271.8, '#26\\n34\\n')]"
      ]
     },
     "execution_count": 55,
     "metadata": {},
     "output_type": "execute_result"
    },
    {
     "data": {
      "image/png": "[encoded data removed]",
      "text/plain": [
       "<Figure size 1080x720 with 1 Axes>"
      ]
     },
     "metadata": {
      "needs_background": "light"
     },
     "output_type": "display_data"
    }
   ],
   "source": [
    "fig = plt.figure(figsize=(15, 10))\n",
    "plot_survival_tree.plot_tree(st_optim,\n",
    "                              feature_names=lstFeatures,\n",
    "                              impurity=False,\n",
    "                              label=\"none\",\n",
    "                              precision=1,\n",
    "                              fontsize=8,\n",
    "                              rotate=False,\n",
    "                              node_ids=True)"
   ]
  },
  {
   "cell_type": "code",
   "execution_count": 56,
   "id": "b25a737d",
   "metadata": {
    "ExecuteTime": {
     "end_time": "2023-11-14T01:19:38.456544Z",
     "start_time": "2023-11-14T01:19:38.453420Z"
    }
   },
   "outputs": [],
   "source": [
    "X_train['risk_score'] = risk_score"
   ]
  },
  {
   "cell_type": "code",
   "execution_count": 57,
   "id": "84bd4a14",
   "metadata": {
    "ExecuteTime": {
     "end_time": "2023-11-14T01:19:39.241918Z",
     "start_time": "2023-11-14T01:19:39.237054Z"
    }
   },
   "outputs": [],
   "source": [
    "X_train['node'] = X_train['risk_score'].rank(method = \"min\").astype(str)"
   ]
  },
  {
   "cell_type": "code",
   "execution_count": 59,
   "id": "e5e40c9f",
   "metadata": {
    "ExecuteTime": {
     "end_time": "2023-11-14T01:19:58.899606Z",
     "start_time": "2023-11-14T01:19:58.828993Z"
    }
   },
   "outputs": [
    {
     "name": "stdout",
     "output_type": "stream",
     "text": [
      "619.0\n",
      "587.0\n",
      "109.0\n",
      "1.0\n"
     ]
    }
   ],
   "source": [
    "lst_kp = []\n",
    "\n",
    "for node in ['619.0', '587.0', '109.0', '1.0']:\n",
    "    kp = KaplanMeierFitter()\n",
    "    node_index = X_train[X_train['node'] == node].index \n",
    "    df_study = df[df.index.isin(node_index)]\n",
    "    print(node)\n",
    "    kp.fit(df_study['tempo'], event_observed=df_study['delta'])\n",
    "    lst_kp.append(kp)"
   ]
  },
  {
   "cell_type": "code",
   "execution_count": 66,
   "id": "2183a10c",
   "metadata": {
    "ExecuteTime": {
     "end_time": "2023-11-14T01:38:14.560804Z",
     "start_time": "2023-11-14T01:38:14.555567Z"
    }
   },
   "outputs": [
    {
     "data": {
      "text/plain": [
       "63"
      ]
     },
     "execution_count": 66,
     "metadata": {},
     "output_type": "execute_result"
    }
   ],
   "source": [
    "X_train[X_train['node'] == '587.0']['SAPS3_Pontos'].min()"
   ]
  },
  {
   "cell_type": "code",
   "execution_count": 64,
   "id": "563d51cd",
   "metadata": {
    "ExecuteTime": {
     "end_time": "2023-11-14T01:36:27.694014Z",
     "start_time": "2023-11-14T01:36:27.686903Z"
    }
   },
   "outputs": [
    {
     "data": {
      "text/plain": [
       "node   risk_score\n",
       "1.0    18.052667      59\n",
       "109.0  72.159718     124\n",
       "233.0  98.874814      56\n",
       "289.0  144.083373     34\n",
       "323.0  153.916127     37\n",
       "360.0  196.155127     40\n",
       "400.0  199.329754     35\n",
       "435.0  271.550158     39\n",
       "474.0  286.161552     43\n",
       "517.0  292.572918     32\n",
       "549.0  341.208316     38\n",
       "587.0  506.442549     32\n",
       "60.0   28.181556      49\n",
       "619.0  513.386851     56\n",
       "dtype: int64"
      ]
     },
     "execution_count": 64,
     "metadata": {},
     "output_type": "execute_result"
    }
   ],
   "source": [
    "X_train.groupby([\"node\", \"risk_score\"]).size()"
   ]
  },
  {
   "cell_type": "code",
   "execution_count": 71,
   "id": "a9a659de",
   "metadata": {
    "ExecuteTime": {
     "end_time": "2023-11-14T02:58:16.857549Z",
     "start_time": "2023-11-14T02:58:16.678191Z"
    }
   },
   "outputs": [
    {
     "data": {
      "text/plain": [
       "<matplotlib.legend.Legend at 0x7f87f006e710>"
      ]
     },
     "execution_count": 71,
     "metadata": {},
     "output_type": "execute_result"
    },
    {
     "data": {
      "image/png": "[encoded data removed]",
      "text/plain": [
       "<Figure size 720x360 with 1 Axes>"
      ]
     },
     "metadata": {
      "needs_background": "light"
     },
     "output_type": "display_data"
    }
   ],
   "source": [
    "fig = plt.figure(figsize=(10, 5))\n",
    "colors = ['blue', 'red', 'gray', 'black']\n",
    "for i in range(len(lst_kp)):\n",
    "    lst_kp[i].plot_survival_function(legend=False, ci_show=False, color=colors[i])\n",
    "plt.xlabel(\"tempo\")\n",
    "plt.ylabel(\"Função de Sobrevivência\")\n",
    "plt.legend([\"#14\", \"#22\", \"#9\", \"#11\"], bbox_to_anchor=(0.3, 1.), fancybox=True, ncol=4)"
   ]
  },
  {
   "cell_type": "markdown",
   "id": "09d6ef4b",
   "metadata": {},
   "source": [
    "Random Survival Forest:"
   ]
  },
  {
   "cell_type": "code",
   "execution_count": 72,
   "id": "0176a2a0",
   "metadata": {
    "ExecuteTime": {
     "end_time": "2023-11-14T03:03:29.035277Z",
     "start_time": "2023-11-14T03:03:29.031809Z"
    }
   },
   "outputs": [],
   "source": [
    "space_max_depth = np.arange(2, 11, 5)\n",
    "space_min_samples_leaf = np.arange(5, 51, 5)\n",
    "space_n_estimators = np.arange(50, 201, 100)\n",
    "space_max_features = np.arange(5, 21, 5)"
   ]
  },
  {
   "cell_type": "code",
   "execution_count": 73,
   "id": "8136128e",
   "metadata": {
    "ExecuteTime": {
     "end_time": "2023-11-14T03:03:29.933728Z",
     "start_time": "2023-11-14T03:03:29.931746Z"
    }
   },
   "outputs": [],
   "source": [
    "rsf = RandomSurvivalForest()"
   ]
  },
  {
   "cell_type": "code",
   "execution_count": 74,
   "id": "3291ddd0",
   "metadata": {
    "ExecuteTime": {
     "end_time": "2023-11-14T03:03:30.814521Z",
     "start_time": "2023-11-14T03:03:30.812102Z"
    }
   },
   "outputs": [],
   "source": [
    "params_rsf = {\"max_depth\": space_max_depth,\n",
    "              \"min_samples_leaf\": space_min_samples_leaf, \n",
    "              \"n_estimators\": space_n_estimators,\n",
    "              \"max_features\": space_max_features}"
   ]
  },
  {
   "cell_type": "code",
   "execution_count": 75,
   "id": "12c575d3",
   "metadata": {
    "ExecuteTime": {
     "end_time": "2023-11-14T03:03:32.607860Z",
     "start_time": "2023-11-14T03:03:32.604867Z"
    }
   },
   "outputs": [],
   "source": [
    "grid_rsf = GridSearchCV(rsf, param_grid=params_rsf, n_jobs=-1, cv=10)"
   ]
  },
  {
   "cell_type": "code",
   "execution_count": 76,
   "id": "53b26ab9",
   "metadata": {
    "ExecuteTime": {
     "end_time": "2023-11-14T03:07:35.060111Z",
     "start_time": "2023-11-14T03:03:33.555171Z"
    }
   },
   "outputs": [
    {
     "data": {
      "text/plain": [
       "GridSearchCV(cv=10, estimator=RandomSurvivalForest(), n_jobs=-1,\n",
       "             param_grid={'max_depth': array([2, 7]),\n",
       "                         'max_features': array([ 5, 10, 15, 20]),\n",
       "                         'min_samples_leaf': array([ 5, 10, 15, 20, 25, 30, 35, 40, 45, 50]),\n",
       "                         'n_estimators': array([ 50, 150])})"
      ]
     },
     "execution_count": 76,
     "metadata": {},
     "output_type": "execute_result"
    }
   ],
   "source": [
    "grid_rsf.fit(X_train[lstFeatures], y_train)"
   ]
  },
  {
   "cell_type": "code",
   "execution_count": 77,
   "id": "81dc2a67",
   "metadata": {
    "ExecuteTime": {
     "end_time": "2023-11-14T03:07:36.148623Z",
     "start_time": "2023-11-14T03:07:36.144251Z"
    }
   },
   "outputs": [
    {
     "data": {
      "text/plain": [
       "{'max_depth': 7, 'max_features': 5, 'min_samples_leaf': 5, 'n_estimators': 50}"
      ]
     },
     "execution_count": 77,
     "metadata": {},
     "output_type": "execute_result"
    }
   ],
   "source": [
    "grid_rsf.best_params_"
   ]
  },
  {
   "cell_type": "code",
   "execution_count": 78,
   "id": "747e39eb",
   "metadata": {
    "ExecuteTime": {
     "end_time": "2023-11-14T03:07:38.466295Z",
     "start_time": "2023-11-14T03:07:38.462400Z"
    }
   },
   "outputs": [],
   "source": [
    "results_csv_rsf = pd.DataFrame(grid_rsf.cv_results_)"
   ]
  },
  {
   "cell_type": "code",
   "execution_count": 79,
   "id": "202981e9",
   "metadata": {
    "ExecuteTime": {
     "end_time": "2023-11-14T03:07:39.619399Z",
     "start_time": "2023-11-14T03:07:39.606381Z"
    }
   },
   "outputs": [
    {
     "data": {
      "text/html": [
       "<div>\n",
       "<style scoped>\n",
       "    .dataframe tbody tr th:only-of-type {\n",
       "        vertical-align: middle;\n",
       "    }\n",
       "\n",
       "    .dataframe tbody tr th {\n",
       "        vertical-align: top;\n",
       "    }\n",
       "\n",
       "    .dataframe thead th {\n",
       "        text-align: right;\n",
       "    }\n",
       "</style>\n",
       "<table border=\"1\" class=\"dataframe\">\n",
       "  <thead>\n",
       "    <tr style=\"text-align: right;\">\n",
       "      <th></th>\n",
       "      <th>param_max_depth</th>\n",
       "      <th>param_min_samples_leaf</th>\n",
       "      <th>param_max_features</th>\n",
       "      <th>param_n_estimators</th>\n",
       "      <th>mean_test_score</th>\n",
       "      <th>std_test_score</th>\n",
       "    </tr>\n",
       "  </thead>\n",
       "  <tbody>\n",
       "    <tr>\n",
       "      <th>80</th>\n",
       "      <td>7</td>\n",
       "      <td>5</td>\n",
       "      <td>5</td>\n",
       "      <td>50</td>\n",
       "      <td>0.737453</td>\n",
       "      <td>0.028927</td>\n",
       "    </tr>\n",
       "    <tr>\n",
       "      <th>83</th>\n",
       "      <td>7</td>\n",
       "      <td>10</td>\n",
       "      <td>5</td>\n",
       "      <td>150</td>\n",
       "      <td>0.735516</td>\n",
       "      <td>0.035297</td>\n",
       "    </tr>\n",
       "    <tr>\n",
       "      <th>85</th>\n",
       "      <td>7</td>\n",
       "      <td>15</td>\n",
       "      <td>5</td>\n",
       "      <td>150</td>\n",
       "      <td>0.735258</td>\n",
       "      <td>0.032130</td>\n",
       "    </tr>\n",
       "    <tr>\n",
       "      <th>81</th>\n",
       "      <td>7</td>\n",
       "      <td>5</td>\n",
       "      <td>5</td>\n",
       "      <td>150</td>\n",
       "      <td>0.734760</td>\n",
       "      <td>0.030213</td>\n",
       "    </tr>\n",
       "    <tr>\n",
       "      <th>101</th>\n",
       "      <td>7</td>\n",
       "      <td>5</td>\n",
       "      <td>10</td>\n",
       "      <td>150</td>\n",
       "      <td>0.733939</td>\n",
       "      <td>0.030578</td>\n",
       "    </tr>\n",
       "    <tr>\n",
       "      <th>...</th>\n",
       "      <td>...</td>\n",
       "      <td>...</td>\n",
       "      <td>...</td>\n",
       "      <td>...</td>\n",
       "      <td>...</td>\n",
       "      <td>...</td>\n",
       "    </tr>\n",
       "    <tr>\n",
       "      <th>60</th>\n",
       "      <td>2</td>\n",
       "      <td>5</td>\n",
       "      <td>20</td>\n",
       "      <td>50</td>\n",
       "      <td>0.716405</td>\n",
       "      <td>0.038365</td>\n",
       "    </tr>\n",
       "    <tr>\n",
       "      <th>10</th>\n",
       "      <td>2</td>\n",
       "      <td>30</td>\n",
       "      <td>5</td>\n",
       "      <td>50</td>\n",
       "      <td>0.716327</td>\n",
       "      <td>0.031753</td>\n",
       "    </tr>\n",
       "    <tr>\n",
       "      <th>40</th>\n",
       "      <td>2</td>\n",
       "      <td>5</td>\n",
       "      <td>15</td>\n",
       "      <td>50</td>\n",
       "      <td>0.715221</td>\n",
       "      <td>0.039886</td>\n",
       "    </tr>\n",
       "    <tr>\n",
       "      <th>64</th>\n",
       "      <td>2</td>\n",
       "      <td>15</td>\n",
       "      <td>20</td>\n",
       "      <td>50</td>\n",
       "      <td>0.714746</td>\n",
       "      <td>0.042351</td>\n",
       "    </tr>\n",
       "    <tr>\n",
       "      <th>76</th>\n",
       "      <td>2</td>\n",
       "      <td>45</td>\n",
       "      <td>20</td>\n",
       "      <td>50</td>\n",
       "      <td>0.713779</td>\n",
       "      <td>0.038019</td>\n",
       "    </tr>\n",
       "  </tbody>\n",
       "</table>\n",
       "<p>160 rows × 6 columns</p>\n",
       "</div>"
      ],
      "text/plain": [
       "    param_max_depth param_min_samples_leaf param_max_features  \\\n",
       "80                7                      5                  5   \n",
       "83                7                     10                  5   \n",
       "85                7                     15                  5   \n",
       "81                7                      5                  5   \n",
       "101               7                      5                 10   \n",
       "..              ...                    ...                ...   \n",
       "60                2                      5                 20   \n",
       "10                2                     30                  5   \n",
       "40                2                      5                 15   \n",
       "64                2                     15                 20   \n",
       "76                2                     45                 20   \n",
       "\n",
       "    param_n_estimators  mean_test_score  std_test_score  \n",
       "80                  50         0.737453        0.028927  \n",
       "83                 150         0.735516        0.035297  \n",
       "85                 150         0.735258        0.032130  \n",
       "81                 150         0.734760        0.030213  \n",
       "101                150         0.733939        0.030578  \n",
       "..                 ...              ...             ...  \n",
       "60                  50         0.716405        0.038365  \n",
       "10                  50         0.716327        0.031753  \n",
       "40                  50         0.715221        0.039886  \n",
       "64                  50         0.714746        0.042351  \n",
       "76                  50         0.713779        0.038019  \n",
       "\n",
       "[160 rows x 6 columns]"
      ]
     },
     "execution_count": 79,
     "metadata": {},
     "output_type": "execute_result"
    }
   ],
   "source": [
    "(results_csv_rsf\n",
    " .sort_values('rank_test_score')[['param_max_depth', \n",
    "                                  'param_min_samples_leaf', \n",
    "                                  'param_max_features',\n",
    "                                  'param_n_estimators',\n",
    "                                  'mean_test_score', \n",
    "                                  'std_test_score']])"
   ]
  },
  {
   "cell_type": "code",
   "execution_count": 77,
   "id": "391d4430",
   "metadata": {
    "ExecuteTime": {
     "end_time": "2023-11-14T03:47:01.316373Z",
     "start_time": "2023-11-14T03:47:01.313234Z"
    }
   },
   "outputs": [],
   "source": [
    "rsf_optim = RandomSurvivalForest(max_depth=7, max_features=5, min_samples_leaf=5, n_estimators=50, random_state=3232)"
   ]
  },
  {
   "cell_type": "code",
   "execution_count": 78,
   "id": "5743fd90",
   "metadata": {
    "ExecuteTime": {
     "end_time": "2023-11-14T03:47:01.988484Z",
     "start_time": "2023-11-14T03:47:01.544151Z"
    }
   },
   "outputs": [
    {
     "data": {
      "text/plain": [
       "RandomSurvivalForest(max_depth=7, max_features=5, min_samples_leaf=5,\n",
       "                     n_estimators=50, random_state=3232)"
      ]
     },
     "execution_count": 78,
     "metadata": {},
     "output_type": "execute_result"
    }
   ],
   "source": [
    "rsf_optim.fit(X_train[lstFeatures], y_train)"
   ]
  },
  {
   "cell_type": "code",
   "execution_count": 79,
   "id": "5253bc7c",
   "metadata": {
    "ExecuteTime": {
     "end_time": "2023-11-14T03:47:02.125241Z",
     "start_time": "2023-11-14T03:47:02.109693Z"
    }
   },
   "outputs": [
    {
     "data": {
      "text/plain": [
       "0.756367292225201"
      ]
     },
     "execution_count": 79,
     "metadata": {},
     "output_type": "execute_result"
    }
   ],
   "source": [
    "rsf_optim.score(X_test[lstFeatures], y_test)"
   ]
  },
  {
   "cell_type": "code",
   "execution_count": 80,
   "id": "1f9b9198",
   "metadata": {
    "ExecuteTime": {
     "end_time": "2023-11-14T03:47:03.860866Z",
     "start_time": "2023-11-14T03:47:03.836419Z"
    }
   },
   "outputs": [],
   "source": [
    "risk_score = rsf_optim.predict(X_train[lstFeatures])"
   ]
  },
  {
   "cell_type": "code",
   "execution_count": 81,
   "id": "ba476b08",
   "metadata": {
    "ExecuteTime": {
     "end_time": "2023-11-14T03:47:05.471315Z",
     "start_time": "2023-11-14T03:47:05.345159Z"
    }
   },
   "outputs": [
    {
     "data": {
      "text/plain": [
       "Text(0, 0.5, 'Proporção')"
      ]
     },
     "execution_count": 81,
     "metadata": {},
     "output_type": "execute_result"
    },
    {
     "data": {
      "image/png": "[encoded data removed]",
      "text/plain": [
       "<Figure size 720x360 with 1 Axes>"
      ]
     },
     "metadata": {
      "needs_background": "light"
     },
     "output_type": "display_data"
    }
   ],
   "source": [
    "fig = plt.figure(figsize=(10,5))\n",
    "plt.hist(risk_score, density=True)\n",
    "plt.xlabel(\"Média do número total de eventos\")\n",
    "plt.ylabel(\"Proporção\")"
   ]
  },
  {
   "cell_type": "code",
   "execution_count": 82,
   "id": "102b3f35",
   "metadata": {
    "ExecuteTime": {
     "end_time": "2023-11-14T03:47:46.953491Z",
     "start_time": "2023-11-14T03:47:46.949364Z"
    }
   },
   "outputs": [],
   "source": [
    "first_quartile = np.quantile(risk_score, 0.25)\n",
    "second_quartile = np.quantile(risk_score, 0.5)\n",
    "third_quartile = np.quantile(risk_score, 0.75)"
   ]
  },
  {
   "cell_type": "code",
   "execution_count": 83,
   "id": "913556eb",
   "metadata": {
    "ExecuteTime": {
     "end_time": "2023-11-14T03:47:47.658405Z",
     "start_time": "2023-11-14T03:47:47.647937Z"
    }
   },
   "outputs": [],
   "source": [
    "risk_score_bins = pd.cut(risk_score, bins=[-np.Inf, first_quartile, second_quartile, third_quartile, np.Inf])"
   ]
  },
  {
   "cell_type": "code",
   "execution_count": 84,
   "id": "6cd37220",
   "metadata": {
    "ExecuteTime": {
     "end_time": "2023-11-14T03:47:48.428326Z",
     "start_time": "2023-11-14T03:47:48.425153Z"
    }
   },
   "outputs": [],
   "source": [
    "X_train['risk_score_bins'] = risk_score_bins"
   ]
  },
  {
   "cell_type": "code",
   "execution_count": 85,
   "id": "c77484f6",
   "metadata": {
    "ExecuteTime": {
     "end_time": "2023-11-14T03:47:51.008776Z",
     "start_time": "2023-11-14T03:47:50.936140Z"
    }
   },
   "outputs": [],
   "source": [
    "lst_kp_rsf = []\n",
    "\n",
    "for _bin in np.unique(risk_score_bins):\n",
    "    kp = KaplanMeierFitter()\n",
    "    bin_index = X_train[X_train['risk_score_bins'] == _bin].index \n",
    "    df_study = df[df.index.isin(bin_index)]\n",
    "    kp.fit(df_study['tempo'], event_observed=df_study['delta'])\n",
    "    lst_kp_rsf.append(kp)"
   ]
  },
  {
   "cell_type": "code",
   "execution_count": 88,
   "id": "3c388e96",
   "metadata": {
    "ExecuteTime": {
     "end_time": "2023-11-14T03:48:24.491135Z",
     "start_time": "2023-11-14T03:48:24.483479Z"
    }
   },
   "outputs": [
    {
     "data": {
      "text/plain": [
       "array([Interval(-inf, 80.91, closed='right'),\n",
       "       Interval(80.91, 161.329, closed='right'),\n",
       "       Interval(161.329, 290.532, closed='right'),\n",
       "       Interval(290.532, inf, closed='right')], dtype=object)"
      ]
     },
     "execution_count": 88,
     "metadata": {},
     "output_type": "execute_result"
    }
   ],
   "source": [
    "np.unique(risk_score_bins)"
   ]
  },
  {
   "cell_type": "code",
   "execution_count": 89,
   "id": "3126749c",
   "metadata": {
    "ExecuteTime": {
     "end_time": "2023-11-14T03:48:55.154928Z",
     "start_time": "2023-11-14T03:48:54.971016Z"
    }
   },
   "outputs": [
    {
     "data": {
      "text/plain": [
       "<matplotlib.legend.Legend at 0x7fd2d2dfeed0>"
      ]
     },
     "execution_count": 89,
     "metadata": {},
     "output_type": "execute_result"
    },
    {
     "data": {
      "image/png": "[encoded data removed]",
      "text/plain": [
       "<Figure size 720x360 with 1 Axes>"
      ]
     },
     "metadata": {
      "needs_background": "light"
     },
     "output_type": "display_data"
    }
   ],
   "source": [
    "fig = plt.figure(figsize=(10, 5))\n",
    "colors = ['blue', 'red', 'gray', 'black']\n",
    "for i in range(len(lst_kp_rsf)):\n",
    "    lst_kp_rsf[i].plot_survival_function(legend=False, ci_show=False, color=colors[i])\n",
    "plt.xlabel(\"tempo\")\n",
    "plt.ylabel(\"Função de Sobrevivência\")\n",
    "plt.legend([\"[0; 80,91]\", \n",
    "            \"(80,91; 161,33]\", \n",
    "            \"(161,33; 290,53]\",\n",
    "            \"(290,53; $\\infty$)\"], bbox_to_anchor=(0.93, 1.13), fancybox=True, ncol=4)"
   ]
  },
  {
   "cell_type": "markdown",
   "id": "051dbca8",
   "metadata": {},
   "source": [
    "Gradient Boosting Machine"
   ]
  },
  {
   "cell_type": "code",
   "execution_count": 90,
   "id": "799147c2",
   "metadata": {
    "ExecuteTime": {
     "end_time": "2023-11-14T03:51:14.543659Z",
     "start_time": "2023-11-14T03:51:14.540688Z"
    }
   },
   "outputs": [],
   "source": [
    "space_n_estimators = [50, 100, 200]\n",
    "space_max_depth = np.arange(2, 11, 5)\n",
    "space_min_samples_leaf = np.arange(5, 51, 10)"
   ]
  },
  {
   "cell_type": "code",
   "execution_count": 91,
   "id": "8073c59e",
   "metadata": {
    "ExecuteTime": {
     "end_time": "2023-11-14T03:51:27.553880Z",
     "start_time": "2023-11-14T03:51:27.551048Z"
    }
   },
   "outputs": [],
   "source": [
    "gbs = GradientBoostingSurvivalAnalysis(loss=\"coxph\")"
   ]
  },
  {
   "cell_type": "code",
   "execution_count": 92,
   "id": "71927294",
   "metadata": {
    "ExecuteTime": {
     "end_time": "2023-11-14T03:51:28.594008Z",
     "start_time": "2023-11-14T03:51:28.591231Z"
    }
   },
   "outputs": [],
   "source": [
    "params = {'n_estimators': space_n_estimators,\n",
    "          'max_depth': space_max_depth,\n",
    "          'min_samples_leaf': space_min_samples_leaf}"
   ]
  },
  {
   "cell_type": "code",
   "execution_count": 93,
   "id": "2f2efb0c",
   "metadata": {
    "ExecuteTime": {
     "end_time": "2023-11-14T03:51:32.206346Z",
     "start_time": "2023-11-14T03:51:32.203521Z"
    }
   },
   "outputs": [],
   "source": [
    "grid_gbs = GridSearchCV(gbs, param_grid=params, cv=10, n_jobs=-1)"
   ]
  },
  {
   "cell_type": "code",
   "execution_count": 94,
   "id": "07bba0ab",
   "metadata": {
    "ExecuteTime": {
     "end_time": "2023-11-14T03:52:03.203356Z",
     "start_time": "2023-11-14T03:51:33.396635Z"
    }
   },
   "outputs": [
    {
     "data": {
      "text/plain": [
       "GridSearchCV(cv=10, estimator=GradientBoostingSurvivalAnalysis(), n_jobs=-1,\n",
       "             param_grid={'max_depth': array([2, 7]),\n",
       "                         'min_samples_leaf': array([ 5, 15, 25, 35, 45]),\n",
       "                         'n_estimators': [50, 100, 200]})"
      ]
     },
     "execution_count": 94,
     "metadata": {},
     "output_type": "execute_result"
    }
   ],
   "source": [
    "grid_gbs.fit(X_train[lstFeatures], y_train)"
   ]
  },
  {
   "cell_type": "code",
   "execution_count": 95,
   "id": "96c1b41c",
   "metadata": {
    "ExecuteTime": {
     "end_time": "2023-11-14T03:52:23.537268Z",
     "start_time": "2023-11-14T03:52:23.533001Z"
    }
   },
   "outputs": [
    {
     "data": {
      "text/plain": [
       "{'max_depth': 2, 'min_samples_leaf': 5, 'n_estimators': 100}"
      ]
     },
     "execution_count": 95,
     "metadata": {},
     "output_type": "execute_result"
    }
   ],
   "source": [
    "grid_gbs.best_params_"
   ]
  },
  {
   "cell_type": "code",
   "execution_count": 96,
   "id": "c0311724",
   "metadata": {
    "ExecuteTime": {
     "end_time": "2023-11-14T03:52:25.941323Z",
     "start_time": "2023-11-14T03:52:25.937392Z"
    }
   },
   "outputs": [],
   "source": [
    "results_csv_gbs = pd.DataFrame(grid_gbs.cv_results_)"
   ]
  },
  {
   "cell_type": "code",
   "execution_count": 98,
   "id": "a010d325",
   "metadata": {
    "ExecuteTime": {
     "end_time": "2023-11-14T03:52:31.797236Z",
     "start_time": "2023-11-14T03:52:31.783411Z"
    }
   },
   "outputs": [
    {
     "data": {
      "text/html": [
       "<div>\n",
       "<style scoped>\n",
       "    .dataframe tbody tr th:only-of-type {\n",
       "        vertical-align: middle;\n",
       "    }\n",
       "\n",
       "    .dataframe tbody tr th {\n",
       "        vertical-align: top;\n",
       "    }\n",
       "\n",
       "    .dataframe thead th {\n",
       "        text-align: right;\n",
       "    }\n",
       "</style>\n",
       "<table border=\"1\" class=\"dataframe\">\n",
       "  <thead>\n",
       "    <tr style=\"text-align: right;\">\n",
       "      <th></th>\n",
       "      <th>param_max_depth</th>\n",
       "      <th>param_min_samples_leaf</th>\n",
       "      <th>param_n_estimators</th>\n",
       "      <th>mean_test_score</th>\n",
       "      <th>std_test_score</th>\n",
       "    </tr>\n",
       "  </thead>\n",
       "  <tbody>\n",
       "    <tr>\n",
       "      <th>1</th>\n",
       "      <td>2</td>\n",
       "      <td>5</td>\n",
       "      <td>100</td>\n",
       "      <td>0.731335</td>\n",
       "      <td>0.033207</td>\n",
       "    </tr>\n",
       "    <tr>\n",
       "      <th>27</th>\n",
       "      <td>7</td>\n",
       "      <td>45</td>\n",
       "      <td>50</td>\n",
       "      <td>0.730928</td>\n",
       "      <td>0.031673</td>\n",
       "    </tr>\n",
       "    <tr>\n",
       "      <th>4</th>\n",
       "      <td>2</td>\n",
       "      <td>15</td>\n",
       "      <td>100</td>\n",
       "      <td>0.728461</td>\n",
       "      <td>0.035985</td>\n",
       "    </tr>\n",
       "    <tr>\n",
       "      <th>0</th>\n",
       "      <td>2</td>\n",
       "      <td>5</td>\n",
       "      <td>50</td>\n",
       "      <td>0.728311</td>\n",
       "      <td>0.035583</td>\n",
       "    </tr>\n",
       "    <tr>\n",
       "      <th>3</th>\n",
       "      <td>2</td>\n",
       "      <td>15</td>\n",
       "      <td>50</td>\n",
       "      <td>0.727344</td>\n",
       "      <td>0.035877</td>\n",
       "    </tr>\n",
       "    <tr>\n",
       "      <th>13</th>\n",
       "      <td>2</td>\n",
       "      <td>45</td>\n",
       "      <td>100</td>\n",
       "      <td>0.726703</td>\n",
       "      <td>0.033383</td>\n",
       "    </tr>\n",
       "    <tr>\n",
       "      <th>7</th>\n",
       "      <td>2</td>\n",
       "      <td>25</td>\n",
       "      <td>100</td>\n",
       "      <td>0.726690</td>\n",
       "      <td>0.036029</td>\n",
       "    </tr>\n",
       "    <tr>\n",
       "      <th>25</th>\n",
       "      <td>7</td>\n",
       "      <td>35</td>\n",
       "      <td>100</td>\n",
       "      <td>0.726634</td>\n",
       "      <td>0.031822</td>\n",
       "    </tr>\n",
       "    <tr>\n",
       "      <th>24</th>\n",
       "      <td>7</td>\n",
       "      <td>35</td>\n",
       "      <td>50</td>\n",
       "      <td>0.726633</td>\n",
       "      <td>0.035257</td>\n",
       "    </tr>\n",
       "    <tr>\n",
       "      <th>12</th>\n",
       "      <td>2</td>\n",
       "      <td>45</td>\n",
       "      <td>50</td>\n",
       "      <td>0.726548</td>\n",
       "      <td>0.036494</td>\n",
       "    </tr>\n",
       "    <tr>\n",
       "      <th>10</th>\n",
       "      <td>2</td>\n",
       "      <td>35</td>\n",
       "      <td>100</td>\n",
       "      <td>0.726323</td>\n",
       "      <td>0.032789</td>\n",
       "    </tr>\n",
       "    <tr>\n",
       "      <th>6</th>\n",
       "      <td>2</td>\n",
       "      <td>25</td>\n",
       "      <td>50</td>\n",
       "      <td>0.726055</td>\n",
       "      <td>0.036134</td>\n",
       "    </tr>\n",
       "    <tr>\n",
       "      <th>28</th>\n",
       "      <td>7</td>\n",
       "      <td>45</td>\n",
       "      <td>100</td>\n",
       "      <td>0.725873</td>\n",
       "      <td>0.028378</td>\n",
       "    </tr>\n",
       "    <tr>\n",
       "      <th>2</th>\n",
       "      <td>2</td>\n",
       "      <td>5</td>\n",
       "      <td>200</td>\n",
       "      <td>0.725732</td>\n",
       "      <td>0.035263</td>\n",
       "    </tr>\n",
       "    <tr>\n",
       "      <th>9</th>\n",
       "      <td>2</td>\n",
       "      <td>35</td>\n",
       "      <td>50</td>\n",
       "      <td>0.725716</td>\n",
       "      <td>0.035509</td>\n",
       "    </tr>\n",
       "    <tr>\n",
       "      <th>21</th>\n",
       "      <td>7</td>\n",
       "      <td>25</td>\n",
       "      <td>50</td>\n",
       "      <td>0.725635</td>\n",
       "      <td>0.034435</td>\n",
       "    </tr>\n",
       "    <tr>\n",
       "      <th>29</th>\n",
       "      <td>7</td>\n",
       "      <td>45</td>\n",
       "      <td>200</td>\n",
       "      <td>0.724056</td>\n",
       "      <td>0.027953</td>\n",
       "    </tr>\n",
       "    <tr>\n",
       "      <th>18</th>\n",
       "      <td>7</td>\n",
       "      <td>15</td>\n",
       "      <td>50</td>\n",
       "      <td>0.724018</td>\n",
       "      <td>0.041552</td>\n",
       "    </tr>\n",
       "    <tr>\n",
       "      <th>14</th>\n",
       "      <td>2</td>\n",
       "      <td>45</td>\n",
       "      <td>200</td>\n",
       "      <td>0.723743</td>\n",
       "      <td>0.029879</td>\n",
       "    </tr>\n",
       "    <tr>\n",
       "      <th>26</th>\n",
       "      <td>7</td>\n",
       "      <td>35</td>\n",
       "      <td>200</td>\n",
       "      <td>0.723028</td>\n",
       "      <td>0.032542</td>\n",
       "    </tr>\n",
       "    <tr>\n",
       "      <th>5</th>\n",
       "      <td>2</td>\n",
       "      <td>15</td>\n",
       "      <td>200</td>\n",
       "      <td>0.722909</td>\n",
       "      <td>0.031847</td>\n",
       "    </tr>\n",
       "    <tr>\n",
       "      <th>22</th>\n",
       "      <td>7</td>\n",
       "      <td>25</td>\n",
       "      <td>100</td>\n",
       "      <td>0.722857</td>\n",
       "      <td>0.034112</td>\n",
       "    </tr>\n",
       "    <tr>\n",
       "      <th>11</th>\n",
       "      <td>2</td>\n",
       "      <td>35</td>\n",
       "      <td>200</td>\n",
       "      <td>0.722191</td>\n",
       "      <td>0.032163</td>\n",
       "    </tr>\n",
       "    <tr>\n",
       "      <th>8</th>\n",
       "      <td>2</td>\n",
       "      <td>25</td>\n",
       "      <td>200</td>\n",
       "      <td>0.721590</td>\n",
       "      <td>0.031587</td>\n",
       "    </tr>\n",
       "    <tr>\n",
       "      <th>19</th>\n",
       "      <td>7</td>\n",
       "      <td>15</td>\n",
       "      <td>100</td>\n",
       "      <td>0.717597</td>\n",
       "      <td>0.042244</td>\n",
       "    </tr>\n",
       "    <tr>\n",
       "      <th>23</th>\n",
       "      <td>7</td>\n",
       "      <td>25</td>\n",
       "      <td>200</td>\n",
       "      <td>0.716943</td>\n",
       "      <td>0.033724</td>\n",
       "    </tr>\n",
       "    <tr>\n",
       "      <th>20</th>\n",
       "      <td>7</td>\n",
       "      <td>15</td>\n",
       "      <td>200</td>\n",
       "      <td>0.715919</td>\n",
       "      <td>0.036467</td>\n",
       "    </tr>\n",
       "    <tr>\n",
       "      <th>15</th>\n",
       "      <td>7</td>\n",
       "      <td>5</td>\n",
       "      <td>50</td>\n",
       "      <td>0.704013</td>\n",
       "      <td>0.040041</td>\n",
       "    </tr>\n",
       "    <tr>\n",
       "      <th>17</th>\n",
       "      <td>7</td>\n",
       "      <td>5</td>\n",
       "      <td>200</td>\n",
       "      <td>0.703662</td>\n",
       "      <td>0.037751</td>\n",
       "    </tr>\n",
       "    <tr>\n",
       "      <th>16</th>\n",
       "      <td>7</td>\n",
       "      <td>5</td>\n",
       "      <td>100</td>\n",
       "      <td>0.702490</td>\n",
       "      <td>0.040904</td>\n",
       "    </tr>\n",
       "  </tbody>\n",
       "</table>\n",
       "</div>"
      ],
      "text/plain": [
       "   param_max_depth param_min_samples_leaf param_n_estimators  mean_test_score  \\\n",
       "1                2                      5                100         0.731335   \n",
       "27               7                     45                 50         0.730928   \n",
       "4                2                     15                100         0.728461   \n",
       "0                2                      5                 50         0.728311   \n",
       "3                2                     15                 50         0.727344   \n",
       "13               2                     45                100         0.726703   \n",
       "7                2                     25                100         0.726690   \n",
       "25               7                     35                100         0.726634   \n",
       "24               7                     35                 50         0.726633   \n",
       "12               2                     45                 50         0.726548   \n",
       "10               2                     35                100         0.726323   \n",
       "6                2                     25                 50         0.726055   \n",
       "28               7                     45                100         0.725873   \n",
       "2                2                      5                200         0.725732   \n",
       "9                2                     35                 50         0.725716   \n",
       "21               7                     25                 50         0.725635   \n",
       "29               7                     45                200         0.724056   \n",
       "18               7                     15                 50         0.724018   \n",
       "14               2                     45                200         0.723743   \n",
       "26               7                     35                200         0.723028   \n",
       "5                2                     15                200         0.722909   \n",
       "22               7                     25                100         0.722857   \n",
       "11               2                     35                200         0.722191   \n",
       "8                2                     25                200         0.721590   \n",
       "19               7                     15                100         0.717597   \n",
       "23               7                     25                200         0.716943   \n",
       "20               7                     15                200         0.715919   \n",
       "15               7                      5                 50         0.704013   \n",
       "17               7                      5                200         0.703662   \n",
       "16               7                      5                100         0.702490   \n",
       "\n",
       "    std_test_score  \n",
       "1         0.033207  \n",
       "27        0.031673  \n",
       "4         0.035985  \n",
       "0         0.035583  \n",
       "3         0.035877  \n",
       "13        0.033383  \n",
       "7         0.036029  \n",
       "25        0.031822  \n",
       "24        0.035257  \n",
       "12        0.036494  \n",
       "10        0.032789  \n",
       "6         0.036134  \n",
       "28        0.028378  \n",
       "2         0.035263  \n",
       "9         0.035509  \n",
       "21        0.034435  \n",
       "29        0.027953  \n",
       "18        0.041552  \n",
       "14        0.029879  \n",
       "26        0.032542  \n",
       "5         0.031847  \n",
       "22        0.034112  \n",
       "11        0.032163  \n",
       "8         0.031587  \n",
       "19        0.042244  \n",
       "23        0.033724  \n",
       "20        0.036467  \n",
       "15        0.040041  \n",
       "17        0.037751  \n",
       "16        0.040904  "
      ]
     },
     "execution_count": 98,
     "metadata": {},
     "output_type": "execute_result"
    }
   ],
   "source": [
    "(results_csv_gbs\n",
    " .sort_values('rank_test_score')[['param_max_depth', \n",
    "                                  'param_min_samples_leaf', \n",
    "                                  'param_n_estimators',\n",
    "                                  'mean_test_score', \n",
    "                                  'std_test_score']])"
   ]
  },
  {
   "cell_type": "code",
   "execution_count": 115,
   "id": "ab83267f",
   "metadata": {
    "ExecuteTime": {
     "end_time": "2023-11-14T03:54:40.245468Z",
     "start_time": "2023-11-14T03:54:40.242593Z"
    }
   },
   "outputs": [],
   "source": [
    "gbs_optim = GradientBoostingSurvivalAnalysis(max_depth=2,\n",
    "                                             min_samples_leaf=5,\n",
    "                                             n_estimators=100,\n",
    "                                             loss=\"coxph\")"
   ]
  },
  {
   "cell_type": "code",
   "execution_count": 116,
   "id": "e3c03329",
   "metadata": {
    "ExecuteTime": {
     "end_time": "2023-11-14T03:54:41.283506Z",
     "start_time": "2023-11-14T03:54:40.799852Z"
    }
   },
   "outputs": [
    {
     "data": {
      "text/plain": [
       "GradientBoostingSurvivalAnalysis(max_depth=2, min_samples_leaf=5)"
      ]
     },
     "execution_count": 116,
     "metadata": {},
     "output_type": "execute_result"
    }
   ],
   "source": [
    "gbs_optim.fit(X_train[lstFeatures], y_train)"
   ]
  },
  {
   "cell_type": "code",
   "execution_count": 117,
   "id": "6b708290",
   "metadata": {
    "ExecuteTime": {
     "end_time": "2023-11-14T03:54:42.812711Z",
     "start_time": "2023-11-14T03:54:42.802744Z"
    }
   },
   "outputs": [
    {
     "data": {
      "text/plain": [
       "0.7525134048257373"
      ]
     },
     "execution_count": 117,
     "metadata": {},
     "output_type": "execute_result"
    }
   ],
   "source": [
    "gbs_optim.score(X_test[lstFeatures], y_test)"
   ]
  },
  {
   "cell_type": "code",
   "execution_count": 118,
   "id": "a16d14ac",
   "metadata": {
    "ExecuteTime": {
     "end_time": "2023-11-14T03:54:43.429685Z",
     "start_time": "2023-11-14T03:54:43.422903Z"
    }
   },
   "outputs": [],
   "source": [
    "risk_score_gbs = gbs_optim.predict(X_train[lstFeatures])"
   ]
  },
  {
   "cell_type": "code",
   "execution_count": 107,
   "id": "0bcdeaeb",
   "metadata": {
    "ExecuteTime": {
     "end_time": "2023-11-14T03:54:00.869575Z",
     "start_time": "2023-11-14T03:54:00.735694Z"
    }
   },
   "outputs": [
    {
     "data": {
      "text/plain": [
       "Text(0, 0.5, 'Proporção')"
      ]
     },
     "execution_count": 107,
     "metadata": {},
     "output_type": "execute_result"
    },
    {
     "data": {
      "image/png": "[encoded data removed]",
      "text/plain": [
       "<Figure size 720x360 with 1 Axes>"
      ]
     },
     "metadata": {
      "needs_background": "light"
     },
     "output_type": "display_data"
    }
   ],
   "source": [
    "fig = plt.figure(figsize=(10,5))\n",
    "plt.hist(risk_score_gbs, density=True)\n",
    "plt.xlabel(\"Log função da taxa de risco\")\n",
    "plt.ylabel(\"Proporção\")"
   ]
  },
  {
   "cell_type": "code",
   "execution_count": 108,
   "id": "aacc9baa",
   "metadata": {
    "ExecuteTime": {
     "end_time": "2023-11-14T03:54:02.845347Z",
     "start_time": "2023-11-14T03:54:02.841220Z"
    }
   },
   "outputs": [],
   "source": [
    "first_quartile = np.quantile(risk_score_gbs, 0.25)\n",
    "second_quartile = np.quantile(risk_score_gbs, 0.5)\n",
    "third_quartile = np.quantile(risk_score_gbs, 0.75)"
   ]
  },
  {
   "cell_type": "code",
   "execution_count": 109,
   "id": "a5d82578",
   "metadata": {
    "ExecuteTime": {
     "end_time": "2023-11-14T03:54:03.994769Z",
     "start_time": "2023-11-14T03:54:03.990039Z"
    }
   },
   "outputs": [],
   "source": [
    "risk_score_gbs_bins = pd.cut(risk_score_gbs, bins=[-np.Inf, first_quartile, second_quartile, third_quartile, np.Inf])"
   ]
  },
  {
   "cell_type": "code",
   "execution_count": 110,
   "id": "48b4d391",
   "metadata": {
    "ExecuteTime": {
     "end_time": "2023-11-14T03:54:04.921152Z",
     "start_time": "2023-11-14T03:54:04.917928Z"
    }
   },
   "outputs": [],
   "source": [
    "X_train['risk_score_bins'] = risk_score_gbs_bins"
   ]
  },
  {
   "cell_type": "code",
   "execution_count": 111,
   "id": "9dde313a",
   "metadata": {
    "ExecuteTime": {
     "end_time": "2023-11-14T03:54:06.442800Z",
     "start_time": "2023-11-14T03:54:06.376758Z"
    }
   },
   "outputs": [],
   "source": [
    "lst_kp_rsf = []\n",
    "\n",
    "for _bin in np.unique(risk_score_gbs_bins):\n",
    "    kp = KaplanMeierFitter()\n",
    "    bin_index = X_train[X_train['risk_score_bins'] == _bin].index \n",
    "    df_study = df[df.index.isin(bin_index)]\n",
    "    kp.fit(df_study['tempo'], event_observed=df_study['delta'])\n",
    "    lst_kp_rsf.append(kp)"
   ]
  },
  {
   "cell_type": "code",
   "execution_count": 112,
   "id": "d24a13e0",
   "metadata": {
    "ExecuteTime": {
     "end_time": "2023-11-14T03:54:08.471804Z",
     "start_time": "2023-11-14T03:54:08.464481Z"
    }
   },
   "outputs": [
    {
     "data": {
      "text/plain": [
       "array([Interval(-inf, -0.779, closed='right'),\n",
       "       Interval(-0.779, -0.068, closed='right'),\n",
       "       Interval(-0.068, 0.671, closed='right'),\n",
       "       Interval(0.671, inf, closed='right')], dtype=object)"
      ]
     },
     "execution_count": 112,
     "metadata": {},
     "output_type": "execute_result"
    }
   ],
   "source": [
    "np.unique(risk_score_gbs_bins)"
   ]
  },
  {
   "cell_type": "code",
   "execution_count": 114,
   "id": "9c3336ad",
   "metadata": {
    "ExecuteTime": {
     "end_time": "2023-11-14T03:54:25.057722Z",
     "start_time": "2023-11-14T03:54:24.856826Z"
    }
   },
   "outputs": [
    {
     "data": {
      "text/plain": [
       "<matplotlib.legend.Legend at 0x7fd2d3dbb850>"
      ]
     },
     "execution_count": 114,
     "metadata": {},
     "output_type": "execute_result"
    },
    {
     "data": {
      "image/png": "[encoded data removed]",
      "text/plain": [
       "<Figure size 720x360 with 1 Axes>"
      ]
     },
     "metadata": {
      "needs_background": "light"
     },
     "output_type": "display_data"
    }
   ],
   "source": [
    "fig = plt.figure(figsize=(10, 5))\n",
    "colors = ['blue', 'red', 'gray', 'black']\n",
    "for i in range(len(lst_kp_rsf)):\n",
    "    lst_kp_rsf[i].plot_survival_function(legend=False, ci_show=False, color=colors[i])\n",
    "plt.xlabel(\"tempo\")\n",
    "plt.ylabel(\"Função de Sobrevivência\")\n",
    "plt.legend([\"(-$\\infty$; -0,78]\", \n",
    "            \"(-0,78; -0,07]\", \n",
    "            \"(-0,07; 0,67]\",\n",
    "            \"(0,67; $\\infty$)\"], bbox_to_anchor=(0.93, 1.13), fancybox=True, ncol=4)"
   ]
  },
  {
   "cell_type": "code",
   "execution_count": 130,
   "id": "f015c265",
   "metadata": {
    "ExecuteTime": {
     "end_time": "2023-11-14T04:06:22.089147Z",
     "start_time": "2023-11-14T04:06:22.085440Z"
    }
   },
   "outputs": [],
   "source": [
    "n_times = df['tempo'].sort_values().unique()"
   ]
  },
  {
   "cell_type": "code",
   "execution_count": 131,
   "id": "8d63bb51",
   "metadata": {
    "ExecuteTime": {
     "end_time": "2023-11-14T04:06:22.791950Z",
     "start_time": "2023-11-14T04:06:22.757467Z"
    }
   },
   "outputs": [],
   "source": [
    "survival_proba_cox = cox_model.predict_survival_function(X_test[lstFeatures])\n",
    "survival_proba_st = st_optim.predict_survival_function(X_test[lstFeatures])\n",
    "survival_proba_rsf = rsf_optim.predict_survival_function(X_test[lstFeatures])\n",
    "survival_proba_gbs = gbs_optim.predict_survival_function(X_test[lstFeatures])"
   ]
  },
  {
   "cell_type": "code",
   "execution_count": 132,
   "id": "1226bba5",
   "metadata": {
    "ExecuteTime": {
     "end_time": "2023-11-14T04:06:29.970317Z",
     "start_time": "2023-11-14T04:06:25.631955Z"
    }
   },
   "outputs": [],
   "source": [
    "lst_brier_score_cox = []\n",
    "lst_brier_score_st = []\n",
    "lst_brier_score_rsf = []\n",
    "lst_brier_score_gbs = []\n",
    "for time in n_times[n_times <= 729]:\n",
    "    preds_cox = [fn(time) for fn in survival_proba_cox]\n",
    "    preds_st = [fn(time) for fn in survival_proba_st]\n",
    "    preds_rsf = [fn(time) for fn in survival_proba_rsf]\n",
    "    preds_gbs = [fn(time) for fn in survival_proba_gbs]\n",
    "    lst_brier_score_cox += [brier_score(y_train, y_test, preds_cox, time)[1][0]]\n",
    "    lst_brier_score_st += [brier_score(y_train, y_test, preds_st, time)[1][0]]\n",
    "    lst_brier_score_rsf += [brier_score(y_train, y_test, preds_rsf, time)[1][0]]\n",
    "    lst_brier_score_gbs += [brier_score(y_train, y_test, preds_gbs, time)[1][0]]"
   ]
  },
  {
   "cell_type": "code",
   "execution_count": 134,
   "id": "f409b5de",
   "metadata": {
    "ExecuteTime": {
     "end_time": "2023-11-14T04:07:30.455462Z",
     "start_time": "2023-11-14T04:07:30.221758Z"
    }
   },
   "outputs": [
    {
     "data": {
      "image/png": "[encoded data removed]",
      "text/plain": [
       "<Figure size 720x360 with 1 Axes>"
      ]
     },
     "metadata": {
      "needs_background": "light"
     },
     "output_type": "display_data"
    }
   ],
   "source": [
    "fig = plt.figure(figsize=(10,5))\n",
    "sns.lineplot(x=n_times[n_times <= 729], y=lst_brier_score_cox, color='blue')\n",
    "sns.lineplot(x=n_times[n_times <= 729], y=lst_brier_score_st, color='gray')\n",
    "sns.lineplot(x=n_times[n_times <= 729], y=lst_brier_score_rsf, color='red')\n",
    "sns.lineplot(x=n_times[n_times <= 729], y=lst_brier_score_gbs, color='black')\n",
    "plt.legend(['Modelo de Cox', \n",
    "            'Árvore de Sobrevivência',\n",
    "            'Floresta de Sobrevivência Aleatória',\n",
    "            'Gradient Boosting Survival Tree'],\n",
    "             bbox_to_anchor=(1.1, 1.13), fancybox=True, ncol=4)\n",
    "plt.xlabel(\"Tempo\")\n",
    "plt.ylabel(\"Brier Score\")\n",
    "plt.show()"
   ]
  },
  {
   "cell_type": "markdown",
   "id": "77f336ff",
   "metadata": {},
   "source": [
    "Curvas de aprendizados:"
   ]
  },
  {
   "cell_type": "code",
   "execution_count": 153,
   "id": "5774e3e7",
   "metadata": {
    "ExecuteTime": {
     "end_time": "2023-11-14T04:25:54.837298Z",
     "start_time": "2023-11-14T04:25:54.832330Z"
    }
   },
   "outputs": [],
   "source": [
    "def generate_learning_curves(estimator, X_train, y_train, cv=10, train_sizes=np.linspace(0.2, 1.0, 10)):\n",
    "    train_sizes, train_scores, test_scores = learning_curve(estimator, X, y, cv=cv, train_sizes=train_sizes)\n",
    "    mean_st_train_scores = list(map(lambda x: x.mean(), train_scores))\n",
    "    std_st_train_scores = list(map(lambda x: x.std(), train_scores))\n",
    "    mean_st_test_scores = list(map(lambda x: x.mean(),  test_scores))\n",
    "    std_st_test_scores = list(map(lambda x: x.std(),  test_scores))\n",
    "    return train_sizes, mean_st_train_scores, std_st_train_scores, mean_st_test_scores, std_st_test_scores"
   ]
  },
  {
   "cell_type": "code",
   "execution_count": 154,
   "id": "cb6555dd",
   "metadata": {
    "ExecuteTime": {
     "end_time": "2023-11-14T04:26:01.692061Z",
     "start_time": "2023-11-14T04:25:57.734759Z"
    }
   },
   "outputs": [],
   "source": [
    "train_sizes, st_mean_train, st_std_train, st_mean_test, st_std_test = generate_learning_curves(st_optim, X, y)"
   ]
  },
  {
   "cell_type": "code",
   "execution_count": 155,
   "id": "2e944944",
   "metadata": {
    "ExecuteTime": {
     "end_time": "2023-11-14T04:26:27.942606Z",
     "start_time": "2023-11-14T04:26:04.578212Z"
    }
   },
   "outputs": [],
   "source": [
    "train_sizes, gbs_mean_train, gbs_std_train, gbs_mean_test, gbs_std_test = generate_learning_curves(gbs_optim, X, y)"
   ]
  },
  {
   "cell_type": "code",
   "execution_count": 156,
   "id": "27ba3f8f",
   "metadata": {
    "ExecuteTime": {
     "end_time": "2023-11-14T04:26:54.220213Z",
     "start_time": "2023-11-14T04:26:30.659121Z"
    }
   },
   "outputs": [],
   "source": [
    "train_sizes, rsf_mean_train, rsf_std_train, rsf_mean_test, rsf_std_test = generate_learning_curves(rsf_optim, X, y)"
   ]
  },
  {
   "cell_type": "code",
   "execution_count": 164,
   "id": "0aae4f30",
   "metadata": {
    "ExecuteTime": {
     "end_time": "2023-11-14T04:28:06.095745Z",
     "start_time": "2023-11-14T04:28:05.934245Z"
    }
   },
   "outputs": [
    {
     "data": {
      "text/plain": [
       "(0.5, 1.0)"
      ]
     },
     "execution_count": 164,
     "metadata": {},
     "output_type": "execute_result"
    },
    {
     "data": {
      "image/png": "[encoded data removed]",
      "text/plain": [
       "<Figure size 360x360 with 1 Axes>"
      ]
     },
     "metadata": {
      "needs_background": "light"
     },
     "output_type": "display_data"
    }
   ],
   "source": [
    "fig = plt.figure(figsize=(5,5))\n",
    "sns.lineplot(x=train_sizes, y=st_mean_train, color=\"black\")\n",
    "sns.lineplot(x=train_sizes, y=st_mean_test, color=\"gray\")\n",
    "plt.ylabel(\"Índice C\")\n",
    "plt.xlabel(\"Número de observações\")\n",
    "plt.title(\"Árvore de Sobrevivência\")\n",
    "plt.ylim(0.5, 1.)"
   ]
  },
  {
   "cell_type": "code",
   "execution_count": 165,
   "id": "f015fb7b",
   "metadata": {
    "ExecuteTime": {
     "end_time": "2023-11-14T04:28:19.872479Z",
     "start_time": "2023-11-14T04:28:19.721398Z"
    }
   },
   "outputs": [
    {
     "data": {
      "text/plain": [
       "(0.5, 1.0)"
      ]
     },
     "execution_count": 165,
     "metadata": {},
     "output_type": "execute_result"
    },
    {
     "data": {
      "image/png": "[encoded data removed]",
      "text/plain": [
       "<Figure size 360x360 with 1 Axes>"
      ]
     },
     "metadata": {
      "needs_background": "light"
     },
     "output_type": "display_data"
    }
   ],
   "source": [
    "fig = plt.figure(figsize=(5,5))\n",
    "sns.lineplot(x=train_sizes, y=gbs_mean_train, color=\"black\")\n",
    "sns.lineplot(x=train_sizes, y=gbs_mean_test, color=\"gray\")\n",
    "plt.ylabel(\"Índice C\")\n",
    "plt.xlabel(\"Número de observações\")\n",
    "plt.title(\"Gradient Boosting Survival Tree\")\n",
    "plt.ylim(0.5, 1.)"
   ]
  },
  {
   "cell_type": "code",
   "execution_count": 168,
   "id": "8f383e3e",
   "metadata": {
    "ExecuteTime": {
     "end_time": "2023-11-14T04:28:58.394202Z",
     "start_time": "2023-11-14T04:28:58.243324Z"
    }
   },
   "outputs": [
    {
     "data": {
      "text/plain": [
       "(0.5, 1.0)"
      ]
     },
     "execution_count": 168,
     "metadata": {},
     "output_type": "execute_result"
    },
    {
     "data": {
      "image/png": "[encoded data removed]",
      "text/plain": [
       "<Figure size 360x360 with 1 Axes>"
      ]
     },
     "metadata": {
      "needs_background": "light"
     },
     "output_type": "display_data"
    }
   ],
   "source": [
    "fig = plt.figure(figsize=(5,5))\n",
    "sns.lineplot(x=train_sizes, y=rsf_mean_train, color=\"black\")\n",
    "sns.lineplot(x=train_sizes, y=rsf_mean_test, color=\"gray\")\n",
    "plt.ylabel(\"Índice C\")\n",
    "plt.xlabel(\"Número de observações\")\n",
    "plt.title(\"Floresta de Sobrevivência Aleatória\")\n",
    "plt.ylim(0.5, 1.)"
   ]
  },
  {
   "cell_type": "code",
   "execution_count": 160,
   "id": "35e9dc5a",
   "metadata": {
    "ExecuteTime": {
     "end_time": "2023-11-14T04:27:18.961413Z",
     "start_time": "2023-11-14T04:27:18.957284Z"
    }
   },
   "outputs": [
    {
     "data": {
      "text/plain": [
       "0.06966768524070055"
      ]
     },
     "execution_count": 160,
     "metadata": {},
     "output_type": "execute_result"
    }
   ],
   "source": [
    "np.mean(np.array(st_mean_train) - np.array(st_mean_test))"
   ]
  },
  {
   "cell_type": "code",
   "execution_count": 161,
   "id": "6350bbfb",
   "metadata": {
    "ExecuteTime": {
     "end_time": "2023-11-14T04:27:22.483805Z",
     "start_time": "2023-11-14T04:27:22.479359Z"
    }
   },
   "outputs": [
    {
     "data": {
      "text/plain": [
       "0.08618308102245026"
      ]
     },
     "execution_count": 161,
     "metadata": {},
     "output_type": "execute_result"
    }
   ],
   "source": [
    "np.mean(np.array(gbs_mean_train) - np.array(gbs_mean_test))"
   ]
  },
  {
   "cell_type": "code",
   "execution_count": 162,
   "id": "bf0456a9",
   "metadata": {
    "ExecuteTime": {
     "end_time": "2023-11-14T04:27:25.502710Z",
     "start_time": "2023-11-14T04:27:25.498343Z"
    }
   },
   "outputs": [
    {
     "data": {
      "text/plain": [
       "0.08606865263811916"
      ]
     },
     "execution_count": 162,
     "metadata": {},
     "output_type": "execute_result"
    }
   ],
   "source": [
    "np.mean(np.array(rsf_mean_train) - np.array(rsf_mean_test))"
   ]
  },
  {
   "cell_type": "code",
   "execution_count": 179,
   "id": "674f880a",
   "metadata": {
    "ExecuteTime": {
     "end_time": "2023-11-14T04:41:29.816177Z",
     "start_time": "2023-11-14T04:41:29.471090Z"
    }
   },
   "outputs": [
    {
     "data": {
      "text/plain": [
       "<matplotlib.legend.Legend at 0x7fd2d8cc3850>"
      ]
     },
     "execution_count": 179,
     "metadata": {},
     "output_type": "execute_result"
    },
    {
     "data": {
      "image/png": "[encoded data removed]",
      "text/plain": [
       "<Figure size 1080x360 with 3 Axes>"
      ]
     },
     "metadata": {
      "needs_background": "light"
     },
     "output_type": "display_data"
    }
   ],
   "source": [
    "f, axes = plt.subplots(1, 3, figsize=(15, 5), sharex=True, sharey=True)\n",
    "sns.lineplot(x=train_sizes, y=st_mean_train, color=\"black\", ax=axes[0])\n",
    "sns.lineplot(x=train_sizes, y=st_mean_test, color=\"gray\", ax=axes[0])\n",
    "sns.lineplot(x=train_sizes, y=gbs_mean_train, color=\"black\", ax=axes[1])\n",
    "sns.lineplot(x=train_sizes, y=gbs_mean_test, color=\"gray\", ax=axes[1])\n",
    "sns.lineplot(x=train_sizes, y=rsf_mean_train, color=\"black\", ax=axes[2])\n",
    "sns.lineplot(x=train_sizes, y=rsf_mean_test, color=\"gray\", ax=axes[2])\n",
    "axes[0].set_title(\"Árvore de Sobrevivência\")\n",
    "axes[1].set_title(\"Gradient Boosting Survival Tree\")\n",
    "axes[2].set_title(\"Floresta de Sobrevivência Aleatória\")\n",
    "axes[0].set_ylabel(\"Índice C\")\n",
    "axes[1].set_xlabel(\"Número de observações\")\n",
    "axes[0].set_ylim(0.5, 1)\n",
    "plt.legend(['treino','teste'])"
   ]
  },
  {
   "cell_type": "markdown",
   "id": "28bc66e3",
   "metadata": {},
   "source": [
    "Selecionando as variáveis pelo modelo de cox:"
   ]
  },
  {
   "cell_type": "code",
   "execution_count": 180,
   "id": "3554bc02",
   "metadata": {
    "ExecuteTime": {
     "end_time": "2023-11-14T05:01:37.639246Z",
     "start_time": "2023-11-14T05:01:36.550086Z"
    }
   },
   "outputs": [],
   "source": [
    "import statsmodels.api as sm\n",
    "import statsmodels.formula.api as smf\n",
    "from functools import reduce"
   ]
  },
  {
   "cell_type": "code",
   "execution_count": 181,
   "id": "5c4e5cb0",
   "metadata": {
    "ExecuteTime": {
     "end_time": "2023-11-14T05:01:40.484672Z",
     "start_time": "2023-11-14T05:01:40.482013Z"
    }
   },
   "outputs": [],
   "source": [
    "featuresFormula = reduce(lambda x,y: f\"{x}\" + \" + \" + f\"{y}\", lstFeatures)"
   ]
  },
  {
   "cell_type": "code",
   "execution_count": 182,
   "id": "1de98f19",
   "metadata": {
    "ExecuteTime": {
     "end_time": "2023-11-14T05:01:43.320419Z",
     "start_time": "2023-11-14T05:01:43.318154Z"
    }
   },
   "outputs": [],
   "source": [
    "formula = f\"tempo ~ {featuresFormula}\""
   ]
  },
  {
   "cell_type": "code",
   "execution_count": 183,
   "id": "e58dc483",
   "metadata": {
    "ExecuteTime": {
     "end_time": "2023-11-14T05:01:46.150423Z",
     "start_time": "2023-11-14T05:01:46.146258Z"
    }
   },
   "outputs": [
    {
     "data": {
      "text/plain": [
       "'tempo ~ sexo_M + tipoadm_Emergency + tipoadm_Medical + site_primario_breast + site_primario_digestive_tract + site_primario_genital_system + site_primario_hematological + site_primario_oral_cavity_and_pharynx + site_primario_other_undeterm + site_primario_respiratory_system + site_primario_urinary_tract + status_cancer_Ativo___recaida_progressao + status_cancer_Controlado_remissao + extensao_cancer_Limitado + extensao_cancer_Localmente_avancado + extensao_cancer_Metastase_a_distancia + tipo_cirurgia_Nao + tipo_cirurgia_Paliativa + tipo_quimioterapia_Nao + tipo_quimioterapia_Paliativa + tipo_radioterapia_Nao + tipo_radioterapia_Paliativa + insuf_cardiaca + idade + imc + QV_0 + SAPS3_Pontos + capac_func_ecog + hospit_antes_uti + insuf_renal + insuf_resp + cirrose + alcoolismo + diabetesSN + deliriumSN'"
      ]
     },
     "execution_count": 183,
     "metadata": {},
     "output_type": "execute_result"
    }
   ],
   "source": [
    "formula"
   ]
  },
  {
   "cell_type": "code",
   "execution_count": 184,
   "id": "c81def4d",
   "metadata": {
    "ExecuteTime": {
     "end_time": "2023-11-14T05:01:48.994649Z",
     "start_time": "2023-11-14T05:01:48.992012Z"
    }
   },
   "outputs": [],
   "source": [
    "data_train = X_train"
   ]
  },
  {
   "cell_type": "code",
   "execution_count": 185,
   "id": "81b866ed",
   "metadata": {
    "ExecuteTime": {
     "end_time": "2023-11-14T05:01:51.904045Z",
     "start_time": "2023-11-14T05:01:51.901298Z"
    }
   },
   "outputs": [],
   "source": [
    "data_train[\"tempo\"] = y_train.tempo"
   ]
  },
  {
   "cell_type": "code",
   "execution_count": 186,
   "id": "4accc5b5",
   "metadata": {
    "ExecuteTime": {
     "end_time": "2023-11-14T05:01:54.758909Z",
     "start_time": "2023-11-14T05:01:54.756626Z"
    }
   },
   "outputs": [],
   "source": [
    "status = y_train.event"
   ]
  },
  {
   "cell_type": "code",
   "execution_count": 187,
   "id": "0cd90c63",
   "metadata": {
    "ExecuteTime": {
     "end_time": "2023-11-14T05:01:57.663897Z",
     "start_time": "2023-11-14T05:01:57.602572Z"
    }
   },
   "outputs": [],
   "source": [
    "cox_model = smf.phreg(formula, data_train, status=status, ties=\"efron\")"
   ]
  },
  {
   "cell_type": "code",
   "execution_count": 188,
   "id": "0ddc5c48",
   "metadata": {
    "ExecuteTime": {
     "end_time": "2023-11-14T05:02:00.749290Z",
     "start_time": "2023-11-14T05:02:00.485119Z"
    }
   },
   "outputs": [],
   "source": [
    "rslt = cox_model.fit()"
   ]
  },
  {
   "cell_type": "code",
   "execution_count": 189,
   "id": "13996d61",
   "metadata": {
    "ExecuteTime": {
     "end_time": "2023-11-14T05:02:03.592549Z",
     "start_time": "2023-11-14T05:02:03.557095Z"
    }
   },
   "outputs": [
    {
     "name": "stdout",
     "output_type": "stream",
     "text": [
      "                                        Results: PHReg\n",
      "==============================================================================================\n",
      "Model:                               PH Reg                  Sample size:                  674\n",
      "Dependent variable:                  tempo                   Num. events:                  450\n",
      "Ties:                                Efron                                                    \n",
      "----------------------------------------------------------------------------------------------\n",
      "                                          log HR log HR SE   HR      t    P>|t|  [0.025 0.975]\n",
      "----------------------------------------------------------------------------------------------\n",
      "sexo_M                                    0.2912    0.1088 1.3380  2.6774 0.0074 1.0812 1.6559\n",
      "tipoadm_Emergency                         0.1604    0.2393 1.1739  0.6702 0.5027 0.7345 1.8763\n",
      "tipoadm_Medical                           0.3726    0.1491 1.4515  2.4996 0.0124 1.0838 1.9441\n",
      "site_primario_breast                     -0.4960    0.3247 0.6089 -1.5275 0.1266 0.3222 1.1508\n",
      "site_primario_digestive_tract            -0.3681    0.2651 0.6920 -1.3885 0.1650 0.4116 1.1636\n",
      "site_primario_genital_system             -0.6376    0.2895 0.5285 -2.2024 0.0276 0.2997 0.9322\n",
      "site_primario_hematological              -1.1572    0.3255 0.3144 -3.5551 0.0004 0.1661 0.5950\n",
      "site_primario_oral_cavity_and_pharynx    -0.2012    0.3103 0.8177 -0.6485 0.5167 0.4451 1.5022\n",
      "site_primario_other_undeterm             -0.4140    0.2940 0.6610 -1.4078 0.1592 0.3715 1.1763\n",
      "site_primario_respiratory_system         -0.1255    0.3107 0.8821 -0.4038 0.6863 0.4798 1.6218\n",
      "site_primario_urinary_tract              -0.3514    0.2965 0.7037 -1.1849 0.2361 0.3935 1.2584\n",
      "status_cancer_Ativo___recaida_progressao  0.0664    0.1264 1.0686  0.5252 0.5995 0.8342 1.3690\n",
      "status_cancer_Controlado_remissao        -0.1980    0.2283 0.8203 -0.8675 0.3857 0.5244 1.2833\n",
      "extensao_cancer_Limitado                 -0.3606    0.3758 0.6973 -0.9595 0.3373 0.3339 1.4564\n",
      "extensao_cancer_Localmente_avancado      -0.1927    0.3713 0.8247 -0.5189 0.6038 0.3984 1.7075\n",
      "extensao_cancer_Metastase_a_distancia    -0.2258    0.3688 0.7978 -0.6123 0.5403 0.3872 1.6439\n",
      "tipo_cirurgia_Nao                         0.1459    0.1166 1.1571  1.2510 0.2109 0.9206 1.4543\n",
      "tipo_cirurgia_Paliativa                   0.0152    0.1838 1.0153  0.0825 0.9342 0.7081 1.4557\n",
      "tipo_quimioterapia_Nao                    0.2944    0.1359 1.3424  2.1659 0.0303 1.0284 1.7522\n",
      "tipo_quimioterapia_Paliativa              0.5491    0.1796 1.7317  3.0570 0.0022 1.2178 2.4625\n",
      "tipo_radioterapia_Nao                    -0.3565    0.1315 0.7001 -2.7105 0.0067 0.5410 0.9060\n",
      "tipo_radioterapia_Paliativa              -0.3493    0.2689 0.7052 -1.2987 0.1940 0.4163 1.1946\n",
      "insuf_cardiaca                           -0.0006    0.2612 0.9994 -0.0023 0.9981 0.5989 1.6677\n",
      "idade                                    -0.0030    0.0041 0.9970 -0.7341 0.4629 0.9890 1.0051\n",
      "imc                                      -0.0496    0.0111 0.9516 -4.4754 0.0000 0.9311 0.9725\n",
      "QV_0                                     -0.2070    0.1524 0.8130 -1.3583 0.1744 0.6031 1.0960\n",
      "SAPS3_Pontos                              0.0381    0.0055 1.0388  6.8656 0.0000 1.0276 1.0501\n",
      "capac_func_ecog                           0.1649    0.0547 1.1792  3.0144 0.0026 1.0594 1.3127\n",
      "hospit_antes_uti                          0.0013    0.0027 1.0013  0.4827 0.6293 0.9961 1.0065\n",
      "insuf_renal                               0.3292    0.3032 1.3898  1.0855 0.2777 0.7671 2.5181\n",
      "insuf_resp                               -0.2530    0.3064 0.7765 -0.8257 0.4090 0.4259 1.4155\n",
      "cirrose                                  -0.4601    0.3978 0.6312 -1.1566 0.2474 0.2895 1.3765\n",
      "alcoolismo                               -0.0891    0.1620 0.9148 -0.5498 0.5825 0.6659 1.2566\n",
      "diabetesSN                                0.0745    0.1418 1.0774  0.5256 0.5992 0.8160 1.4225\n",
      "deliriumSN                               -0.2754    0.1419 0.7592 -1.9406 0.0523 0.5749 1.0028\n",
      "==============================================================================================\n",
      "Confidence intervals are for the hazard ratios\n"
     ]
    }
   ],
   "source": [
    "print(rslt.summary())"
   ]
  },
  {
   "cell_type": "code",
   "execution_count": 190,
   "id": "1e4c435f",
   "metadata": {
    "ExecuteTime": {
     "end_time": "2023-11-14T05:02:27.653219Z",
     "start_time": "2023-11-14T05:02:27.649875Z"
    }
   },
   "outputs": [],
   "source": [
    "pvalues_df = pd.DataFrame({\"variavel\": lstFeatures, \"pvalor\": rslt.pvalues})"
   ]
  },
  {
   "cell_type": "code",
   "execution_count": 191,
   "id": "2325a4e7",
   "metadata": {
    "ExecuteTime": {
     "end_time": "2023-11-14T05:02:30.536802Z",
     "start_time": "2023-11-14T05:02:30.533735Z"
    }
   },
   "outputs": [],
   "source": [
    "def filtra_variaveis_pvalor(pvalues_df, pvalue):\n",
    "    variaveis_selecionadas = list(pvalues_df[pvalues_df.pvalor <= pvalue].variavel)\n",
    "    return variaveis_selecionadas"
   ]
  },
  {
   "cell_type": "code",
   "execution_count": 192,
   "id": "fb9eb612",
   "metadata": {
    "ExecuteTime": {
     "end_time": "2023-11-14T05:02:33.334675Z",
     "start_time": "2023-11-14T05:02:33.331405Z"
    }
   },
   "outputs": [],
   "source": [
    "def treina_modelo(estimator, X_train, y_train, X_test, y_test, lst_features):\n",
    "    estimator.fit(X_train[lst_features], y_train)\n",
    "    return estimator.score(X_test[lst_features], y_test)"
   ]
  },
  {
   "cell_type": "code",
   "execution_count": 193,
   "id": "9949db7d",
   "metadata": {
    "ExecuteTime": {
     "end_time": "2023-11-14T05:02:36.123964Z",
     "start_time": "2023-11-14T05:02:36.120810Z"
    }
   },
   "outputs": [],
   "source": [
    "def treina_modelo_diferentes_variaveis(estimator, X_train, y_train, X_test, y_test, lst_lst_features):\n",
    "    lst_c_indice = []\n",
    "    for lst in lst_lst_features:\n",
    "        c_indice = treina_modelo(estimator, X_train, y_train, X_test, y_test, lst)\n",
    "        lst_c_indice.append(c_indice)\n",
    "    return lst_c_indice"
   ]
  },
  {
   "cell_type": "code",
   "execution_count": 194,
   "id": "88703753",
   "metadata": {
    "ExecuteTime": {
     "end_time": "2023-11-14T05:02:38.916123Z",
     "start_time": "2023-11-14T05:02:38.913518Z"
    }
   },
   "outputs": [],
   "source": [
    "lst_pvalues = [0.01, 0.05, 0.1, 0.2, 0.3, 1.]"
   ]
  },
  {
   "cell_type": "code",
   "execution_count": 195,
   "id": "283c6ad4",
   "metadata": {
    "ExecuteTime": {
     "end_time": "2023-11-14T05:02:41.771715Z",
     "start_time": "2023-11-14T05:02:41.766133Z"
    }
   },
   "outputs": [],
   "source": [
    "lst_variaveis_pvalor = list(map(lambda p: filtra_variaveis_pvalor(pvalues_df, p), lst_pvalues))"
   ]
  },
  {
   "cell_type": "code",
   "execution_count": 196,
   "id": "237da21f",
   "metadata": {
    "ExecuteTime": {
     "end_time": "2023-11-14T05:02:44.660153Z",
     "start_time": "2023-11-14T05:02:44.657304Z"
    }
   },
   "outputs": [
    {
     "name": "stdout",
     "output_type": "stream",
     "text": [
      "7\n",
      "10\n",
      "11\n",
      "16\n",
      "20\n",
      "35\n"
     ]
    }
   ],
   "source": [
    "for lst in lst_variaveis_pvalor:\n",
    "    print(len(lst))"
   ]
  },
  {
   "cell_type": "code",
   "execution_count": 221,
   "id": "174bef53",
   "metadata": {
    "ExecuteTime": {
     "end_time": "2023-11-14T05:12:05.306939Z",
     "start_time": "2023-11-14T05:12:05.301720Z"
    }
   },
   "outputs": [],
   "source": [
    "lst_estimator = [RandomSurvivalForest(max_depth=7, \n",
    "                                      max_features=5, \n",
    "                                      min_samples_leaf=5, \n",
    "                                      n_estimators=50,\n",
    "                                      random_state=3232),\n",
    "                 GradientBoostingSurvivalAnalysis(max_depth=2,\n",
    "                                             min_samples_leaf=5,\n",
    "                                             n_estimators=100,\n",
    "                                             loss=\"coxph\")]"
   ]
  },
  {
   "cell_type": "code",
   "execution_count": 222,
   "id": "e2967985",
   "metadata": {
    "ExecuteTime": {
     "end_time": "2023-11-14T05:12:08.132544Z",
     "start_time": "2023-11-14T05:12:08.130219Z"
    }
   },
   "outputs": [],
   "source": [
    "lst_c_indices = []"
   ]
  },
  {
   "cell_type": "code",
   "execution_count": 223,
   "id": "a0faca3f",
   "metadata": {
    "ExecuteTime": {
     "end_time": "2023-11-14T05:12:16.729085Z",
     "start_time": "2023-11-14T05:12:10.982767Z"
    }
   },
   "outputs": [],
   "source": [
    "for estimator in lst_estimator:\n",
    "    c_indices = treina_modelo_diferentes_variaveis(estimator, \n",
    "                                       X_train, \n",
    "                                       y_train, \n",
    "                                       X_test, \n",
    "                                       y_test, \n",
    "                                       lst_variaveis_pvalor)\n",
    "    lst_c_indices.append(c_indices)"
   ]
  },
  {
   "cell_type": "code",
   "execution_count": 226,
   "id": "3bf02ee7",
   "metadata": {
    "ExecuteTime": {
     "end_time": "2023-11-14T05:12:41.147874Z",
     "start_time": "2023-11-14T05:12:40.978988Z"
    }
   },
   "outputs": [
    {
     "data": {
      "text/plain": [
       "(0.5, 1.0)"
      ]
     },
     "execution_count": 226,
     "metadata": {},
     "output_type": "execute_result"
    },
    {
     "data": {
      "image/png": "[encoded data removed]",
      "text/plain": [
       "<Figure size 720x360 with 1 Axes>"
      ]
     },
     "metadata": {
      "needs_background": "light"
     },
     "output_type": "display_data"
    }
   ],
   "source": [
    "fig = plt.figure(figsize=(10,5))\n",
    "sns.lineplot(x=lst_pvalues, y=lst_c_indices[0], color=\"gray\")\n",
    "sns.lineplot(x=lst_pvalues, y=lst_c_indices[1], color=\"blue\")\n",
    "plt.legend(['Floresta de Sobrevivência Aleatória', \n",
    "            'Gradient Boosting Survival Tree'])\n",
    "plt.xlabel(\"p-valor\")\n",
    "plt.ylabel(\"Índice C\")\n",
    "plt.axvline(0.2, linestyle='dashed', color='lightblue')\n",
    "plt.axvline(0.3, linestyle='dashed', color='lightgray')\n",
    "plt.ylim(0.5, 1)"
   ]
  }
 ],
 "metadata": {
  "kernelspec": {
   "display_name": "Python 3 (ipykernel)",
   "language": "python",
   "name": "python3"
  },
  "language_info": {
   "codemirror_mode": {
    "name": "ipython",
    "version": 3
   },
   "file_extension": ".py",
   "mimetype": "text/x-python",
   "name": "python",
   "nbconvert_exporter": "python",
   "pygments_lexer": "ipython3",
   "version": "3.7.7"
  },
  "toc": {
   "base_numbering": 1,
   "nav_menu": {},
   "number_sections": true,
   "sideBar": true,
   "skip_h1_title": false,
   "title_cell": "Table of Contents",
   "title_sidebar": "Contents",
   "toc_cell": false,
   "toc_position": {},
   "toc_section_display": true,
   "toc_window_display": false
  },
  "varInspector": {
   "cols": {
    "lenName": 16,
    "lenType": 16,
    "lenVar": 40
   },
   "kernels_config": {
    "python": {
     "delete_cmd_postfix": "",
     "delete_cmd_prefix": "del ",
     "library": "var_list.py",
     "varRefreshCmd": "print(var_dic_list())"
    },
    "r": {
     "delete_cmd_postfix": ") ",
     "delete_cmd_prefix": "rm(",
     "library": "var_list.r",
     "varRefreshCmd": "cat(var_dic_list()) "
    }
   },
   "types_to_exclude": [
    "module",
    "function",
    "builtin_function_or_method",
    "instance",
    "_Feature"
   ],
   "window_display": false
  }
 },
 "nbformat": 4,
 "nbformat_minor": 5
}
