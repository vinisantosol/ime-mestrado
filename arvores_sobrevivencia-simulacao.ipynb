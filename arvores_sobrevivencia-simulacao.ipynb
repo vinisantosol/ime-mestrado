{
 "cells": [
  {
   "cell_type": "markdown",
   "id": "07598356",
   "metadata": {},
   "source": [
    "# Simulação"
   ]
  },
  {
   "cell_type": "code",
   "execution_count": 1,
   "id": "64a1ddb8",
   "metadata": {
    "ExecuteTime": {
     "end_time": "2023-11-14T05:14:32.137987Z",
     "start_time": "2023-11-14T05:14:30.514058Z"
    }
   },
   "outputs": [],
   "source": [
    "import pandas as pd\n",
    "from sksurv.tree import SurvivalTree\n",
    "from sksurv.linear_model import CoxPHSurvivalAnalysis\n",
    "from sklearn.model_selection import GridSearchCV, train_test_split\n",
    "import seaborn as sns\n",
    "import matplotlib.pyplot as plt\n",
    "from sksurv.datasets import get_x_y\n",
    "from sksurv.tree import SurvivalTree\n",
    "from sksurv.ensemble import RandomSurvivalForest, GradientBoostingSurvivalAnalysis\n",
    "from sksurv.metrics import brier_score, concordance_index_censored\n",
    "import plot_survival_tree\n",
    "from lifelines import KaplanMeierFitter\n",
    "from itertools import combinations, chain, product\n",
    "import math\n",
    "from sklearn.model_selection import cross_val_score"
   ]
  },
  {
   "cell_type": "markdown",
   "id": "233c5c27",
   "metadata": {},
   "source": [
    "Funções:"
   ]
  },
  {
   "cell_type": "code",
   "execution_count": 2,
   "id": "c5f7d4ae",
   "metadata": {
    "ExecuteTime": {
     "end_time": "2023-11-14T05:14:32.159412Z",
     "start_time": "2023-11-14T05:14:32.156955Z"
    }
   },
   "outputs": [],
   "source": [
    "transform_int = lambda x: 1 if x == 'Sim' else 0"
   ]
  },
  {
   "cell_type": "code",
   "execution_count": 3,
   "id": "4a74dfa9",
   "metadata": {
    "ExecuteTime": {
     "end_time": "2023-11-14T05:14:32.173541Z",
     "start_time": "2023-11-14T05:14:32.171316Z"
    }
   },
   "outputs": [],
   "source": [
    "transform_int_in_english = lambda x: 1 if x == 'Yes' else 0"
   ]
  },
  {
   "cell_type": "code",
   "execution_count": 4,
   "id": "dd2f1663",
   "metadata": {
    "ExecuteTime": {
     "end_time": "2023-11-14T05:14:32.187255Z",
     "start_time": "2023-11-14T05:14:32.184691Z"
    }
   },
   "outputs": [],
   "source": [
    "def transform_in_dummies(df, categorical_cols):\n",
    "    df_dummies = pd.get_dummies(df[categorical_cols], drop_first=True)\n",
    "    dummies_cols = df_dummies.columns\n",
    "    return list(dummies_cols), df_dummies"
   ]
  },
  {
   "cell_type": "markdown",
   "id": "a64d956c",
   "metadata": {},
   "source": [
    "Lendo os dados:"
   ]
  },
  {
   "cell_type": "code",
   "execution_count": 5,
   "id": "5b111119",
   "metadata": {
    "ExecuteTime": {
     "end_time": "2023-11-14T05:14:33.372100Z",
     "start_time": "2023-11-14T05:14:33.360224Z"
    }
   },
   "outputs": [],
   "source": [
    "df = pd.read_csv(\"/Users/vinicius.oliveira/Downloads/ICESPv1.csv\")"
   ]
  },
  {
   "cell_type": "markdown",
   "id": "20f093a5",
   "metadata": {},
   "source": [
    "Tratamentos iniciais:"
   ]
  },
  {
   "cell_type": "code",
   "execution_count": 6,
   "id": "36728512",
   "metadata": {
    "ExecuteTime": {
     "end_time": "2023-11-14T05:14:35.667504Z",
     "start_time": "2023-11-14T05:14:35.663472Z"
    }
   },
   "outputs": [],
   "source": [
    "df['insuf_cardiaca'] = df['insuf_cardiaca3e4'].apply(lambda x: 1 if x == 'I/II' else 0)"
   ]
  },
  {
   "cell_type": "code",
   "execution_count": 7,
   "id": "ffc6f9bc",
   "metadata": {
    "ExecuteTime": {
     "end_time": "2023-11-14T05:14:36.074143Z",
     "start_time": "2023-11-14T05:14:36.070447Z"
    }
   },
   "outputs": [],
   "source": [
    "df['tipo_cirurgia'] = df['tipo_cirurgia'].apply(lambda x: 'Nao' if type(x) == float else x)"
   ]
  },
  {
   "cell_type": "code",
   "execution_count": 8,
   "id": "5260b2ad",
   "metadata": {
    "ExecuteTime": {
     "end_time": "2023-11-14T05:14:36.557151Z",
     "start_time": "2023-11-14T05:14:36.553760Z"
    }
   },
   "outputs": [],
   "source": [
    "df['tipo_quimioterapia'] = df['tipo_quimioterapia'].apply(lambda x: 'Nao' if type(x) == float else x)"
   ]
  },
  {
   "cell_type": "code",
   "execution_count": 9,
   "id": "37192343",
   "metadata": {
    "ExecuteTime": {
     "end_time": "2023-11-14T05:14:37.015580Z",
     "start_time": "2023-11-14T05:14:37.011909Z"
    }
   },
   "outputs": [],
   "source": [
    "df['tipo_radioterapia'] = df['tipo_radioterapia'].apply(lambda x: 'Nao' if type(x) == float else x)"
   ]
  },
  {
   "cell_type": "code",
   "execution_count": 10,
   "id": "117c4343",
   "metadata": {
    "ExecuteTime": {
     "end_time": "2023-11-14T05:14:37.471491Z",
     "start_time": "2023-11-14T05:14:37.466586Z"
    }
   },
   "outputs": [],
   "source": [
    "meanQV0 = np.mean(df['QV.0'])\n",
    "df['QV.0'] = df['QV.0'].apply(lambda x: meanQV0 if np.isnan(x) else x)"
   ]
  },
  {
   "cell_type": "code",
   "execution_count": 11,
   "id": "b4bb58a0",
   "metadata": {
    "ExecuteTime": {
     "end_time": "2023-11-14T05:14:37.888786Z",
     "start_time": "2023-11-14T05:14:37.885506Z"
    }
   },
   "outputs": [],
   "source": [
    "df['event'] = df['delta'].astype(bool)"
   ]
  },
  {
   "cell_type": "markdown",
   "id": "6509e8ac",
   "metadata": {},
   "source": [
    "Lendo o dataset:"
   ]
  },
  {
   "cell_type": "code",
   "execution_count": 12,
   "id": "339278e7",
   "metadata": {
    "ExecuteTime": {
     "end_time": "2023-11-14T05:14:39.332370Z",
     "start_time": "2023-11-14T05:14:39.307158Z"
    }
   },
   "outputs": [
    {
     "data": {
      "text/html": [
       "<div>\n",
       "<style scoped>\n",
       "    .dataframe tbody tr th:only-of-type {\n",
       "        vertical-align: middle;\n",
       "    }\n",
       "\n",
       "    .dataframe tbody tr th {\n",
       "        vertical-align: top;\n",
       "    }\n",
       "\n",
       "    .dataframe thead th {\n",
       "        text-align: right;\n",
       "    }\n",
       "</style>\n",
       "<table border=\"1\" class=\"dataframe\">\n",
       "  <thead>\n",
       "    <tr style=\"text-align: right;\">\n",
       "      <th></th>\n",
       "      <th>Unnamed: 0</th>\n",
       "      <th>idpac</th>\n",
       "      <th>idade</th>\n",
       "      <th>sexo</th>\n",
       "      <th>imc</th>\n",
       "      <th>imc_cat</th>\n",
       "      <th>insuf_renal</th>\n",
       "      <th>insuf_resp</th>\n",
       "      <th>cirrose</th>\n",
       "      <th>alcoolismo</th>\n",
       "      <th>...</th>\n",
       "      <th>hospit_antes_uti</th>\n",
       "      <th>QV.0</th>\n",
       "      <th>QV.0Cat</th>\n",
       "      <th>SAPS3_Pontos</th>\n",
       "      <th>SAPS3cat</th>\n",
       "      <th>tempo</th>\n",
       "      <th>delta</th>\n",
       "      <th>centro</th>\n",
       "      <th>insuf_cardiaca</th>\n",
       "      <th>event</th>\n",
       "    </tr>\n",
       "  </thead>\n",
       "  <tbody>\n",
       "    <tr>\n",
       "      <th>0</th>\n",
       "      <td>1</td>\n",
       "      <td>001/0001</td>\n",
       "      <td>29.876712</td>\n",
       "      <td>F</td>\n",
       "      <td>16.135394</td>\n",
       "      <td>Underweight</td>\n",
       "      <td>Nao</td>\n",
       "      <td>Nao</td>\n",
       "      <td>Nao</td>\n",
       "      <td>Nao</td>\n",
       "      <td>...</td>\n",
       "      <td>0</td>\n",
       "      <td>0.725</td>\n",
       "      <td>0.6 to 0.8</td>\n",
       "      <td>46</td>\n",
       "      <td>[38,54)</td>\n",
       "      <td>240</td>\n",
       "      <td>1</td>\n",
       "      <td>ICESP</td>\n",
       "      <td>1</td>\n",
       "      <td>True</td>\n",
       "    </tr>\n",
       "    <tr>\n",
       "      <th>1</th>\n",
       "      <td>2</td>\n",
       "      <td>001/0002</td>\n",
       "      <td>26.945205</td>\n",
       "      <td>M</td>\n",
       "      <td>26.122449</td>\n",
       "      <td>Overweight</td>\n",
       "      <td>Nao</td>\n",
       "      <td>Nao</td>\n",
       "      <td>Nao</td>\n",
       "      <td>Nao</td>\n",
       "      <td>...</td>\n",
       "      <td>1</td>\n",
       "      <td>0.088</td>\n",
       "      <td>&lt;0.4</td>\n",
       "      <td>65</td>\n",
       "      <td>[54,93]</td>\n",
       "      <td>731</td>\n",
       "      <td>0</td>\n",
       "      <td>ICESP</td>\n",
       "      <td>1</td>\n",
       "      <td>False</td>\n",
       "    </tr>\n",
       "    <tr>\n",
       "      <th>2</th>\n",
       "      <td>3</td>\n",
       "      <td>001/0003</td>\n",
       "      <td>76.364384</td>\n",
       "      <td>M</td>\n",
       "      <td>27.440599</td>\n",
       "      <td>Overweight</td>\n",
       "      <td>Nao</td>\n",
       "      <td>Nao</td>\n",
       "      <td>Nao</td>\n",
       "      <td>Nao</td>\n",
       "      <td>...</td>\n",
       "      <td>1</td>\n",
       "      <td>0.850</td>\n",
       "      <td>0.8 to 1.0</td>\n",
       "      <td>38</td>\n",
       "      <td>[38,54)</td>\n",
       "      <td>730</td>\n",
       "      <td>0</td>\n",
       "      <td>ICESP</td>\n",
       "      <td>1</td>\n",
       "      <td>False</td>\n",
       "    </tr>\n",
       "    <tr>\n",
       "      <th>3</th>\n",
       "      <td>4</td>\n",
       "      <td>001/0004</td>\n",
       "      <td>71.676712</td>\n",
       "      <td>M</td>\n",
       "      <td>24.382716</td>\n",
       "      <td>Healthy weight</td>\n",
       "      <td>Nao</td>\n",
       "      <td>Nao</td>\n",
       "      <td>Nao</td>\n",
       "      <td>Nao</td>\n",
       "      <td>...</td>\n",
       "      <td>4</td>\n",
       "      <td>0.710</td>\n",
       "      <td>0.6 to 0.8</td>\n",
       "      <td>66</td>\n",
       "      <td>[54,93]</td>\n",
       "      <td>7</td>\n",
       "      <td>1</td>\n",
       "      <td>ICESP</td>\n",
       "      <td>1</td>\n",
       "      <td>True</td>\n",
       "    </tr>\n",
       "    <tr>\n",
       "      <th>4</th>\n",
       "      <td>5</td>\n",
       "      <td>001/0005</td>\n",
       "      <td>25.783562</td>\n",
       "      <td>M</td>\n",
       "      <td>18.113754</td>\n",
       "      <td>Underweight</td>\n",
       "      <td>Nao</td>\n",
       "      <td>Nao</td>\n",
       "      <td>Nao</td>\n",
       "      <td>Nao</td>\n",
       "      <td>...</td>\n",
       "      <td>3</td>\n",
       "      <td>-0.181</td>\n",
       "      <td>&lt;0.4</td>\n",
       "      <td>44</td>\n",
       "      <td>[38,54)</td>\n",
       "      <td>201</td>\n",
       "      <td>1</td>\n",
       "      <td>ICESP</td>\n",
       "      <td>1</td>\n",
       "      <td>True</td>\n",
       "    </tr>\n",
       "  </tbody>\n",
       "</table>\n",
       "<p>5 rows × 35 columns</p>\n",
       "</div>"
      ],
      "text/plain": [
       "   Unnamed: 0     idpac      idade sexo        imc         imc_cat  \\\n",
       "0           1  001/0001  29.876712    F  16.135394     Underweight   \n",
       "1           2  001/0002  26.945205    M  26.122449      Overweight   \n",
       "2           3  001/0003  76.364384    M  27.440599      Overweight   \n",
       "3           4  001/0004  71.676712    M  24.382716  Healthy weight   \n",
       "4           5  001/0005  25.783562    M  18.113754     Underweight   \n",
       "\n",
       "  insuf_renal insuf_resp cirrose alcoolismo  ... hospit_antes_uti   QV.0  \\\n",
       "0         Nao        Nao     Nao        Nao  ...                0  0.725   \n",
       "1         Nao        Nao     Nao        Nao  ...                1  0.088   \n",
       "2         Nao        Nao     Nao        Nao  ...                1  0.850   \n",
       "3         Nao        Nao     Nao        Nao  ...                4  0.710   \n",
       "4         Nao        Nao     Nao        Nao  ...                3 -0.181   \n",
       "\n",
       "      QV.0Cat SAPS3_Pontos SAPS3cat tempo delta centro insuf_cardiaca  event  \n",
       "0  0.6 to 0.8           46  [38,54)   240     1  ICESP              1   True  \n",
       "1        <0.4           65  [54,93]   731     0  ICESP              1  False  \n",
       "2  0.8 to 1.0           38  [38,54)   730     0  ICESP              1  False  \n",
       "3  0.6 to 0.8           66  [54,93]     7     1  ICESP              1   True  \n",
       "4        <0.4           44  [38,54)   201     1  ICESP              1   True  \n",
       "\n",
       "[5 rows x 35 columns]"
      ]
     },
     "execution_count": 12,
     "metadata": {},
     "output_type": "execute_result"
    }
   ],
   "source": [
    "df.head()"
   ]
  },
  {
   "cell_type": "markdown",
   "id": "ffec5947",
   "metadata": {},
   "source": [
    "Definindo alguns conjuntos de covariáveis:"
   ]
  },
  {
   "cell_type": "code",
   "execution_count": 13,
   "id": "43a37a99",
   "metadata": {
    "ExecuteTime": {
     "end_time": "2023-11-14T05:14:40.163330Z",
     "start_time": "2023-11-14T05:14:40.159290Z"
    }
   },
   "outputs": [],
   "source": [
    "lstSimNao = ['insuf_renal', \n",
    "             'insuf_resp', \n",
    "             'cirrose', \n",
    "             'alcoolismo'\n",
    "             #'cirurgia',\n",
    "             #'quimioterapia',\n",
    "             #'radioterapia'\n",
    "            ]\n",
    "\n",
    "lstYesNo = ['diabetesSN',\n",
    "            'deliriumSN']\n",
    "\n",
    "lstCategorical = ['sexo',\n",
    "                  'tipoadm',\n",
    "                  'site_primario',\n",
    "                  'status_cancer',\n",
    "                  'extensao_cancer',\n",
    "                  'tipo_cirurgia',\n",
    "                  'tipo_quimioterapia',\n",
    "                  'tipo_radioterapia']\n",
    "\n",
    "lstNum = ['insuf_cardiaca',\n",
    "          'idade', \n",
    "          'imc',\n",
    "          'QV.0',\n",
    "          'SAPS3_Pontos',\n",
    "          'capac_func_ecog',\n",
    "          'hospit_antes_uti']"
   ]
  },
  {
   "cell_type": "code",
   "execution_count": 14,
   "id": "4533842c",
   "metadata": {
    "ExecuteTime": {
     "end_time": "2023-11-14T05:14:42.256671Z",
     "start_time": "2023-11-14T05:14:42.250675Z"
    }
   },
   "outputs": [],
   "source": [
    "for col in lstSimNao:\n",
    "    \n",
    "    df[col] = df[col].apply(transform_int)"
   ]
  },
  {
   "cell_type": "code",
   "execution_count": 15,
   "id": "3da7615b",
   "metadata": {
    "ExecuteTime": {
     "end_time": "2023-11-14T05:14:42.571337Z",
     "start_time": "2023-11-14T05:14:42.566574Z"
    }
   },
   "outputs": [],
   "source": [
    "for col in lstYesNo:\n",
    "    \n",
    "    df[col] = df[col].apply(transform_int_in_english)"
   ]
  },
  {
   "cell_type": "code",
   "execution_count": 16,
   "id": "ab0233f7",
   "metadata": {
    "ExecuteTime": {
     "end_time": "2023-11-14T05:14:42.972643Z",
     "start_time": "2023-11-14T05:14:42.961164Z"
    }
   },
   "outputs": [],
   "source": [
    "lstDummies, df_dummies = transform_in_dummies(df, lstCategorical)"
   ]
  },
  {
   "cell_type": "code",
   "execution_count": 17,
   "id": "75285978",
   "metadata": {
    "ExecuteTime": {
     "end_time": "2023-11-14T05:14:43.270374Z",
     "start_time": "2023-11-14T05:14:43.260715Z"
    }
   },
   "outputs": [],
   "source": [
    "df[lstDummies] = df_dummies"
   ]
  },
  {
   "cell_type": "code",
   "execution_count": 18,
   "id": "72cc13c1",
   "metadata": {
    "ExecuteTime": {
     "end_time": "2023-11-14T05:14:45.509175Z",
     "start_time": "2023-11-14T05:14:45.447003Z"
    }
   },
   "outputs": [
    {
     "data": {
      "text/html": [
       "<div>\n",
       "<style scoped>\n",
       "    .dataframe tbody tr th:only-of-type {\n",
       "        vertical-align: middle;\n",
       "    }\n",
       "\n",
       "    .dataframe tbody tr th {\n",
       "        vertical-align: top;\n",
       "    }\n",
       "\n",
       "    .dataframe thead th {\n",
       "        text-align: right;\n",
       "    }\n",
       "</style>\n",
       "<table border=\"1\" class=\"dataframe\">\n",
       "  <thead>\n",
       "    <tr style=\"text-align: right;\">\n",
       "      <th></th>\n",
       "      <th>sexo_M</th>\n",
       "      <th>tipoadm_Emergency</th>\n",
       "      <th>tipoadm_Medical</th>\n",
       "      <th>site_primario_breast</th>\n",
       "      <th>site_primario_digestive tract</th>\n",
       "      <th>site_primario_genital system</th>\n",
       "      <th>site_primario_hematological</th>\n",
       "      <th>site_primario_oral cavity and pharynx</th>\n",
       "      <th>site_primario_other/undeterm</th>\n",
       "      <th>site_primario_respiratory system</th>\n",
       "      <th>...</th>\n",
       "      <th>status_cancer_Controlado_remissao</th>\n",
       "      <th>extensao_cancer_Limitado</th>\n",
       "      <th>extensao_cancer_Localmente avancado</th>\n",
       "      <th>extensao_cancer_Metastase a distancia</th>\n",
       "      <th>tipo_cirurgia_Nao</th>\n",
       "      <th>tipo_cirurgia_Paliativa</th>\n",
       "      <th>tipo_quimioterapia_Nao</th>\n",
       "      <th>tipo_quimioterapia_Paliativa</th>\n",
       "      <th>tipo_radioterapia_Nao</th>\n",
       "      <th>tipo_radioterapia_Paliativa</th>\n",
       "    </tr>\n",
       "  </thead>\n",
       "  <tbody>\n",
       "    <tr>\n",
       "      <th>count</th>\n",
       "      <td>793.000000</td>\n",
       "      <td>793.000000</td>\n",
       "      <td>793.000000</td>\n",
       "      <td>793.000000</td>\n",
       "      <td>793.000000</td>\n",
       "      <td>793.000000</td>\n",
       "      <td>793.000000</td>\n",
       "      <td>793.000000</td>\n",
       "      <td>793.000000</td>\n",
       "      <td>793.000000</td>\n",
       "      <td>...</td>\n",
       "      <td>793.000000</td>\n",
       "      <td>793.000000</td>\n",
       "      <td>793.000000</td>\n",
       "      <td>793.000000</td>\n",
       "      <td>793.000000</td>\n",
       "      <td>793.000000</td>\n",
       "      <td>793.000000</td>\n",
       "      <td>793.000000</td>\n",
       "      <td>793.000000</td>\n",
       "      <td>793.000000</td>\n",
       "    </tr>\n",
       "    <tr>\n",
       "      <th>mean</th>\n",
       "      <td>0.577554</td>\n",
       "      <td>0.050441</td>\n",
       "      <td>0.442623</td>\n",
       "      <td>0.063052</td>\n",
       "      <td>0.350567</td>\n",
       "      <td>0.123581</td>\n",
       "      <td>0.081967</td>\n",
       "      <td>0.071879</td>\n",
       "      <td>0.090794</td>\n",
       "      <td>0.069357</td>\n",
       "      <td>...</td>\n",
       "      <td>0.061791</td>\n",
       "      <td>0.325347</td>\n",
       "      <td>0.358134</td>\n",
       "      <td>0.298865</td>\n",
       "      <td>0.393443</td>\n",
       "      <td>0.071879</td>\n",
       "      <td>0.619168</td>\n",
       "      <td>0.108449</td>\n",
       "      <td>0.784363</td>\n",
       "      <td>0.031526</td>\n",
       "    </tr>\n",
       "    <tr>\n",
       "      <th>std</th>\n",
       "      <td>0.494261</td>\n",
       "      <td>0.218992</td>\n",
       "      <td>0.497010</td>\n",
       "      <td>0.243209</td>\n",
       "      <td>0.477449</td>\n",
       "      <td>0.329311</td>\n",
       "      <td>0.274488</td>\n",
       "      <td>0.258450</td>\n",
       "      <td>0.287498</td>\n",
       "      <td>0.254220</td>\n",
       "      <td>...</td>\n",
       "      <td>0.240927</td>\n",
       "      <td>0.468800</td>\n",
       "      <td>0.479754</td>\n",
       "      <td>0.458049</td>\n",
       "      <td>0.488822</td>\n",
       "      <td>0.258450</td>\n",
       "      <td>0.485898</td>\n",
       "      <td>0.311143</td>\n",
       "      <td>0.411523</td>\n",
       "      <td>0.174844</td>\n",
       "    </tr>\n",
       "    <tr>\n",
       "      <th>min</th>\n",
       "      <td>0.000000</td>\n",
       "      <td>0.000000</td>\n",
       "      <td>0.000000</td>\n",
       "      <td>0.000000</td>\n",
       "      <td>0.000000</td>\n",
       "      <td>0.000000</td>\n",
       "      <td>0.000000</td>\n",
       "      <td>0.000000</td>\n",
       "      <td>0.000000</td>\n",
       "      <td>0.000000</td>\n",
       "      <td>...</td>\n",
       "      <td>0.000000</td>\n",
       "      <td>0.000000</td>\n",
       "      <td>0.000000</td>\n",
       "      <td>0.000000</td>\n",
       "      <td>0.000000</td>\n",
       "      <td>0.000000</td>\n",
       "      <td>0.000000</td>\n",
       "      <td>0.000000</td>\n",
       "      <td>0.000000</td>\n",
       "      <td>0.000000</td>\n",
       "    </tr>\n",
       "    <tr>\n",
       "      <th>25%</th>\n",
       "      <td>0.000000</td>\n",
       "      <td>0.000000</td>\n",
       "      <td>0.000000</td>\n",
       "      <td>0.000000</td>\n",
       "      <td>0.000000</td>\n",
       "      <td>0.000000</td>\n",
       "      <td>0.000000</td>\n",
       "      <td>0.000000</td>\n",
       "      <td>0.000000</td>\n",
       "      <td>0.000000</td>\n",
       "      <td>...</td>\n",
       "      <td>0.000000</td>\n",
       "      <td>0.000000</td>\n",
       "      <td>0.000000</td>\n",
       "      <td>0.000000</td>\n",
       "      <td>0.000000</td>\n",
       "      <td>0.000000</td>\n",
       "      <td>0.000000</td>\n",
       "      <td>0.000000</td>\n",
       "      <td>1.000000</td>\n",
       "      <td>0.000000</td>\n",
       "    </tr>\n",
       "    <tr>\n",
       "      <th>50%</th>\n",
       "      <td>1.000000</td>\n",
       "      <td>0.000000</td>\n",
       "      <td>0.000000</td>\n",
       "      <td>0.000000</td>\n",
       "      <td>0.000000</td>\n",
       "      <td>0.000000</td>\n",
       "      <td>0.000000</td>\n",
       "      <td>0.000000</td>\n",
       "      <td>0.000000</td>\n",
       "      <td>0.000000</td>\n",
       "      <td>...</td>\n",
       "      <td>0.000000</td>\n",
       "      <td>0.000000</td>\n",
       "      <td>0.000000</td>\n",
       "      <td>0.000000</td>\n",
       "      <td>0.000000</td>\n",
       "      <td>0.000000</td>\n",
       "      <td>1.000000</td>\n",
       "      <td>0.000000</td>\n",
       "      <td>1.000000</td>\n",
       "      <td>0.000000</td>\n",
       "    </tr>\n",
       "    <tr>\n",
       "      <th>75%</th>\n",
       "      <td>1.000000</td>\n",
       "      <td>0.000000</td>\n",
       "      <td>1.000000</td>\n",
       "      <td>0.000000</td>\n",
       "      <td>1.000000</td>\n",
       "      <td>0.000000</td>\n",
       "      <td>0.000000</td>\n",
       "      <td>0.000000</td>\n",
       "      <td>0.000000</td>\n",
       "      <td>0.000000</td>\n",
       "      <td>...</td>\n",
       "      <td>0.000000</td>\n",
       "      <td>1.000000</td>\n",
       "      <td>1.000000</td>\n",
       "      <td>1.000000</td>\n",
       "      <td>1.000000</td>\n",
       "      <td>0.000000</td>\n",
       "      <td>1.000000</td>\n",
       "      <td>0.000000</td>\n",
       "      <td>1.000000</td>\n",
       "      <td>0.000000</td>\n",
       "    </tr>\n",
       "    <tr>\n",
       "      <th>max</th>\n",
       "      <td>1.000000</td>\n",
       "      <td>1.000000</td>\n",
       "      <td>1.000000</td>\n",
       "      <td>1.000000</td>\n",
       "      <td>1.000000</td>\n",
       "      <td>1.000000</td>\n",
       "      <td>1.000000</td>\n",
       "      <td>1.000000</td>\n",
       "      <td>1.000000</td>\n",
       "      <td>1.000000</td>\n",
       "      <td>...</td>\n",
       "      <td>1.000000</td>\n",
       "      <td>1.000000</td>\n",
       "      <td>1.000000</td>\n",
       "      <td>1.000000</td>\n",
       "      <td>1.000000</td>\n",
       "      <td>1.000000</td>\n",
       "      <td>1.000000</td>\n",
       "      <td>1.000000</td>\n",
       "      <td>1.000000</td>\n",
       "      <td>1.000000</td>\n",
       "    </tr>\n",
       "  </tbody>\n",
       "</table>\n",
       "<p>8 rows × 22 columns</p>\n",
       "</div>"
      ],
      "text/plain": [
       "           sexo_M  tipoadm_Emergency  tipoadm_Medical  site_primario_breast  \\\n",
       "count  793.000000         793.000000       793.000000            793.000000   \n",
       "mean     0.577554           0.050441         0.442623              0.063052   \n",
       "std      0.494261           0.218992         0.497010              0.243209   \n",
       "min      0.000000           0.000000         0.000000              0.000000   \n",
       "25%      0.000000           0.000000         0.000000              0.000000   \n",
       "50%      1.000000           0.000000         0.000000              0.000000   \n",
       "75%      1.000000           0.000000         1.000000              0.000000   \n",
       "max      1.000000           1.000000         1.000000              1.000000   \n",
       "\n",
       "       site_primario_digestive tract  site_primario_genital system  \\\n",
       "count                     793.000000                    793.000000   \n",
       "mean                        0.350567                      0.123581   \n",
       "std                         0.477449                      0.329311   \n",
       "min                         0.000000                      0.000000   \n",
       "25%                         0.000000                      0.000000   \n",
       "50%                         0.000000                      0.000000   \n",
       "75%                         1.000000                      0.000000   \n",
       "max                         1.000000                      1.000000   \n",
       "\n",
       "       site_primario_hematological  site_primario_oral cavity and pharynx  \\\n",
       "count                   793.000000                             793.000000   \n",
       "mean                      0.081967                               0.071879   \n",
       "std                       0.274488                               0.258450   \n",
       "min                       0.000000                               0.000000   \n",
       "25%                       0.000000                               0.000000   \n",
       "50%                       0.000000                               0.000000   \n",
       "75%                       0.000000                               0.000000   \n",
       "max                       1.000000                               1.000000   \n",
       "\n",
       "       site_primario_other/undeterm  site_primario_respiratory system  ...  \\\n",
       "count                    793.000000                        793.000000  ...   \n",
       "mean                       0.090794                          0.069357  ...   \n",
       "std                        0.287498                          0.254220  ...   \n",
       "min                        0.000000                          0.000000  ...   \n",
       "25%                        0.000000                          0.000000  ...   \n",
       "50%                        0.000000                          0.000000  ...   \n",
       "75%                        0.000000                          0.000000  ...   \n",
       "max                        1.000000                          1.000000  ...   \n",
       "\n",
       "       status_cancer_Controlado_remissao  extensao_cancer_Limitado  \\\n",
       "count                         793.000000                793.000000   \n",
       "mean                            0.061791                  0.325347   \n",
       "std                             0.240927                  0.468800   \n",
       "min                             0.000000                  0.000000   \n",
       "25%                             0.000000                  0.000000   \n",
       "50%                             0.000000                  0.000000   \n",
       "75%                             0.000000                  1.000000   \n",
       "max                             1.000000                  1.000000   \n",
       "\n",
       "       extensao_cancer_Localmente avancado  \\\n",
       "count                           793.000000   \n",
       "mean                              0.358134   \n",
       "std                               0.479754   \n",
       "min                               0.000000   \n",
       "25%                               0.000000   \n",
       "50%                               0.000000   \n",
       "75%                               1.000000   \n",
       "max                               1.000000   \n",
       "\n",
       "       extensao_cancer_Metastase a distancia  tipo_cirurgia_Nao  \\\n",
       "count                             793.000000         793.000000   \n",
       "mean                                0.298865           0.393443   \n",
       "std                                 0.458049           0.488822   \n",
       "min                                 0.000000           0.000000   \n",
       "25%                                 0.000000           0.000000   \n",
       "50%                                 0.000000           0.000000   \n",
       "75%                                 1.000000           1.000000   \n",
       "max                                 1.000000           1.000000   \n",
       "\n",
       "       tipo_cirurgia_Paliativa  tipo_quimioterapia_Nao  \\\n",
       "count               793.000000              793.000000   \n",
       "mean                  0.071879                0.619168   \n",
       "std                   0.258450                0.485898   \n",
       "min                   0.000000                0.000000   \n",
       "25%                   0.000000                0.000000   \n",
       "50%                   0.000000                1.000000   \n",
       "75%                   0.000000                1.000000   \n",
       "max                   1.000000                1.000000   \n",
       "\n",
       "       tipo_quimioterapia_Paliativa  tipo_radioterapia_Nao  \\\n",
       "count                    793.000000             793.000000   \n",
       "mean                       0.108449               0.784363   \n",
       "std                        0.311143               0.411523   \n",
       "min                        0.000000               0.000000   \n",
       "25%                        0.000000               1.000000   \n",
       "50%                        0.000000               1.000000   \n",
       "75%                        0.000000               1.000000   \n",
       "max                        1.000000               1.000000   \n",
       "\n",
       "       tipo_radioterapia_Paliativa  \n",
       "count                   793.000000  \n",
       "mean                      0.031526  \n",
       "std                       0.174844  \n",
       "min                       0.000000  \n",
       "25%                       0.000000  \n",
       "50%                       0.000000  \n",
       "75%                       0.000000  \n",
       "max                       1.000000  \n",
       "\n",
       "[8 rows x 22 columns]"
      ]
     },
     "execution_count": 18,
     "metadata": {},
     "output_type": "execute_result"
    }
   ],
   "source": [
    "df_dummies.describe()"
   ]
  },
  {
   "cell_type": "code",
   "execution_count": 19,
   "id": "921b1279",
   "metadata": {
    "ExecuteTime": {
     "end_time": "2023-11-14T05:14:46.069206Z",
     "start_time": "2023-11-14T05:14:46.066617Z"
    }
   },
   "outputs": [],
   "source": [
    "lstFeatures = lstDummies + lstNum + lstSimNao + lstYesNo"
   ]
  },
  {
   "cell_type": "code",
   "execution_count": 20,
   "id": "cba4592d",
   "metadata": {
    "ExecuteTime": {
     "end_time": "2023-11-14T05:14:46.456736Z",
     "start_time": "2023-11-14T05:14:46.452922Z"
    }
   },
   "outputs": [
    {
     "data": {
      "text/plain": [
       "35"
      ]
     },
     "execution_count": 20,
     "metadata": {},
     "output_type": "execute_result"
    }
   ],
   "source": [
    "len(lstFeatures)"
   ]
  },
  {
   "cell_type": "code",
   "execution_count": 21,
   "id": "0e6c63ac",
   "metadata": {
    "ExecuteTime": {
     "end_time": "2023-11-14T05:14:46.864527Z",
     "start_time": "2023-11-14T05:14:46.862003Z"
    }
   },
   "outputs": [],
   "source": [
    "lstTarget = ['event', 'tempo']"
   ]
  },
  {
   "cell_type": "code",
   "execution_count": 22,
   "id": "d053c3a0",
   "metadata": {
    "ExecuteTime": {
     "end_time": "2023-11-14T05:14:47.272122Z",
     "start_time": "2023-11-14T05:14:47.266927Z"
    }
   },
   "outputs": [],
   "source": [
    "X = df[lstFeatures]\n",
    "y = df[lstTarget].to_records(index=False)"
   ]
  },
  {
   "cell_type": "markdown",
   "id": "7ef711ee",
   "metadata": {},
   "source": [
    "Proporção de censura:"
   ]
  },
  {
   "cell_type": "code",
   "execution_count": 23,
   "id": "e907dda6",
   "metadata": {
    "ExecuteTime": {
     "end_time": "2023-11-14T05:14:47.749469Z",
     "start_time": "2023-11-14T05:14:47.742678Z"
    }
   },
   "outputs": [
    {
     "data": {
      "text/plain": [
       "count    793.000000\n",
       "mean     334.755359\n",
       "std      316.023339\n",
       "min        0.000000\n",
       "25%       22.000000\n",
       "50%      200.000000\n",
       "75%      721.000000\n",
       "max      783.000000\n",
       "Name: tempo, dtype: float64"
      ]
     },
     "execution_count": 23,
     "metadata": {},
     "output_type": "execute_result"
    }
   ],
   "source": [
    "df['tempo'].describe()"
   ]
  },
  {
   "cell_type": "code",
   "execution_count": 24,
   "id": "a2a7e770",
   "metadata": {
    "ExecuteTime": {
     "end_time": "2023-11-14T05:14:48.158028Z",
     "start_time": "2023-11-14T05:14:48.153623Z"
    }
   },
   "outputs": [
    {
     "data": {
      "text/plain": [
       "0.3404791929382094"
      ]
     },
     "execution_count": 24,
     "metadata": {},
     "output_type": "execute_result"
    }
   ],
   "source": [
    "1 - y['event'].mean()"
   ]
  },
  {
   "cell_type": "markdown",
   "id": "43c4c551",
   "metadata": {},
   "source": [
    "Re-amostragem:"
   ]
  },
  {
   "cell_type": "code",
   "execution_count": 25,
   "id": "849ce0c2",
   "metadata": {
    "ExecuteTime": {
     "end_time": "2023-11-14T05:14:48.939635Z",
     "start_time": "2023-11-14T05:14:48.934418Z"
    }
   },
   "outputs": [],
   "source": [
    "#### Então marcar os eventos como censurados. Não precisa fazer réplicas. \n",
    "def resample(df, lstFeatures, lstTarget, threshold):\n",
    "    new_df = df.copy(deep=True)\n",
    "    n = new_df.shape[0]\n",
    "    seed = 1234\n",
    "    rs = np.random.RandomState(seed=seed)\n",
    "    proportions = rs.uniform(size=n)\n",
    "    new_df['event'] = np.where(new_df['event'], threshold > proportions, new_df['event'])\n",
    "    new_df['tempo'] = np.where(new_df['event']==False, 725.5, \n",
    "                               new_df['tempo'])\n",
    "    n = new_df.shape[0]\n",
    "    new_df = new_df.sample(n=n, random_state=seed, replace=False)\n",
    "    return new_df"
   ]
  },
  {
   "cell_type": "code",
   "execution_count": 26,
   "id": "2b0c7e8d",
   "metadata": {
    "ExecuteTime": {
     "end_time": "2023-11-14T05:14:49.425617Z",
     "start_time": "2023-11-14T05:14:49.422637Z"
    }
   },
   "outputs": [],
   "source": [
    "proportions = [0.15, 0.3, 0.45, 0.6, 0.75]"
   ]
  },
  {
   "cell_type": "code",
   "execution_count": 27,
   "id": "da77484c",
   "metadata": {
    "ExecuteTime": {
     "end_time": "2023-11-14T05:14:49.685102Z",
     "start_time": "2023-11-14T05:14:49.668478Z"
    }
   },
   "outputs": [],
   "source": [
    "lst_samples = list(map(lambda p: resample(df, lstFeatures, lstTarget, p), proportions))"
   ]
  },
  {
   "cell_type": "code",
   "execution_count": 28,
   "id": "94433867",
   "metadata": {
    "ExecuteTime": {
     "end_time": "2023-11-14T05:14:49.971048Z",
     "start_time": "2023-11-14T05:14:49.968439Z"
    }
   },
   "outputs": [],
   "source": [
    "lst_samples.append(df)"
   ]
  },
  {
   "cell_type": "code",
   "execution_count": 29,
   "id": "8dee5349",
   "metadata": {
    "ExecuteTime": {
     "end_time": "2023-11-14T05:14:50.213672Z",
     "start_time": "2023-11-14T05:14:50.210904Z"
    }
   },
   "outputs": [],
   "source": [
    "lst_prop_censor = []"
   ]
  },
  {
   "cell_type": "code",
   "execution_count": 30,
   "id": "1e50e52e",
   "metadata": {
    "ExecuteTime": {
     "end_time": "2023-11-14T05:14:50.706089Z",
     "start_time": "2023-11-14T05:14:50.701719Z"
    }
   },
   "outputs": [],
   "source": [
    "for df in lst_samples:\n",
    "    censor = 1-np.round(df['event'].mean(),2)\n",
    "    lst_prop_censor.append(censor)"
   ]
  },
  {
   "cell_type": "code",
   "execution_count": 31,
   "id": "8188f969",
   "metadata": {
    "ExecuteTime": {
     "end_time": "2023-11-14T05:14:51.835413Z",
     "start_time": "2023-11-14T05:14:51.830840Z"
    }
   },
   "outputs": [],
   "source": [
    "def simulate_model(df, lstFeatures, lstTarget, model, dict_hyperparams):\n",
    "    X = df[lstFeatures]\n",
    "    y = df[lstTarget].to_records(index=False)\n",
    "    X_train, X_test, y_train, y_test = train_test_split(X, y, test_size=0.15, random_state=42)\n",
    "    instance = model(**dict_hyperparams)\n",
    "    instance.fit(X_train,  y_train)\n",
    "    train_score = instance.score(X_train, y_train)\n",
    "    test_score = instance.score(X_test, y_test)\n",
    "    return train_score, test_score"
   ]
  },
  {
   "cell_type": "code",
   "execution_count": 44,
   "id": "66c7351f",
   "metadata": {
    "ExecuteTime": {
     "end_time": "2023-11-14T05:15:36.793771Z",
     "start_time": "2023-11-14T05:15:36.790846Z"
    }
   },
   "outputs": [],
   "source": [
    "rsf_hyperparms = {'max_depth': 7, 'max_features': 5, 'min_samples_leaf': 5, 'n_estimators': 50}"
   ]
  },
  {
   "cell_type": "code",
   "execution_count": 45,
   "id": "c82bf399",
   "metadata": {
    "ExecuteTime": {
     "end_time": "2023-11-14T05:15:37.368228Z",
     "start_time": "2023-11-14T05:15:37.365520Z"
    }
   },
   "outputs": [],
   "source": [
    "lst_rsf_scores = []"
   ]
  },
  {
   "cell_type": "code",
   "execution_count": 46,
   "id": "6ab96d3d",
   "metadata": {
    "ExecuteTime": {
     "end_time": "2023-11-14T05:15:39.449188Z",
     "start_time": "2023-11-14T05:15:37.901758Z"
    }
   },
   "outputs": [],
   "source": [
    "for df in lst_samples: \n",
    "    rsf_scores = simulate_model(df, \n",
    "                             lstFeatures, \n",
    "                             lstTarget, \n",
    "                             RandomSurvivalForest,\n",
    "                             rsf_hyperparms)\n",
    "    lst_rsf_scores.append(rsf_scores)"
   ]
  },
  {
   "cell_type": "code",
   "execution_count": 47,
   "id": "728254a0",
   "metadata": {
    "ExecuteTime": {
     "end_time": "2023-11-14T05:15:39.610243Z",
     "start_time": "2023-11-14T05:15:39.607731Z"
    }
   },
   "outputs": [],
   "source": [
    "gbs_hyperparams = {\"max_depth\":2,\n",
    "                   \"min_samples_leaf\":5,\n",
    "                   \"n_estimators\":100,\n",
    "                   \"loss\": \"coxph\"}"
   ]
  },
  {
   "cell_type": "code",
   "execution_count": 48,
   "id": "c4f950e8",
   "metadata": {
    "ExecuteTime": {
     "end_time": "2023-11-14T05:15:40.500153Z",
     "start_time": "2023-11-14T05:15:40.497600Z"
    }
   },
   "outputs": [],
   "source": [
    "lst_gbs_scores = []"
   ]
  },
  {
   "cell_type": "code",
   "execution_count": 49,
   "id": "f1836bd9",
   "metadata": {
    "ExecuteTime": {
     "end_time": "2023-11-14T05:15:43.480598Z",
     "start_time": "2023-11-14T05:15:40.935299Z"
    }
   },
   "outputs": [],
   "source": [
    "for df in lst_samples: \n",
    "    gbs_scores = simulate_model(df, \n",
    "                             lstFeatures, \n",
    "                             lstTarget, \n",
    "                             GradientBoostingSurvivalAnalysis,\n",
    "                             gbs_hyperparams)\n",
    "    lst_gbs_scores.append(gbs_scores)"
   ]
  },
  {
   "cell_type": "code",
   "execution_count": 50,
   "id": "963c7183",
   "metadata": {
    "ExecuteTime": {
     "end_time": "2023-11-14T05:15:43.625500Z",
     "start_time": "2023-11-14T05:15:43.623434Z"
    }
   },
   "outputs": [],
   "source": [
    "st_hyperparams = {\"max_depth\": 6,\n",
    "                  \"min_samples_leaf\": 30}"
   ]
  },
  {
   "cell_type": "code",
   "execution_count": 51,
   "id": "b3c4d488",
   "metadata": {
    "ExecuteTime": {
     "end_time": "2023-11-14T05:15:43.780964Z",
     "start_time": "2023-11-14T05:15:43.778459Z"
    }
   },
   "outputs": [],
   "source": [
    "lst_st_scores = []"
   ]
  },
  {
   "cell_type": "code",
   "execution_count": 52,
   "id": "6f08769e",
   "metadata": {
    "ExecuteTime": {
     "end_time": "2023-11-14T05:15:44.246271Z",
     "start_time": "2023-11-14T05:15:43.950233Z"
    }
   },
   "outputs": [],
   "source": [
    "for df in lst_samples: \n",
    "    st_scores = simulate_model(df, \n",
    "                             lstFeatures, \n",
    "                             lstTarget, \n",
    "                             SurvivalTree,\n",
    "                             st_hyperparams)\n",
    "    lst_st_scores.append(st_scores)"
   ]
  },
  {
   "cell_type": "code",
   "execution_count": 53,
   "id": "75758cb5",
   "metadata": {
    "ExecuteTime": {
     "end_time": "2023-11-14T05:15:44.845443Z",
     "start_time": "2023-11-14T05:15:44.698101Z"
    }
   },
   "outputs": [
    {
     "data": {
      "text/plain": [
       "(0.5, 1.0)"
      ]
     },
     "execution_count": 53,
     "metadata": {},
     "output_type": "execute_result"
    },
    {
     "data": {
      "image/png": "[encoded data removed]",
      "text/plain": [
       "<Figure size 432x288 with 1 Axes>"
      ]
     },
     "metadata": {
      "needs_background": "light"
     },
     "output_type": "display_data"
    }
   ],
   "source": [
    "sns.lineplot(x=lst_prop_censor, y=list(map(lambda x: x[0], lst_st_scores)), color='black')\n",
    "sns.lineplot(x=lst_prop_censor, y=list(map(lambda x: x[1], lst_st_scores)), color='gray')\n",
    "plt.xlabel(\"Proporção de censura\")\n",
    "plt.ylabel(\"Indice C\")\n",
    "plt.legend(['treino', 'teste'])\n",
    "plt.ylim(0.5, 1.)"
   ]
  },
  {
   "cell_type": "code",
   "execution_count": 54,
   "id": "2fcb799d",
   "metadata": {
    "ExecuteTime": {
     "end_time": "2023-11-14T05:15:45.811264Z",
     "start_time": "2023-11-14T05:15:45.609736Z"
    }
   },
   "outputs": [
    {
     "data": {
      "text/plain": [
       "(0.5, 1.0)"
      ]
     },
     "execution_count": 54,
     "metadata": {},
     "output_type": "execute_result"
    },
    {
     "data": {
      "image/png": "[encoded data removed]",
      "text/plain": [
       "<Figure size 432x288 with 1 Axes>"
      ]
     },
     "metadata": {
      "needs_background": "light"
     },
     "output_type": "display_data"
    }
   ],
   "source": [
    "sns.lineplot(x=lst_prop_censor, y=list(map(lambda x: x[0], lst_rsf_scores)), color='black')\n",
    "sns.lineplot(x=lst_prop_censor, y=list(map(lambda x: x[1], lst_rsf_scores)), color='gray')\n",
    "plt.xlabel(\"Proporção de censura\")\n",
    "plt.ylabel(\"Indice C\")\n",
    "plt.legend(['treino', 'teste'])\n",
    "plt.ylim(0.5, 1.)"
   ]
  },
  {
   "cell_type": "code",
   "execution_count": 55,
   "id": "7c76e779",
   "metadata": {
    "ExecuteTime": {
     "end_time": "2023-11-14T05:15:47.204687Z",
     "start_time": "2023-11-14T05:15:47.057966Z"
    }
   },
   "outputs": [
    {
     "data": {
      "text/plain": [
       "(0.5, 1.0)"
      ]
     },
     "execution_count": 55,
     "metadata": {},
     "output_type": "execute_result"
    },
    {
     "data": {
      "image/png": "[encoded data removed]",
      "text/plain": [
       "<Figure size 432x288 with 1 Axes>"
      ]
     },
     "metadata": {
      "needs_background": "light"
     },
     "output_type": "display_data"
    }
   ],
   "source": [
    "sns.lineplot(x=lst_prop_censor, y=list(map(lambda x: x[0], lst_gbs_scores)), color='black')\n",
    "sns.lineplot(x=lst_prop_censor, y=list(map(lambda x: x[1], lst_gbs_scores)), color='gray')\n",
    "plt.xlabel(\"Proporção de censura\")\n",
    "plt.ylabel(\"Indice C\")\n",
    "plt.legend(['treino', 'teste'])\n",
    "plt.ylim(0.5, 1.)"
   ]
  },
  {
   "cell_type": "code",
   "execution_count": 62,
   "id": "bfea9876",
   "metadata": {
    "ExecuteTime": {
     "end_time": "2023-11-14T05:39:54.772703Z",
     "start_time": "2023-11-14T05:39:54.424842Z"
    }
   },
   "outputs": [
    {
     "data": {
      "text/plain": [
       "<matplotlib.legend.Legend at 0x7f8a7feff650>"
      ]
     },
     "execution_count": 62,
     "metadata": {},
     "output_type": "execute_result"
    },
    {
     "data": {
      "image/png": "[encoded data removed]",
      "text/plain": [
       "<Figure size 1080x360 with 3 Axes>"
      ]
     },
     "metadata": {
      "needs_background": "light"
     },
     "output_type": "display_data"
    }
   ],
   "source": [
    "f, axes = plt.subplots(1, 3, figsize=(15, 5), sharex=True, sharey=True)\n",
    "sns.lineplot(x=lst_prop_censor, y=list(map(lambda x: x[0], lst_st_scores)), color='black', ax=axes[0])\n",
    "sns.lineplot(x=lst_prop_censor, y=list(map(lambda x: x[1], lst_st_scores)), color='gray', ax=axes[0])\n",
    "sns.lineplot(x=lst_prop_censor, y=list(map(lambda x: x[0], lst_gbs_scores)), color='black', ax=axes[1])\n",
    "sns.lineplot(x=lst_prop_censor, y=list(map(lambda x: x[1], lst_gbs_scores)), color='gray', ax=axes[1])\n",
    "sns.lineplot(x=lst_prop_censor, y=list(map(lambda x: x[0], lst_rsf_scores)), color='black', ax=axes[2])\n",
    "sns.lineplot(x=lst_prop_censor, y=list(map(lambda x: x[1], lst_rsf_scores)), color='gray', ax=axes[2])\n",
    "axes[0].set_title(\"Árvore de Sobrevivência\")\n",
    "axes[1].set_title(\"Gradient Boosting Survival Tree\")\n",
    "axes[2].set_title(\"Floresta de Sobrevivência Aleatória\")\n",
    "axes[0].set_ylabel(\"Índice C\")\n",
    "axes[1].set_xlabel(\"Proporção de censura\")\n",
    "axes[0].set_ylim(0.5, 1)\n",
    "axes[0].axvline(0.34, linestyle=\"dashed\", color=\"lightgray\")\n",
    "axes[1].axvline(0.34, linestyle=\"dashed\", color=\"lightgray\")\n",
    "axes[2].axvline(0.34, linestyle=\"dashed\", color=\"lightgray\")\n",
    "plt.legend(['treino','teste'])"
   ]
  },
  {
   "cell_type": "code",
   "execution_count": null,
   "id": "4b66d89b",
   "metadata": {},
   "outputs": [],
   "source": []
  }
 ],
 "metadata": {
  "kernelspec": {
   "display_name": "Python 3 (ipykernel)",
   "language": "python",
   "name": "python3"
  },
  "language_info": {
   "codemirror_mode": {
    "name": "ipython",
    "version": 3
   },
   "file_extension": ".py",
   "mimetype": "text/x-python",
   "name": "python",
   "nbconvert_exporter": "python",
   "pygments_lexer": "ipython3",
   "version": "3.7.7"
  },
  "toc": {
   "base_numbering": 1,
   "nav_menu": {},
   "number_sections": true,
   "sideBar": true,
   "skip_h1_title": false,
   "title_cell": "Table of Contents",
   "title_sidebar": "Contents",
   "toc_cell": false,
   "toc_position": {},
   "toc_section_display": true,
   "toc_window_display": false
  },
  "varInspector": {
   "cols": {
    "lenName": 16,
    "lenType": 16,
    "lenVar": 40
   },
   "kernels_config": {
    "python": {
     "delete_cmd_postfix": "",
     "delete_cmd_prefix": "del ",
     "library": "var_list.py",
     "varRefreshCmd": "print(var_dic_list())"
    },
    "r": {
     "delete_cmd_postfix": ") ",
     "delete_cmd_prefix": "rm(",
     "library": "var_list.r",
     "varRefreshCmd": "cat(var_dic_list()) "
    }
   },
   "types_to_exclude": [
    "module",
    "function",
    "builtin_function_or_method",
    "instance",
    "_Feature"
   ],
   "window_display": false
  }
 },
 "nbformat": 4,
 "nbformat_minor": 5
}
